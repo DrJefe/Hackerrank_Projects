{
 "cells": [
  {
   "cell_type": "markdown",
   "metadata": {},
   "source": [
    "Answers to Hackerrank Algorithm challenges. Written without editorial or discussion help unless otherwise noted.\n",
    "<br>\n",
    "By: Alfred Lyle"
   ]
  },
  {
   "cell_type": "markdown",
   "metadata": {},
   "source": [
    "Implementation Challenges:\n",
    "<br>\n",
    "Answer to Divisible Sum Pairs: https://www.hackerrank.com/challenges/divisible-sum-pairs"
   ]
  },
  {
   "cell_type": "code",
   "execution_count": null,
   "metadata": {
    "collapsed": true
   },
   "outputs": [],
   "source": [
    "#!/bin/python\n",
    "\n",
    "import sys\n",
    "\n",
    "def divisibleSumPairs(n, k, ar):\n",
    "    # Complete this function\n",
    "    count=0\n",
    "    for i in range(n-1):\n",
    "        for j in range(i+1, n):\n",
    "            if (ar[i]+ar[j])%k==0:\n",
    "                count+=1\n",
    "    return count\n",
    "            \n",
    "\n",
    "n, k = raw_input().strip().split(' ')\n",
    "n, k = [int(n), int(k)]\n",
    "ar = map(int, raw_input().strip().split(' '))\n",
    "result = divisibleSumPairs(n, k, ar)\n",
    "print(result)"
   ]
  },
  {
   "cell_type": "markdown",
   "metadata": {},
   "source": [
    "Answer to Migratory Birds: https://www.hackerrank.com/challenges/migratory-birds"
   ]
  },
  {
   "cell_type": "code",
   "execution_count": null,
   "metadata": {
    "collapsed": true
   },
   "outputs": [],
   "source": [
    "#!/bin/python\n",
    "\n",
    "import sys\n",
    "\n",
    "def migratoryBirds(n, ar):\n",
    "    # Complete this function\n",
    "    max_type = 1\n",
    "    max_count = 0\n",
    "    for bird_type in range(1,6):\n",
    "        bird_count = ar.count(bird_type)\n",
    "        if bird_count > max_count:\n",
    "            max_count = bird_count\n",
    "            max_type = bird_type\n",
    "    return max_type\n",
    "\n",
    "n = int(raw_input().strip())\n",
    "ar = map(int, raw_input().strip().split(' '))\n",
    "result = migratoryBirds(n, ar)\n",
    "print(result)"
   ]
  },
  {
   "cell_type": "markdown",
   "metadata": {},
   "source": [
    "Answer to Bon Appetit: https://www.hackerrank.com/challenges/bon-appetit"
   ]
  },
  {
   "cell_type": "code",
   "execution_count": null,
   "metadata": {
    "collapsed": true
   },
   "outputs": [],
   "source": [
    "#!/bin/python\n",
    "\n",
    "import sys\n",
    "\n",
    "def bonAppetit(n, k, b, ar):\n",
    "    # Complete this function\n",
    "    del ar[k]\n",
    "    anna_cost = sum(ar)/2\n",
    "    if anna_cost == b:\n",
    "        return 'Bon Appetit'\n",
    "    else:\n",
    "        return b-anna_cost\n",
    "\n",
    "n, k = raw_input().strip().split(' ')\n",
    "n, k = [int(n), int(k)]\n",
    "ar = map(int, raw_input().strip().split(' '))\n",
    "b = int(raw_input().strip())\n",
    "result = bonAppetit(n, k, b, ar)\n",
    "print(result)"
   ]
  },
  {
   "cell_type": "markdown",
   "metadata": {},
   "source": [
    "Answer to Sock Merchant: https://www.hackerrank.com/challenges/sock-merchant"
   ]
  },
  {
   "cell_type": "code",
   "execution_count": null,
   "metadata": {
    "collapsed": true
   },
   "outputs": [],
   "source": [
    "#!/bin/python\n",
    "\n",
    "import sys\n",
    "\n",
    "def sockMerchant(n, ar):\n",
    "    # Complete this function\n",
    "    sock_pairs = 0\n",
    "    sock_types = set(ar)\n",
    "    for sock in sock_types:\n",
    "        sock_pairs += ar.count(sock)/2\n",
    "    return sock_pairs\n",
    "        \n",
    "\n",
    "n = int(raw_input().strip())\n",
    "ar = map(int, raw_input().strip().split(' '))\n",
    "result = sockMerchant(n, ar)\n",
    "print(result)"
   ]
  },
  {
   "cell_type": "markdown",
   "metadata": {},
   "source": [
    "Answer to Drawing Book: https://www.hackerrank.com/challenges/drawing-book/problem"
   ]
  },
  {
   "cell_type": "code",
   "execution_count": null,
   "metadata": {
    "collapsed": true
   },
   "outputs": [],
   "source": [
    "#!/bin/python\n",
    "\n",
    "import sys\n",
    "\n",
    "def solve(n, p):\n",
    "    # Complete this function\n",
    "    if p==1 or p==n or (p==n-1 and (n-1)%2==0):\n",
    "        return 0\n",
    "    else:\n",
    "        if p%2==1:\n",
    "            p=p-1\n",
    "        if p <= n/2:\n",
    "            return p/2\n",
    "        else:\n",
    "            return (n-p)/2\n",
    "        \n",
    "\n",
    "n = int(raw_input().strip())\n",
    "p = int(raw_input().strip())\n",
    "result = solve(n, p)\n",
    "print(result)"
   ]
  },
  {
   "cell_type": "markdown",
   "metadata": {},
   "source": [
    "Answer to Counting Valleys: https://www.hackerrank.com/challenges/counting-valleys"
   ]
  },
  {
   "cell_type": "code",
   "execution_count": null,
   "metadata": {
    "collapsed": true
   },
   "outputs": [],
   "source": [
    "# Enter your code here. Read input from STDIN. Print output to STDOUT\n",
    "num_steps = raw_input().strip()\n",
    "up_down = str(raw_input().strip())\n",
    "valley_counter=0\n",
    "altitude=0\n",
    "in_valley=False\n",
    "for step in up_down:\n",
    "    if step == 'U':\n",
    "        altitude += 1\n",
    "    else:\n",
    "        altitude += -1\n",
    "    if altitude < 0 and in_valley==False:\n",
    "        in_valley = True\n",
    "    elif altitude == 0 and in_valley==True:\n",
    "        valley_counter+=1\n",
    "        in_valley = False\n",
    "print valley_counter"
   ]
  },
  {
   "cell_type": "markdown",
   "metadata": {},
   "source": [
    "Answer to challenge Electronics Shop: https://www.hackerrank.com/challenges/electronics-shop"
   ]
  },
  {
   "cell_type": "code",
   "execution_count": null,
   "metadata": {
    "collapsed": true
   },
   "outputs": [],
   "source": [
    "#!/bin/python\n",
    "\n",
    "import sys\n",
    "\n",
    "def getMoneySpent(keyboards, drives, s):\n",
    "    # Complete this function\n",
    "    all_costs = []\n",
    "    for keyboard in keyboards:\n",
    "        for drive in drives:\n",
    "            all_costs.append(keyboard+drive)\n",
    "    possible_costs = set(all_costs)\n",
    "    if s < min(possible_costs):\n",
    "        return -1\n",
    "    if s>= max(possible_costs):\n",
    "        return max(possible_costs)\n",
    "    else:\n",
    "        for i in range(s,0,-1):\n",
    "            if i in possible_costs:\n",
    "                return i\n",
    "\n",
    "s,n,m = raw_input().strip().split(' ')\n",
    "s,n,m = [int(s),int(n),int(m)]\n",
    "keyboards = map(int, raw_input().strip().split(' '))\n",
    "drives = map(int, raw_input().strip().split(' '))\n",
    "#  The maximum amount of money she can spend on a keyboard and USB drive, or -1 if she can't purchase both items\n",
    "moneySpent = getMoneySpent(keyboards, drives, s)\n",
    "print(moneySpent)"
   ]
  },
  {
   "cell_type": "markdown",
   "metadata": {},
   "source": [
    "Answer to challenge Cats and a Mouse: https://www.hackerrank.com/challenges/cats-and-a-mouse"
   ]
  },
  {
   "cell_type": "code",
   "execution_count": null,
   "metadata": {
    "collapsed": true
   },
   "outputs": [],
   "source": [
    "#!/bin/python\n",
    "\n",
    "import sys\n",
    "\n",
    "\n",
    "q = int(raw_input().strip())\n",
    "for a0 in xrange(q):\n",
    "    x,y,z = raw_input().strip().split(' ')\n",
    "    x,y,z = [int(x),int(y),int(z)]\n",
    "    catA_distance = abs(z-x)\n",
    "    catB_distance = abs(z-y)\n",
    "    if catA_distance < catB_distance:\n",
    "        print \"Cat A\"\n",
    "    elif catB_distance < catA_distance:\n",
    "        print \"Cat B\"\n",
    "    else:\n",
    "        print \"Mouse C\""
   ]
  }
 ],
 "metadata": {
  "kernelspec": {
   "display_name": "Python 2",
   "language": "python",
   "name": "python2"
  },
  "language_info": {
   "codemirror_mode": {
    "name": "ipython",
    "version": 2
   },
   "file_extension": ".py",
   "mimetype": "text/x-python",
   "name": "python",
   "nbconvert_exporter": "python",
   "pygments_lexer": "ipython2",
   "version": "2.7.13"
  }
 },
 "nbformat": 4,
 "nbformat_minor": 2
}
