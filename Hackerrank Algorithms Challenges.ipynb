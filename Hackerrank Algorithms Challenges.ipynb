{
 "cells": [
  {
   "cell_type": "markdown",
   "metadata": {},
   "source": [
    "#### Answers to Hackerrank Algorithm challenges. Written without editorial or discussion help unless otherwise noted.  Code written in Python 2.\n",
    "By: Alfred Lyle"
   ]
  },
  {
   "cell_type": "markdown",
   "metadata": {},
   "source": [
    "#### Implementation Challenges:\n",
    "<br>\n",
    "Answer to Divisible Sum Pairs: https://www.hackerrank.com/challenges/divisible-sum-pairs"
   ]
  },
  {
   "cell_type": "code",
   "execution_count": null,
   "metadata": {
    "collapsed": true
   },
   "outputs": [],
   "source": [
    "#!/bin/python\n",
    "\n",
    "import sys\n",
    "\n",
    "def divisibleSumPairs(n, k, ar):\n",
    "    # Complete this function\n",
    "    count=0\n",
    "    for i in range(n-1):\n",
    "        for j in range(i+1, n):\n",
    "            if (ar[i]+ar[j])%k==0:\n",
    "                count+=1\n",
    "    return count\n",
    "            \n",
    "\n",
    "n, k = raw_input().strip().split(' ')\n",
    "n, k = [int(n), int(k)]\n",
    "ar = map(int, raw_input().strip().split(' '))\n",
    "result = divisibleSumPairs(n, k, ar)\n",
    "print(result)"
   ]
  },
  {
   "cell_type": "markdown",
   "metadata": {},
   "source": [
    "Answer to Migratory Birds: https://www.hackerrank.com/challenges/migratory-birds"
   ]
  },
  {
   "cell_type": "code",
   "execution_count": null,
   "metadata": {
    "collapsed": true
   },
   "outputs": [],
   "source": [
    "#!/bin/python\n",
    "\n",
    "import sys\n",
    "\n",
    "def migratoryBirds(n, ar):\n",
    "    # Complete this function\n",
    "    max_type = 1\n",
    "    max_count = 0\n",
    "    for bird_type in range(1,6):\n",
    "        bird_count = ar.count(bird_type)\n",
    "        if bird_count > max_count:\n",
    "            max_count = bird_count\n",
    "            max_type = bird_type\n",
    "    return max_type\n",
    "\n",
    "n = int(raw_input().strip())\n",
    "ar = map(int, raw_input().strip().split(' '))\n",
    "result = migratoryBirds(n, ar)\n",
    "print(result)"
   ]
  },
  {
   "cell_type": "markdown",
   "metadata": {},
   "source": [
    "Answer to Bon Appetit: https://www.hackerrank.com/challenges/bon-appetit"
   ]
  },
  {
   "cell_type": "code",
   "execution_count": null,
   "metadata": {
    "collapsed": true
   },
   "outputs": [],
   "source": [
    "#!/bin/python\n",
    "\n",
    "import sys\n",
    "\n",
    "def bonAppetit(n, k, b, ar):\n",
    "    # Complete this function\n",
    "    del ar[k]\n",
    "    anna_cost = sum(ar)/2\n",
    "    if anna_cost == b:\n",
    "        return 'Bon Appetit'\n",
    "    else:\n",
    "        return b-anna_cost\n",
    "\n",
    "n, k = raw_input().strip().split(' ')\n",
    "n, k = [int(n), int(k)]\n",
    "ar = map(int, raw_input().strip().split(' '))\n",
    "b = int(raw_input().strip())\n",
    "result = bonAppetit(n, k, b, ar)\n",
    "print(result)"
   ]
  },
  {
   "cell_type": "markdown",
   "metadata": {},
   "source": [
    "Answer to Sock Merchant: https://www.hackerrank.com/challenges/sock-merchant"
   ]
  },
  {
   "cell_type": "code",
   "execution_count": null,
   "metadata": {
    "collapsed": true
   },
   "outputs": [],
   "source": [
    "#!/bin/python\n",
    "\n",
    "import sys\n",
    "\n",
    "def sockMerchant(n, ar):\n",
    "    # Complete this function\n",
    "    sock_pairs = 0\n",
    "    sock_types = set(ar)\n",
    "    for sock in sock_types:\n",
    "        sock_pairs += ar.count(sock)/2\n",
    "    return sock_pairs\n",
    "        \n",
    "\n",
    "n = int(raw_input().strip())\n",
    "ar = map(int, raw_input().strip().split(' '))\n",
    "result = sockMerchant(n, ar)\n",
    "print(result)"
   ]
  },
  {
   "cell_type": "markdown",
   "metadata": {},
   "source": [
    "Answer to Drawing Book: https://www.hackerrank.com/challenges/drawing-book/problem"
   ]
  },
  {
   "cell_type": "code",
   "execution_count": null,
   "metadata": {
    "collapsed": true
   },
   "outputs": [],
   "source": [
    "#!/bin/python\n",
    "\n",
    "import sys\n",
    "\n",
    "def solve(n, p):\n",
    "    # Complete this function\n",
    "    if p==1 or p==n or (p==n-1 and (n-1)%2==0):\n",
    "        return 0\n",
    "    else:\n",
    "        if p%2==1:\n",
    "            p=p-1\n",
    "        if p <= n/2:\n",
    "            return p/2\n",
    "        else:\n",
    "            return (n-p)/2\n",
    "        \n",
    "\n",
    "n = int(raw_input().strip())\n",
    "p = int(raw_input().strip())\n",
    "result = solve(n, p)\n",
    "print(result)"
   ]
  },
  {
   "cell_type": "markdown",
   "metadata": {},
   "source": [
    "Answer to Counting Valleys: https://www.hackerrank.com/challenges/counting-valleys"
   ]
  },
  {
   "cell_type": "code",
   "execution_count": null,
   "metadata": {
    "collapsed": true
   },
   "outputs": [],
   "source": [
    "# Enter your code here. Read input from STDIN. Print output to STDOUT\n",
    "num_steps = raw_input().strip()\n",
    "up_down = str(raw_input().strip())\n",
    "valley_counter=0\n",
    "altitude=0\n",
    "in_valley=False\n",
    "for step in up_down:\n",
    "    if step == 'U':\n",
    "        altitude += 1\n",
    "    else:\n",
    "        altitude += -1\n",
    "    if altitude < 0 and in_valley==False:\n",
    "        in_valley = True\n",
    "    elif altitude == 0 and in_valley==True:\n",
    "        valley_counter+=1\n",
    "        in_valley = False\n",
    "print valley_counter"
   ]
  },
  {
   "cell_type": "markdown",
   "metadata": {},
   "source": [
    "Answer to challenge Electronics Shop: https://www.hackerrank.com/challenges/electronics-shop"
   ]
  },
  {
   "cell_type": "code",
   "execution_count": null,
   "metadata": {
    "collapsed": true
   },
   "outputs": [],
   "source": [
    "#!/bin/python\n",
    "\n",
    "import sys\n",
    "\n",
    "def getMoneySpent(keyboards, drives, s):\n",
    "    # Complete this function\n",
    "    all_costs = []\n",
    "    for keyboard in keyboards:\n",
    "        for drive in drives:\n",
    "            all_costs.append(keyboard+drive)\n",
    "    possible_costs = set(all_costs)\n",
    "    if s < min(possible_costs):\n",
    "        return -1\n",
    "    if s>= max(possible_costs):\n",
    "        return max(possible_costs)\n",
    "    else:\n",
    "        for i in range(s,0,-1):\n",
    "            if i in possible_costs:\n",
    "                return i\n",
    "\n",
    "s,n,m = raw_input().strip().split(' ')\n",
    "s,n,m = [int(s),int(n),int(m)]\n",
    "keyboards = map(int, raw_input().strip().split(' '))\n",
    "drives = map(int, raw_input().strip().split(' '))\n",
    "#  The maximum amount of money she can spend on a keyboard and USB drive, or -1 if she can't purchase both items\n",
    "moneySpent = getMoneySpent(keyboards, drives, s)\n",
    "print(moneySpent)"
   ]
  },
  {
   "cell_type": "markdown",
   "metadata": {},
   "source": [
    "Answer to challenge Cats and a Mouse: https://www.hackerrank.com/challenges/cats-and-a-mouse"
   ]
  },
  {
   "cell_type": "code",
   "execution_count": null,
   "metadata": {
    "collapsed": true
   },
   "outputs": [],
   "source": [
    "#!/bin/python\n",
    "\n",
    "import sys\n",
    "\n",
    "\n",
    "q = int(raw_input().strip())\n",
    "for a0 in xrange(q):\n",
    "    x,y,z = raw_input().strip().split(' ')\n",
    "    x,y,z = [int(x),int(y),int(z)]\n",
    "    catA_distance = abs(z-x)\n",
    "    catB_distance = abs(z-y)\n",
    "    if catA_distance < catB_distance:\n",
    "        print \"Cat A\"\n",
    "    elif catB_distance < catA_distance:\n",
    "        print \"Cat B\"\n",
    "    else:\n",
    "        print \"Mouse C\""
   ]
  },
  {
   "cell_type": "markdown",
   "metadata": {},
   "source": [
    "#### Strings challenges:\n",
    "Answer to challenge Weighted Uniform Strings: https://www.hackerrank.com/challenges/weighted-uniform-string"
   ]
  },
  {
   "cell_type": "code",
   "execution_count": null,
   "metadata": {
    "collapsed": true
   },
   "outputs": [],
   "source": [
    "#!/bin/python\n",
    "\n",
    "import sys\n",
    "\n",
    "\n",
    "s = raw_input().strip()\n",
    "n = int(raw_input().strip())\n",
    "weight = -ord('a')+1\n",
    "U = set()\n",
    "previous_letter = s[0]\n",
    "previous_weight = ord(previous_letter)+weight\n",
    "U.add(previous_weight)\n",
    "for current_letter in s[1:]:\n",
    "    if current_letter == previous_letter:\n",
    "        substring_weight = ord(current_letter)+weight+previous_weight\n",
    "        previous_weight = substring_weight\n",
    "    else:\n",
    "        previous_weight = ord(current_letter)+weight\n",
    "        previous_letter = current_letter\n",
    "        substring_weight = previous_weight\n",
    "    U.add(substring_weight)\n",
    "    \n",
    "for a0 in xrange(n):\n",
    "    x = int(raw_input().strip())\n",
    "    if x in U:\n",
    "        print \"Yes\"\n",
    "    else:\n",
    "        print \"No\""
   ]
  },
  {
   "cell_type": "markdown",
   "metadata": {},
   "source": [
    "Answer to challenge Funny String: https://www.hackerrank.com/challenges/funny-string"
   ]
  },
  {
   "cell_type": "code",
   "execution_count": null,
   "metadata": {
    "collapsed": true
   },
   "outputs": [],
   "source": [
    "#!/bin/python\n",
    "\n",
    "import sys\n",
    "\n",
    "def funnyString(s):\n",
    "    # Complete this function\n",
    "    back = len(s)-1\n",
    "    for i in range(len(s)/2):  \n",
    "        if abs(ord(s[i+1])-ord(s[i])) != abs(ord(s[back-i-1]) - ord(s[back-i])):\n",
    "            return 'Not Funny'\n",
    "    return 'Funny'\n",
    "     \n",
    "\n",
    "q = int(raw_input().strip())\n",
    "for a0 in xrange(q):\n",
    "    s = raw_input().strip()\n",
    "    result = funnyString(s)\n",
    "    print(result)"
   ]
  },
  {
   "cell_type": "markdown",
   "metadata": {},
   "source": [
    "Answer to challenge Gemstones: https://www.hackerrank.com/challenges/gem-stones"
   ]
  },
  {
   "cell_type": "code",
   "execution_count": null,
   "metadata": {
    "collapsed": true
   },
   "outputs": [],
   "source": [
    "#!/bin/python\n",
    "\n",
    "import sys\n",
    "\n",
    "def gemstones(arr):\n",
    "    # Complete this function\n",
    "    gem_set = set(arr[0])\n",
    "    for stone in arr:\n",
    "            gem_set.intersection_update(set(stone))\n",
    "    return len(gem_set)   \n",
    "\n",
    "n = int(raw_input().strip())\n",
    "arr = []\n",
    "arr_i = 0\n",
    "for arr_i in xrange(n):\n",
    "    arr_t = str(raw_input().strip())\n",
    "    arr.append(arr_t)\n",
    "result = gemstones(arr)\n",
    "print(result)"
   ]
  },
  {
   "cell_type": "markdown",
   "metadata": {},
   "source": [
    "Answer to challenge Alternating Characters: https://www.hackerrank.com/challenges/alternating-characters"
   ]
  },
  {
   "cell_type": "code",
   "execution_count": null,
   "metadata": {
    "collapsed": true
   },
   "outputs": [],
   "source": [
    "#!/bin/python\n",
    "\n",
    "import sys\n",
    "\n",
    "def alternatingCharacters(s):\n",
    "    # Complete this function\n",
    "    outstring = s[0]\n",
    "    for i in range(1,len(s)):\n",
    "        if s[i] != s[i-1]:\n",
    "            outstring = outstring + s[i]\n",
    "    return len(s)-len(outstring)\n",
    "\n",
    "q = int(raw_input().strip())\n",
    "for a0 in xrange(q):\n",
    "    s = raw_input().strip()\n",
    "    result = alternatingCharacters(s)\n",
    "    print(result)"
   ]
  },
  {
   "cell_type": "markdown",
   "metadata": {},
   "source": [
    "Answer to challenge Beautiful Binary String: https://www.hackerrank.com/challenges/beautiful-binary-string"
   ]
  },
  {
   "cell_type": "code",
   "execution_count": null,
   "metadata": {
    "collapsed": true
   },
   "outputs": [],
   "source": [
    "#!/bin/python\n",
    "\n",
    "import sys\n",
    "\n",
    "def minSteps(n, B):\n",
    "    # Complete this function\n",
    "    steps=0\n",
    "    while B.find('010') != -1:\n",
    "        B = B.replace('010', '011', 1)\n",
    "        steps +=1\n",
    "    return steps\n",
    "\n",
    "n = int(raw_input().strip())\n",
    "B = raw_input().strip()\n",
    "result = minSteps(n, B)\n",
    "print(result)"
   ]
  },
  {
   "cell_type": "markdown",
   "metadata": {},
   "source": [
    "Answer to challenge The Love-Letter Mystery: https://www.hackerrank.com/challenges/the-love-letter-mystery"
   ]
  },
  {
   "cell_type": "code",
   "execution_count": null,
   "metadata": {
    "collapsed": true
   },
   "outputs": [],
   "source": [
    "#!/bin/python\n",
    "\n",
    "import sys\n",
    "\n",
    "def theLoveLetterMystery(s):\n",
    "    # Complete this function\n",
    "    steps = 0\n",
    "    R = s[::-1]\n",
    "    for i in range(len(s)/2):\n",
    "        steps += abs(ord(s[i]) - ord(R[i]))\n",
    "    return steps\n",
    "\n",
    "q = int(raw_input().strip())\n",
    "for a0 in xrange(q):\n",
    "    s = raw_input().strip()\n",
    "    result = theLoveLetterMystery(s)\n",
    "    print(result)"
   ]
  },
  {
   "cell_type": "markdown",
   "metadata": {
    "collapsed": true
   },
   "source": [
    "Answer to Anagram: https://www.hackerrank.com/challenges/anagram"
   ]
  },
  {
   "cell_type": "code",
   "execution_count": null,
   "metadata": {
    "collapsed": true
   },
   "outputs": [],
   "source": [
    "#!/bin/python\n",
    "\n",
    "import sys\n",
    "\n",
    "def anagram(s):\n",
    "    # Complete this function\n",
    "    if len(s)%2 != 0:\n",
    "        return -1\n",
    "    s1, s2 = s[:len(s)/2], s[len(s)/2:]\n",
    "    for char in s1:\n",
    "        if char in s2:\n",
    "            s2 = s2.replace(char,'', 1)\n",
    "    return len(s2)\n",
    "\n",
    "q = int(raw_input().strip())\n",
    "for a0 in xrange(q):\n",
    "    s = raw_input().strip()\n",
    "    result = anagram(s)\n",
    "    print(result)"
   ]
  },
  {
   "cell_type": "markdown",
   "metadata": {
    "collapsed": true
   },
   "source": [
    "Answer to Making Anagrams: https://www.hackerrank.com/challenges/making-anagrams"
   ]
  },
  {
   "cell_type": "code",
   "execution_count": null,
   "metadata": {
    "collapsed": true
   },
   "outputs": [],
   "source": [
    "#!/bin/python\n",
    "\n",
    "import sys\n",
    "\n",
    "def makingAnagrams(s1, s2):\n",
    "    # Complete this function\n",
    "    for char in s1:\n",
    "        if char in s2:\n",
    "            s1 = s1.replace(char, '', 1)\n",
    "            s2 = s2.replace(char, '', 1)\n",
    "    return len(s1)+len(s2)\n",
    "\n",
    "s1 = raw_input().strip()\n",
    "s2 = raw_input().strip()\n",
    "result = makingAnagrams(s1, s2)\n",
    "print(result)"
   ]
  },
  {
   "cell_type": "markdown",
   "metadata": {},
   "source": [
    "Answer to Game of Thrones - I: https://www.hackerrank.com/challenges/game-of-thrones"
   ]
  },
  {
   "cell_type": "code",
   "execution_count": null,
   "metadata": {
    "collapsed": true
   },
   "outputs": [],
   "source": [
    "#!/bin/python\n",
    "\n",
    "import sys\n",
    "\n",
    "def gameOfThrones(s):\n",
    "    # Complete this function\n",
    "    char_set = set(s)\n",
    "    num_odd = 0\n",
    "    for char in char_set:\n",
    "        if s.count(char)%2 != 0:\n",
    "            num_odd += 1\n",
    "        if num_odd > 1:\n",
    "            return 'NO'\n",
    "        elif num_odd == 1 and len(s)%2 == 0:\n",
    "            return 'NO'\n",
    "    return 'YES'\n",
    "    \n",
    "\n",
    "s = raw_input().strip()\n",
    "result = gameOfThrones(s)\n",
    "print(result)"
   ]
  },
  {
   "cell_type": "markdown",
   "metadata": {},
   "source": [
    "Answer to Two String: https://www.hackerrank.com/challenges/two-strings"
   ]
  },
  {
   "cell_type": "code",
   "execution_count": null,
   "metadata": {
    "collapsed": true
   },
   "outputs": [],
   "source": [
    "#!/bin/python\n",
    "\n",
    "import sys\n",
    "\n",
    "def twoStrings(s1, s2):\n",
    "    # Complete this function\n",
    "    char_set = set(s1)\n",
    "    for char in char_set:\n",
    "        if char in s2:\n",
    "            return 'YES'\n",
    "    return 'NO'\n",
    "\n",
    "q = int(raw_input().strip())\n",
    "for a0 in xrange(q):\n",
    "    s1 = raw_input().strip()\n",
    "    s2 = raw_input().strip()\n",
    "    result = twoStrings(s1, s2)\n",
    "    print(result)\n"
   ]
  },
  {
   "cell_type": "markdown",
   "metadata": {},
   "source": [
    "Answer to String Construction: https://www.hackerrank.com/challenges/string-construction"
   ]
  },
  {
   "cell_type": "code",
   "execution_count": null,
   "metadata": {
    "collapsed": true
   },
   "outputs": [],
   "source": [
    "#!/bin/python\n",
    "\n",
    "import sys\n",
    "\n",
    "def stringConstruction(s):\n",
    "    # Complete this function\n",
    "    p = ''\n",
    "    p_cost = 0\n",
    "    for char in s:\n",
    "        if char not in p:\n",
    "            p_cost +=1\n",
    "        p += char\n",
    "    return p_cost\n",
    "\n",
    "if __name__ == \"__main__\":\n",
    "    q = int(raw_input().strip())\n",
    "    for a0 in xrange(q):\n",
    "        s = raw_input().strip()\n",
    "        result = stringConstruction(s)\n",
    "        print result"
   ]
  },
  {
   "cell_type": "markdown",
   "metadata": {},
   "source": [
    "Answer to Sherlock and the Valid String: https://www.hackerrank.com/challenges/sherlock-and-valid-string/problem"
   ]
  },
  {
   "cell_type": "code",
   "execution_count": null,
   "metadata": {
    "collapsed": true
   },
   "outputs": [],
   "source": [
    "#!/bin/python\n",
    "\n",
    "import sys\n",
    "\n",
    "def isValid(s):\n",
    "    # Complete this function\n",
    "    char_set = set(s)\n",
    "    char_counts = []\n",
    "    for char in char_set:\n",
    "        char_counts.append(s.count(char))\n",
    "    char_count_counts = set(char_counts)\n",
    "    if len(char_count_counts) == 1: #All characters have same amount of counts\n",
    "        return 'YES'\n",
    "    elif len(char_count_counts) == 2:\n",
    "        if char_counts.count(1) == 1: #One character has a count of 1\n",
    "            return 'YES'\n",
    "        if char_counts.count(max(char_count_counts)) == 1: #One character has a greater than norm count\n",
    "            if max(char_count_counts) - min(char_count_counts) == 1: #Max count is off by only one\n",
    "                return 'YES'\n",
    "    return 'NO'    \n",
    "\n",
    "s = raw_input().strip()\n",
    "result = isValid(s)\n",
    "print(result)"
   ]
  },
  {
   "cell_type": "markdown",
   "metadata": {},
   "source": [
    "#### Sorting Challenges\n",
    "Answer to intro to Tutorial Challenges: https://www.hackerrank.com/challenges/tutorial-intro"
   ]
  },
  {
   "cell_type": "code",
   "execution_count": null,
   "metadata": {
    "collapsed": true
   },
   "outputs": [],
   "source": [
    "# Enter your code here. Read input from STDIN. Print output to STDOUT\n",
    "V = input()\n",
    "n = input()\n",
    "ar = map(int, raw_input().split())\n",
    "print ar.index(V)"
   ]
  },
  {
   "cell_type": "markdown",
   "metadata": {},
   "source": [
    "#### Search Challenges\n",
    "Answer to Hackerland Radio: https://www.hackerrank.com/challenges/hackerland-radio-transmitters"
   ]
  },
  {
   "cell_type": "code",
   "execution_count": null,
   "metadata": {
    "collapsed": true
   },
   "outputs": [],
   "source": [
    "#!/bin/python\n",
    "\n",
    "import sys\n",
    "\n",
    "\n",
    "n,k = raw_input().strip().split(' ')\n",
    "n,k = [int(n),int(k)]\n",
    "transmitter_range = k\n",
    "x = map(int,raw_input().strip().split(' '))\n",
    "sorted_x = sorted(set(x))\n",
    "min_house = min(sorted_x)\n",
    "transmitter_count = 1\n",
    "for house in sorted_x:\n",
    "    if house - min_house <= transmitter_range: #Can move transmitter further from min_house\n",
    "        transmitter_house = house\n",
    "        #print \"Transmitter moved to \", house\n",
    "    elif house - transmitter_house > transmitter_range: #Need another transmitter to cover next area\n",
    "        min_house = house\n",
    "        transmitter_count += 1\n",
    "        #print \"Transmitters increased to \", transmitter_count\n",
    "print transmitter_count"
   ]
  },
  {
   "cell_type": "markdown",
   "metadata": {},
   "source": [
    "Answer to Gridland Metro: https://www.hackerrank.com/challenges/gridland-metro/problem"
   ]
  },
  {
   "cell_type": "code",
   "execution_count": null,
   "metadata": {
    "collapsed": true
   },
   "outputs": [],
   "source": [
    "# Enter your code here. Read input from STDIN. Print output to STDOUT\n",
    "rows, columns, num_tracks = map(int, raw_input().split())\n",
    "\n",
    "gridsize = rows*columns\n",
    "\n",
    "#Create dictionary of tracks\n",
    "track_locations = {}\n",
    "for a0 in range(num_tracks):\n",
    "    row, start, stop = map(int, raw_input().split())\n",
    "    if row not in track_locations:\n",
    "        track_locations[row] = [[start, stop]]\n",
    "    else:\n",
    "        #Check for overlap\n",
    "        add = True\n",
    "        for track in track_locations[row]:\n",
    "            #Do not add if new track inside old track\n",
    "            if start >= track[0] and stop <= track[1]:\n",
    "                add = False\n",
    "                break\n",
    "            #Remove tracks that are inside new track\n",
    "            if start <= track[0] and stop >= track[1]:\n",
    "                track_locations[row].remove(track)\n",
    "            #Start of new track in middle of old track\n",
    "            elif start <= track[1] and start >= track[0]:\n",
    "                start = track[0]\n",
    "                track_locations[row].remove(track)\n",
    "            #Stop of new track in middle of old track\n",
    "            elif stop >= track[0] and stop <= track[1]:\n",
    "                stop = track[1]\n",
    "                track_locations[row].remove(track)\n",
    "        if add:\n",
    "            track_locations[row].append([start,stop])\n",
    "        \n",
    "num_tracks = 0\n",
    "#Add up number of tracks laid\n",
    "for row in track_locations:\n",
    "    for track in track_locations[row]:\n",
    "        num_tracks += track[1]-track[0]+1\n",
    "\n",
    "print gridsize-num_tracks"
   ]
  },
  {
   "cell_type": "markdown",
   "metadata": {},
   "source": [
    "Answer to Ice Cream Parlor: https://www.hackerrank.com/challenges/icecream-parlor"
   ]
  },
  {
   "cell_type": "code",
   "execution_count": null,
   "metadata": {
    "collapsed": true
   },
   "outputs": [],
   "source": [
    "# Enter your code here. Read input from STDIN. Print output to STDOUT\n",
    "def find_Flavors(money, num_flavors, flavor_costs):\n",
    "    for i in range(num_flavors-1):\n",
    "        for j in range(i+1, num_flavors):\n",
    "            if flavor_costs[i] + flavor_costs[j] == money:\n",
    "                return [str(i+1),str(j+1)]\n",
    "\n",
    "trips = input()\n",
    "for a0 in range(trips):\n",
    "    money = input()\n",
    "    num_flavors = input()\n",
    "    flavor_costs = map(int, raw_input().split())\n",
    "    flavors = find_Flavors(money, num_flavors, flavor_costs)\n",
    "    print \" \".join(flavors)"
   ]
  },
  {
   "cell_type": "markdown",
   "metadata": {},
   "source": [
    "#### Greedy challenges\n",
    "Answer to Minimum Absolute Difference in an Array: https://www.hackerrank.com/challenges/minimum-absolute-difference-in-an-array"
   ]
  },
  {
   "cell_type": "code",
   "execution_count": null,
   "metadata": {
    "collapsed": true
   },
   "outputs": [],
   "source": [
    "#!/bin/python\n",
    "\n",
    "import sys\n",
    "\n",
    "def minimumAbsoluteDifference(n, arr):\n",
    "    # Complete this function\n",
    "    arr.sort()\n",
    "    differences = []\n",
    "    for i in range(n-1):\n",
    "        differences.append(abs(arr[i+1]-arr[i]))\n",
    "    return min(differences)\n",
    "\n",
    "if __name__ == \"__main__\":\n",
    "    n = int(raw_input().strip())\n",
    "    arr = map(int, raw_input().strip().split(' '))\n",
    "    result = minimumAbsoluteDifference(n, arr)\n",
    "    print result"
   ]
  },
  {
   "cell_type": "markdown",
   "metadata": {},
   "source": [
    "Answer to Marc's Cakewalk: https://www.hackerrank.com/challenges/marcs-cakewalk"
   ]
  },
  {
   "cell_type": "code",
   "execution_count": null,
   "metadata": {
    "collapsed": true
   },
   "outputs": [],
   "source": [
    "#!/bin/python\n",
    "\n",
    "import sys\n",
    "\n",
    "n = int(raw_input().strip())\n",
    "calories = map(int, raw_input().strip().split(' '))\n",
    "# your code goes here\n",
    "calories.sort(reverse = True)\n",
    "miles = 0\n",
    "for i in range(len(calories)):\n",
    "    miles += calories[i]*(2**i)\n",
    "print miles"
   ]
  },
  {
   "cell_type": "markdown",
   "metadata": {},
   "source": [
    "Answer to Grid Challenge: https://www.hackerrank.com/challenges/grid-challenge"
   ]
  },
  {
   "cell_type": "code",
   "execution_count": null,
   "metadata": {
    "collapsed": true
   },
   "outputs": [],
   "source": [
    "# Enter your code here. Read input from STDIN. Print output to STDOUT\n",
    "T = input()\n",
    "for a0 in range(T):\n",
    "    N = input()\n",
    "    grid = []\n",
    "    for ae in range(N):\n",
    "        grid.append(sorted(raw_input()))\n",
    "    if [list(a) for a in zip(*grid)] == map(sorted,zip(*grid)):\n",
    "        print 'YES'\n",
    "    else:\n",
    "        print 'NO'"
   ]
  },
  {
   "cell_type": "markdown",
   "metadata": {},
   "source": [
    "Answer to Luck Balance: https://www.hackerrank.com/challenges/luck-balance"
   ]
  },
  {
   "cell_type": "code",
   "execution_count": null,
   "metadata": {
    "collapsed": true
   },
   "outputs": [],
   "source": [
    "# Enter your code here. Read input from STDIN. Print output to STDOUT\n",
    "num_contests, max_loses = map(int, raw_input().split())\n",
    "important, non_important = [], []\n",
    "for a0 in range(num_contests):\n",
    "    luck_value, importance = map(int, raw_input().split())\n",
    "    if importance == 1:\n",
    "        important.append(luck_value)\n",
    "    else:\n",
    "        non_important.append(luck_value)\n",
    "important.sort()\n",
    "loss_position = max(0, len(important)-max_loses)\n",
    "print sum(non_important) + sum(important[loss_position:])-sum(important[:loss_position])"
   ]
  },
  {
   "cell_type": "markdown",
   "metadata": {},
   "source": [
    "Answer to Maximum Perimeter Triangle: https://www.hackerrank.com/challenges/maximum-perimeter-triangle"
   ]
  },
  {
   "cell_type": "code",
   "execution_count": null,
   "metadata": {
    "collapsed": true
   },
   "outputs": [],
   "source": [
    "# Enter your code here. Read input from STDIN. Print output to STDOUT\n",
    "def find_triangle(sorted_sticks):\n",
    "    for i in range(len(sorted_sticks), 2, -1):\n",
    "        stick_triangle=sorted_sticks[i-3:i]\n",
    "        if stick_triangle[2] < sum(stick_triangle[:2]):\n",
    "            return stick_triangle\n",
    "    return [-1]\n",
    "\n",
    "n_sticks = input()\n",
    "sticks = map(int, raw_input().split())\n",
    "sticks.sort()\n",
    "print ' '.join(map(str,find_triangle(sticks)))"
   ]
  },
  {
   "cell_type": "markdown",
   "metadata": {},
   "source": [
    "Answer to Sherlock and The Beast: https://www.hackerrank.com/challenges/sherlock-and-the-beast"
   ]
  },
  {
   "cell_type": "code",
   "execution_count": null,
   "metadata": {
    "collapsed": true
   },
   "outputs": [],
   "source": [
    "#!/bin/python\n",
    "\n",
    "import sys\n",
    "def decent_number(n):\n",
    "    #Check for evenly divisible by 3\n",
    "    if n%3 == 0:\n",
    "        return '5' * n\n",
    "    #Check for removing a multiple of 5 and having remainder divisible by 3\n",
    "    for i in range(1, (n/5)+1):\n",
    "        if (n-(5*i))%3==0:\n",
    "            return '5' * (n-(5*i)) + '3' * (i*5)\n",
    "    #Else return -1\n",
    "    return '-1'\n",
    "    \n",
    "\n",
    "t = int(raw_input().strip())\n",
    "for a0 in xrange(t):\n",
    "    n = int(raw_input().strip())\n",
    "    print decent_number(n)"
   ]
  }
 ],
 "metadata": {
  "kernelspec": {
   "display_name": "Python 2",
   "language": "python",
   "name": "python2"
  },
  "language_info": {
   "codemirror_mode": {
    "name": "ipython",
    "version": 2
   },
   "file_extension": ".py",
   "mimetype": "text/x-python",
   "name": "python",
   "nbconvert_exporter": "python",
   "pygments_lexer": "ipython2",
   "version": "2.7.13"
  }
 },
 "nbformat": 4,
 "nbformat_minor": 2
}
