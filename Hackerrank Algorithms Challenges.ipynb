{
 "cells": [
  {
   "cell_type": "markdown",
   "metadata": {},
   "source": [
    "#### Answers to Hackerrank Algorithm challenges. Written without editorial or discussion help unless otherwise noted.  Code written in Python 2.\n",
    "By: Alfred Lyle"
   ]
  },
  {
   "cell_type": "markdown",
   "metadata": {},
   "source": [
    "#### Implementation Challenges:\n",
    "<br>\n",
    "Answer to Birthday Chocolate: https://www.hackerrank.com/challenges/the-birthday-bar/problem"
   ]
  },
  {
   "cell_type": "code",
   "execution_count": null,
   "metadata": {
    "collapsed": true
   },
   "outputs": [],
   "source": [
    "#!/bin/python\n",
    "\n",
    "import sys\n",
    "\n",
    "def solve(n, s, d, m):\n",
    "    # Complete this function\n",
    "    consecutive_sums = [sum(s[i:i+m]) for i in range(len(s)-m+1)]\n",
    "    return consecutive_sums.count(d)\n",
    "                        \n",
    "\n",
    "n = int(raw_input().strip())\n",
    "s = map(int, raw_input().strip().split(' '))\n",
    "d, m = raw_input().strip().split(' ')\n",
    "d, m = [int(d), int(m)]\n",
    "result = solve(n, s, d, m)\n",
    "print result"
   ]
  },
  {
   "cell_type": "markdown",
   "metadata": {},
   "source": [
    "Answer to Divisible Sum Pairs: https://www.hackerrank.com/challenges/divisible-sum-pairs"
   ]
  },
  {
   "cell_type": "code",
   "execution_count": null,
   "metadata": {
    "collapsed": true
   },
   "outputs": [],
   "source": [
    "#!/bin/python\n",
    "\n",
    "import sys\n",
    "\n",
    "def divisibleSumPairs(n, k, ar):\n",
    "    # Complete this function\n",
    "    count=0\n",
    "    for i in range(n-1):\n",
    "        for j in range(i+1, n):\n",
    "            if (ar[i]+ar[j])%k==0:\n",
    "                count+=1\n",
    "    return count\n",
    "            \n",
    "\n",
    "n, k = raw_input().strip().split(' ')\n",
    "n, k = [int(n), int(k)]\n",
    "ar = map(int, raw_input().strip().split(' '))\n",
    "result = divisibleSumPairs(n, k, ar)\n",
    "print(result)"
   ]
  },
  {
   "cell_type": "markdown",
   "metadata": {},
   "source": [
    "Answer to Migratory Birds: https://www.hackerrank.com/challenges/migratory-birds"
   ]
  },
  {
   "cell_type": "code",
   "execution_count": null,
   "metadata": {
    "collapsed": true
   },
   "outputs": [],
   "source": [
    "#!/bin/python\n",
    "\n",
    "import sys\n",
    "\n",
    "def migratoryBirds(n, ar):\n",
    "    # Complete this function\n",
    "    max_type = 1\n",
    "    max_count = 0\n",
    "    for bird_type in range(1,6):\n",
    "        bird_count = ar.count(bird_type)\n",
    "        if bird_count > max_count:\n",
    "            max_count = bird_count\n",
    "            max_type = bird_type\n",
    "    return max_type\n",
    "\n",
    "n = int(raw_input().strip())\n",
    "ar = map(int, raw_input().strip().split(' '))\n",
    "result = migratoryBirds(n, ar)\n",
    "print(result)"
   ]
  },
  {
   "cell_type": "markdown",
   "metadata": {},
   "source": [
    "Answer to Bon Appetit: https://www.hackerrank.com/challenges/bon-appetit"
   ]
  },
  {
   "cell_type": "code",
   "execution_count": null,
   "metadata": {
    "collapsed": true
   },
   "outputs": [],
   "source": [
    "#!/bin/python\n",
    "\n",
    "import sys\n",
    "\n",
    "def bonAppetit(n, k, b, ar):\n",
    "    # Complete this function\n",
    "    del ar[k]\n",
    "    anna_cost = sum(ar)/2\n",
    "    if anna_cost == b:\n",
    "        return 'Bon Appetit'\n",
    "    else:\n",
    "        return b-anna_cost\n",
    "\n",
    "n, k = raw_input().strip().split(' ')\n",
    "n, k = [int(n), int(k)]\n",
    "ar = map(int, raw_input().strip().split(' '))\n",
    "b = int(raw_input().strip())\n",
    "result = bonAppetit(n, k, b, ar)\n",
    "print(result)"
   ]
  },
  {
   "cell_type": "markdown",
   "metadata": {},
   "source": [
    "Answer to Sock Merchant: https://www.hackerrank.com/challenges/sock-merchant"
   ]
  },
  {
   "cell_type": "code",
   "execution_count": null,
   "metadata": {
    "collapsed": true
   },
   "outputs": [],
   "source": [
    "#!/bin/python\n",
    "\n",
    "import sys\n",
    "\n",
    "def sockMerchant(n, ar):\n",
    "    # Complete this function\n",
    "    sock_pairs = 0\n",
    "    sock_types = set(ar)\n",
    "    for sock in sock_types:\n",
    "        sock_pairs += ar.count(sock)/2\n",
    "    return sock_pairs\n",
    "        \n",
    "\n",
    "n = int(raw_input().strip())\n",
    "ar = map(int, raw_input().strip().split(' '))\n",
    "result = sockMerchant(n, ar)\n",
    "print(result)"
   ]
  },
  {
   "cell_type": "markdown",
   "metadata": {},
   "source": [
    "Answer to Drawing Book: https://www.hackerrank.com/challenges/drawing-book/problem"
   ]
  },
  {
   "cell_type": "code",
   "execution_count": null,
   "metadata": {
    "collapsed": true
   },
   "outputs": [],
   "source": [
    "#!/bin/python\n",
    "\n",
    "import sys\n",
    "\n",
    "def solve(n, p):\n",
    "    # Complete this function\n",
    "    if p==1 or p==n or (p==n-1 and (n-1)%2==0):\n",
    "        return 0\n",
    "    else:\n",
    "        if p%2==1:\n",
    "            p=p-1\n",
    "        if p <= n/2:\n",
    "            return p/2\n",
    "        else:\n",
    "            return (n-p)/2\n",
    "        \n",
    "\n",
    "n = int(raw_input().strip())\n",
    "p = int(raw_input().strip())\n",
    "result = solve(n, p)\n",
    "print(result)"
   ]
  },
  {
   "cell_type": "markdown",
   "metadata": {},
   "source": [
    "Answer to Counting Valleys: https://www.hackerrank.com/challenges/counting-valleys"
   ]
  },
  {
   "cell_type": "code",
   "execution_count": null,
   "metadata": {
    "collapsed": true
   },
   "outputs": [],
   "source": [
    "# Enter your code here. Read input from STDIN. Print output to STDOUT\n",
    "num_steps = raw_input().strip()\n",
    "up_down = str(raw_input().strip())\n",
    "valley_counter=0\n",
    "altitude=0\n",
    "in_valley=False\n",
    "for step in up_down:\n",
    "    if step == 'U':\n",
    "        altitude += 1\n",
    "    else:\n",
    "        altitude += -1\n",
    "    if altitude < 0 and in_valley==False:\n",
    "        in_valley = True\n",
    "    elif altitude == 0 and in_valley==True:\n",
    "        valley_counter+=1\n",
    "        in_valley = False\n",
    "print valley_counter"
   ]
  },
  {
   "cell_type": "markdown",
   "metadata": {},
   "source": [
    "Answer to challenge Electronics Shop: https://www.hackerrank.com/challenges/electronics-shop"
   ]
  },
  {
   "cell_type": "code",
   "execution_count": null,
   "metadata": {
    "collapsed": true
   },
   "outputs": [],
   "source": [
    "#!/bin/python\n",
    "\n",
    "import sys\n",
    "\n",
    "def getMoneySpent(keyboards, drives, s):\n",
    "    # Complete this function\n",
    "    all_costs = []\n",
    "    for keyboard in keyboards:\n",
    "        for drive in drives:\n",
    "            all_costs.append(keyboard+drive)\n",
    "    possible_costs = set(all_costs)\n",
    "    if s < min(possible_costs):\n",
    "        return -1\n",
    "    if s>= max(possible_costs):\n",
    "        return max(possible_costs)\n",
    "    else:\n",
    "        for i in range(s,0,-1):\n",
    "            if i in possible_costs:\n",
    "                return i\n",
    "\n",
    "s,n,m = raw_input().strip().split(' ')\n",
    "s,n,m = [int(s),int(n),int(m)]\n",
    "keyboards = map(int, raw_input().strip().split(' '))\n",
    "drives = map(int, raw_input().strip().split(' '))\n",
    "#  The maximum amount of money she can spend on a keyboard and USB drive, or -1 if she can't purchase both items\n",
    "moneySpent = getMoneySpent(keyboards, drives, s)\n",
    "print(moneySpent)"
   ]
  },
  {
   "cell_type": "markdown",
   "metadata": {},
   "source": [
    "Answer to challenge Cats and a Mouse: https://www.hackerrank.com/challenges/cats-and-a-mouse"
   ]
  },
  {
   "cell_type": "code",
   "execution_count": null,
   "metadata": {
    "collapsed": true
   },
   "outputs": [],
   "source": [
    "#!/bin/python\n",
    "\n",
    "import sys\n",
    "\n",
    "\n",
    "q = int(raw_input().strip())\n",
    "for a0 in xrange(q):\n",
    "    x,y,z = raw_input().strip().split(' ')\n",
    "    x,y,z = [int(x),int(y),int(z)]\n",
    "    catA_distance = abs(z-x)\n",
    "    catB_distance = abs(z-y)\n",
    "    if catA_distance < catB_distance:\n",
    "        print \"Cat A\"\n",
    "    elif catB_distance < catA_distance:\n",
    "        print \"Cat B\"\n",
    "    else:\n",
    "        print \"Mouse C\""
   ]
  },
  {
   "cell_type": "markdown",
   "metadata": {},
   "source": [
    "Answer to Picking Numbers: https://www.hackerrank.com/challenges/picking-numbers/problem"
   ]
  },
  {
   "cell_type": "code",
   "execution_count": null,
   "metadata": {
    "collapsed": true
   },
   "outputs": [],
   "source": [
    "#!/bin/python\n",
    "\n",
    "import sys\n",
    "\n",
    "\n",
    "n = int(raw_input().strip())\n",
    "a = map(int,raw_input().strip().split(' '))\n",
    "#Create a set of possible int choices\n",
    "a_choices = set(a)\n",
    "max_less_one_difference = 0\n",
    "#Loop through set, add difference counts to list\n",
    "for choice in a_choices:\n",
    "    plus_one = a.count(choice-1) + a.count(choice)   \n",
    "    less_one = a.count(choice)+a.count(choice+1)\n",
    "    if max(plus_one, less_one) > max_less_one_difference:\n",
    "        max_less_one_difference = max(plus_one, less_one)\n",
    "print max_less_one_difference"
   ]
  },
  {
   "cell_type": "markdown",
   "metadata": {},
   "source": [
    "Answer to The Hurdle Race: https://www.hackerrank.com/challenges/the-hurdle-race/problem"
   ]
  },
  {
   "cell_type": "code",
   "execution_count": null,
   "metadata": {
    "collapsed": true
   },
   "outputs": [],
   "source": [
    "#!/bin/python\n",
    "\n",
    "import sys\n",
    "\n",
    "\n",
    "n,k = raw_input().strip().split(' ')\n",
    "n,k = [int(n),int(k)]\n",
    "height = map(int, raw_input().strip().split(' '))\n",
    "# your code goes here\n",
    "print max(0, max(height)-k)"
   ]
  },
  {
   "cell_type": "markdown",
   "metadata": {},
   "source": [
    "Answer to Designer PDF Viewer: https://www.hackerrank.com/challenges/designer-pdf-viewer/problem"
   ]
  },
  {
   "cell_type": "code",
   "execution_count": null,
   "metadata": {
    "collapsed": true
   },
   "outputs": [],
   "source": [
    "#!/bin/python\n",
    "\n",
    "import sys\n",
    "\n",
    "\n",
    "h = map(int, raw_input().strip().split(' '))\n",
    "word = raw_input().strip()\n",
    "word_char = [ord(i)-ord('a') for i in word]\n",
    "print len(word)*max([h[i] for i in word_char])"
   ]
  },
  {
   "cell_type": "markdown",
   "metadata": {},
   "source": [
    "Answer to Utopian Tree: https://www.hackerrank.com/challenges/utopian-tree/problem"
   ]
  },
  {
   "cell_type": "code",
   "execution_count": null,
   "metadata": {
    "collapsed": true
   },
   "outputs": [],
   "source": [
    "#!/bin/python\n",
    "\n",
    "import sys\n",
    "    \n",
    "\n",
    "t = int(raw_input().strip())\n",
    "for a0 in xrange(t):\n",
    "    n = int(raw_input().strip())\n",
    "    #Sum tree doubling\n",
    "    tree = 0\n",
    "    for i in range((n+1)/2):\n",
    "        tree += 2**(i+1)\n",
    "    #Add 1 if in summer\n",
    "    if n%2 == 0:\n",
    "        tree+=1\n",
    "    print tree"
   ]
  },
  {
   "cell_type": "markdown",
   "metadata": {},
   "source": [
    "Answer to Angry Professor: https://www.hackerrank.com/challenges/angry-professor/problem"
   ]
  },
  {
   "cell_type": "code",
   "execution_count": null,
   "metadata": {
    "collapsed": true
   },
   "outputs": [],
   "source": [
    "#!/bin/python\n",
    "\n",
    "import sys\n",
    "\n",
    "\n",
    "t = int(raw_input().strip())\n",
    "for a0 in xrange(t):\n",
    "    n,k = raw_input().strip().split(' ')\n",
    "    n,k = [int(n),int(k)]\n",
    "    a = map(int,raw_input().strip().split(' '))\n",
    "    on_time_students = [i for i in a if i<=0]\n",
    "    if len(on_time_students) >= k:\n",
    "        print 'NO'\n",
    "    else:\n",
    "        print 'YES'"
   ]
  },
  {
   "cell_type": "markdown",
   "metadata": {},
   "source": [
    "Answer to Beautiful Days at the Movies: https://www.hackerrank.com/challenges/beautiful-days-at-the-movies/problem"
   ]
  },
  {
   "cell_type": "code",
   "execution_count": null,
   "metadata": {
    "collapsed": true
   },
   "outputs": [],
   "source": [
    "# Enter your code here. Read input from STDIN. Print output to STDOUT\n",
    "i,j,k = map(int, raw_input().split())\n",
    "beautiful = 0\n",
    "for day in range(i,j+1):\n",
    "    if (day-int(str(day)[::-1]))%k == 0:\n",
    "        beautiful += 1\n",
    "print beautiful    "
   ]
  },
  {
   "cell_type": "markdown",
   "metadata": {},
   "source": [
    "Answer to Viral Advertising: https://www.hackerrank.com/challenges/strange-advertising/problem"
   ]
  },
  {
   "cell_type": "code",
   "execution_count": null,
   "metadata": {
    "collapsed": true
   },
   "outputs": [],
   "source": [
    "# Enter your code here. Read input from STDIN. Print output to STDOUT\n",
    "days = input()\n",
    "current_day = 5\n",
    "likes = 0\n",
    "while days > 0:\n",
    "    likes+= current_day/2\n",
    "    current_day = (current_day/2)*3   \n",
    "    days += -1\n",
    "print likes"
   ]
  },
  {
   "cell_type": "markdown",
   "metadata": {},
   "source": [
    "Answer to Save the Prisoner!: https://www.hackerrank.com/challenges/save-the-prisoner/problem"
   ]
  },
  {
   "cell_type": "code",
   "execution_count": null,
   "metadata": {
    "collapsed": true
   },
   "outputs": [],
   "source": [
    "#!/bin/python\n",
    "\n",
    "import sys\n",
    "\n",
    "def saveThePrisoner(n, m, s):\n",
    "    # Complete this function\n",
    "    if (m+s-1)%n == 0:\n",
    "        return n\n",
    "    else:\n",
    "        return (m+s-1)%n\n",
    "    \n",
    "\n",
    "t = int(raw_input().strip())\n",
    "for a0 in xrange(t):\n",
    "    n, m, s = raw_input().strip().split(' ')\n",
    "    n, m, s = [int(n), int(m), int(s)]\n",
    "    result = saveThePrisoner(n, m, s)\n",
    "    print result"
   ]
  },
  {
   "cell_type": "markdown",
   "metadata": {},
   "source": [
    "Answer to Circular Array Rotation: https://www.hackerrank.com/challenges/circular-array-rotation/problem"
   ]
  },
  {
   "cell_type": "code",
   "execution_count": null,
   "metadata": {
    "collapsed": true
   },
   "outputs": [],
   "source": [
    "#!/bin/python\n",
    "\n",
    "import sys\n",
    "\n",
    "\n",
    "n,k,q = raw_input().strip().split(' ')\n",
    "n,k,q = [int(n),int(k),int(q)]\n",
    "a = map(int,raw_input().strip().split(' '))\n",
    "for a0 in xrange(q):\n",
    "    m = int(raw_input().strip())\n",
    "    print a[m-(k%len(a))]"
   ]
  },
  {
   "cell_type": "markdown",
   "metadata": {},
   "source": [
    "Answer to Sequence Equation: https://www.hackerrank.com/challenges/permutation-equation/problem"
   ]
  },
  {
   "cell_type": "code",
   "execution_count": null,
   "metadata": {
    "collapsed": true
   },
   "outputs": [],
   "source": [
    "# Enter your code here. Read input from STDIN. Print output to STDOUT\n",
    "n = input()\n",
    "arr = map(int, raw_input().split())\n",
    "for i in range(1, n+1):\n",
    "    print arr.index(arr.index(i)+1)+1"
   ]
  },
  {
   "cell_type": "markdown",
   "metadata": {},
   "source": [
    "Answer to Jumping on the Clouds: Revisited: https://www.hackerrank.com/challenges/jumping-on-the-clouds-revisited/problem"
   ]
  },
  {
   "cell_type": "code",
   "execution_count": null,
   "metadata": {
    "collapsed": true
   },
   "outputs": [],
   "source": [
    "#!/bin/python\n",
    "\n",
    "import sys\n",
    "\n",
    "\n",
    "n,k = raw_input().strip().split(' ')\n",
    "n,k = [int(n),int(k)]\n",
    "c = map(int,raw_input().strip().split(' '))\n",
    "#Set initial jump values\n",
    "E = 100\n",
    "jumps = k\n",
    "E=E-(c[jumps%n]*2+1)\n",
    "#Loop through while jump value is not back at start position\n",
    "while (jumps%n!=0):\n",
    "    jumps = jumps+k\n",
    "    E=E-(c[jumps%n]*2+1)\n",
    "#Print Energy remaining after final jump\n",
    "print E"
   ]
  },
  {
   "cell_type": "markdown",
   "metadata": {},
   "source": [
    "Answer to Find Digits: https://www.hackerrank.com/challenges/find-digits/problem"
   ]
  },
  {
   "cell_type": "code",
   "execution_count": null,
   "metadata": {
    "collapsed": true
   },
   "outputs": [],
   "source": [
    "#!/bin/python\n",
    "\n",
    "import sys\n",
    "def divisible_by_digit(number):\n",
    "    num_digits = 0\n",
    "    for digit in str(number):\n",
    "        if digit != '0':\n",
    "            if number%int(digit) == 0:\n",
    "                num_digits+=1\n",
    "    return num_digits\n",
    "        \n",
    "\n",
    "\n",
    "t = int(raw_input().strip())\n",
    "for a0 in xrange(t):\n",
    "    n = int(raw_input().strip())\n",
    "    print divisible_by_digit(n)"
   ]
  },
  {
   "cell_type": "markdown",
   "metadata": {},
   "source": [
    "Answer to Extra Long Factorials: https://www.hackerrank.com/challenges/extra-long-factorials/problem"
   ]
  },
  {
   "cell_type": "code",
   "execution_count": null,
   "metadata": {
    "collapsed": true
   },
   "outputs": [],
   "source": [
    "#!/bin/python\n",
    "\n",
    "import sys\n",
    "def factorial(n):\n",
    "    if n>1:\n",
    "        return n*factorial(n-1)\n",
    "    return 1\n",
    "\n",
    "\n",
    "n = long(raw_input().strip())\n",
    "print factorial(n)"
   ]
  },
  {
   "cell_type": "markdown",
   "metadata": {},
   "source": [
    "Ansewr to Sherlock and Squares: https://www.hackerrank.com/challenges/sherlock-and-squares/problem"
   ]
  },
  {
   "cell_type": "code",
   "execution_count": null,
   "metadata": {
    "collapsed": true
   },
   "outputs": [],
   "source": [
    "# Enter your code here. Read input from STDIN. Print output to STDOUT\n",
    "import math\n",
    "\n",
    "\n",
    "T = input()\n",
    "for a0 in range(T):\n",
    "    n,m = map(int, raw_input().split())\n",
    "    squares = 0\n",
    "    #Get square roots of lower and upper bound\n",
    "    n_root, m_root = math.sqrt(n), math.sqrt(m)\n",
    "    #Add one if end roots are perfect squares\n",
    "    if int(n_root) == math.ceil(n_root):\n",
    "        squares+=1\n",
    "        #If lower bound is perfect square, move n_root up so as not to include it twice\n",
    "        n_root += 1\n",
    "    if int(m_root) == math.ceil(m_root):\n",
    "        squares+=1\n",
    "    #Add range of squares\n",
    "    squares += math.ceil(m_root)-math.ceil(n_root)\n",
    "    print int(squares)"
   ]
  },
  {
   "cell_type": "markdown",
   "metadata": {},
   "source": [
    "Answer to Library Fine: https://www.hackerrank.com/challenges/library-fine/problem"
   ]
  },
  {
   "cell_type": "code",
   "execution_count": null,
   "metadata": {
    "collapsed": true
   },
   "outputs": [],
   "source": [
    "#!/bin/python\n",
    "\n",
    "import sys\n",
    "import datetime\n",
    "\n",
    "def book_return_fine(due_date, return_date):\n",
    "    #Base case, book returned on time\n",
    "    if due_date - return_date >= datetime.timedelta(0):\n",
    "        return 0\n",
    "    #Check for same year\n",
    "    if due_date.year == return_date.year:\n",
    "        #Check for same month\n",
    "        if due_date.month == return_date.month:\n",
    "            return (return_date.day-due_date.day) * 15\n",
    "        return (return_date.month-due_date.month) * 500\n",
    "    #Different year, return base fine\n",
    "    return 10000\n",
    "\n",
    "d1,m1,y1 = map(int, raw_input().strip().split(' '))\n",
    "\n",
    "d2,m2,y2 = map(int, raw_input().strip().split(' '))\n",
    "due_date = datetime.date(y2, m2, d2)\n",
    "return_date = datetime.date(y1, m1, d1)\n",
    "\n",
    "print book_return_fine(due_date, return_date)"
   ]
  },
  {
   "cell_type": "markdown",
   "metadata": {},
   "source": [
    "Answer to Cut the Sticks: https://www.hackerrank.com/challenges/cut-the-sticks/problem"
   ]
  },
  {
   "cell_type": "code",
   "execution_count": null,
   "metadata": {
    "collapsed": true
   },
   "outputs": [],
   "source": [
    "#!/bin/python\n",
    "\n",
    "import sys\n",
    "\n",
    "\n",
    "n = int(raw_input().strip())\n",
    "arr = map(int,raw_input().strip().split(' '))\n",
    "#Loop through until no sticks remain\n",
    "while len(arr)!=0:\n",
    "    #Output number of sticks\n",
    "    print len(arr)\n",
    "    arr = [i-min(arr) for i in arr if i-min(arr)>0]"
   ]
  },
  {
   "cell_type": "markdown",
   "metadata": {},
   "source": [
    "Answer to Repeated String: https://www.hackerrank.com/challenges/repeated-string/problem"
   ]
  },
  {
   "cell_type": "code",
   "execution_count": null,
   "metadata": {
    "collapsed": true
   },
   "outputs": [],
   "source": [
    "#!/bin/python\n",
    "\n",
    "import sys\n",
    "\n",
    "\n",
    "s = raw_input().strip()\n",
    "n = long(raw_input().strip())\n",
    "repetition = n/len(s) #number of repeats\n",
    "leftover = n%len(s) #part of string left after repeats\n",
    "print s.count('a')*repetition + s[:leftover].count('a')\n"
   ]
  },
  {
   "cell_type": "markdown",
   "metadata": {},
   "source": [
    "Answer to Jumping on the Clouds: https://www.hackerrank.com/challenges/jumping-on-the-clouds/problem"
   ]
  },
  {
   "cell_type": "code",
   "execution_count": null,
   "metadata": {
    "collapsed": true
   },
   "outputs": [],
   "source": [
    "#!/bin/python\n",
    "\n",
    "import sys\n",
    "\n",
    "\n",
    "n = int(raw_input().strip())\n",
    "c = map(int,raw_input().strip().split(' '))\n",
    "jumps = 0\n",
    "#Jump while until last cloud jump\n",
    "while(len(c)>3):\n",
    "    jumps+=1 #Jump to cloud\n",
    "    if c[2] != 1:\n",
    "        c=c[2:]\n",
    "    else:\n",
    "        c=c[1:]\n",
    "print jumps+1 #Add jump to last cloud"
   ]
  },
  {
   "cell_type": "markdown",
   "metadata": {},
   "source": [
    "Answer to Equalize the Array: https://www.hackerrank.com/challenges/equality-in-a-array/problem"
   ]
  },
  {
   "cell_type": "code",
   "execution_count": null,
   "metadata": {
    "collapsed": true
   },
   "outputs": [],
   "source": [
    "# Enter your code here. Read input from STDIN. Print output to STDOUT\n",
    "n = input()\n",
    "arr = map(int, raw_input().split())\n",
    "#Create set of unique numbers\n",
    "arr_set = set(arr)\n",
    "#Create list of counts\n",
    "arr_counts = [arr.count(i) for i in arr_set]\n",
    "#Remove maximum count and sum rest\n",
    "arr_counts.remove(max(arr_counts))\n",
    "print sum(arr_counts)\n"
   ]
  },
  {
   "cell_type": "markdown",
   "metadata": {},
   "source": [
    "Answer to Taum and B'day: https://www.hackerrank.com/challenges/taum-and-bday/problem"
   ]
  },
  {
   "cell_type": "code",
   "execution_count": null,
   "metadata": {
    "collapsed": true
   },
   "outputs": [],
   "source": [
    "#!/bin/python\n",
    "\n",
    "import sys\n",
    "\n",
    "\n",
    "t = int(raw_input().strip())\n",
    "for a0 in xrange(t):\n",
    "    b,w = raw_input().strip().split(' ')\n",
    "    b,w = [long(b),long(w)]\n",
    "    x,y,z = raw_input().strip().split(' ')\n",
    "    x,y,z = [long(x),long(y),long(z)]\n",
    "    #Decide if conversion black to white\n",
    "    if x+z < y:\n",
    "        print b*x+w*(x+z)\n",
    "    #Decide if conversion white to black\n",
    "    elif y+z < x:\n",
    "        print w*y + b*(y+z)\n",
    "    #Else buy both at original prices\n",
    "    else:\n",
    "        print w*y+b*x"
   ]
  },
  {
   "cell_type": "markdown",
   "metadata": {},
   "source": [
    "Answer to Encryption: https://www.hackerrank.com/challenges/encryption/problem"
   ]
  },
  {
   "cell_type": "code",
   "execution_count": null,
   "metadata": {
    "collapsed": true
   },
   "outputs": [],
   "source": [
    "#!/bin/python\n",
    "\n",
    "import sys\n",
    "import math\n",
    "\n",
    "s = raw_input().strip()\n",
    "#remove spaces\n",
    "s = s.replace(' ', '')\n",
    "num_rows = int(math.ceil(math.sqrt(len(s))))\n",
    "M = []\n",
    "for i in range(num_rows):\n",
    "    encrypt_word = ''\n",
    "    for j in range(num_rows):\n",
    "        letter_position = num_rows*j+i\n",
    "        if letter_position < len(s):\n",
    "            encrypt_word += s[letter_position]\n",
    "    M.append(encrypt_word)\n",
    "print ' '.join(M)"
   ]
  },
  {
   "cell_type": "markdown",
   "metadata": {},
   "source": [
    "Answer to Minimum Distances: https://www.hackerrank.com/challenges/minimum-distances/problem"
   ]
  },
  {
   "cell_type": "code",
   "execution_count": null,
   "metadata": {
    "collapsed": true
   },
   "outputs": [],
   "source": [
    "#!/bin/python\n",
    "\n",
    "import sys\n",
    "\n",
    "def minimum_distance(pair_set, array):\n",
    "    minimum_distance = len(array)\n",
    "    for pair in pair_set:\n",
    "        check_array = array\n",
    "        first_spot = check_array.index(pair)\n",
    "        check_array = check_array[first_spot+1:]\n",
    "        while (pair in check_array):     \n",
    "            second_spot = check_array.index(pair)\n",
    "            distance = second_spot+1\n",
    "            if distance < minimum_distance:\n",
    "                minimum_distance = distance\n",
    "            first_spot = second_spot\n",
    "            check_array = check_array[first_spot+1:]\n",
    "    return minimum_distance\n",
    "\n",
    "n = int(raw_input().strip())\n",
    "A = map(int,raw_input().strip().split(' '))\n",
    "A_pairs = [x for x in A if A.count(x)>1]\n",
    "pair_set = set(A_pairs)\n",
    "if pair_set:\n",
    "    print minimum_distance(pair_set, A)\n",
    "else:\n",
    "    print -1"
   ]
  },
  {
   "cell_type": "markdown",
   "metadata": {},
   "source": [
    "Answer to The Time in Words: https://www.hackerrank.com/challenges/the-time-in-words/problem"
   ]
  },
  {
   "cell_type": "code",
   "execution_count": null,
   "metadata": {
    "collapsed": true
   },
   "outputs": [],
   "source": [
    "#!/bin/python\n",
    "\n",
    "import sys\n",
    "\n",
    "\n",
    "h = int(raw_input().strip())\n",
    "m = raw_input().strip()\n",
    "one_to_twelve=['zero','one','two','three','four','five','six','seven','eight','nine','ten','eleven','twelve']\n",
    "ten_conversion=['ten','eleven','twelve','thirteen','fourteen','fifteen','sixteen','seventeen','eightteen','nineteen']\n",
    "\n",
    "#returns minutes portion of answer\n",
    "def get_minutes(m):\n",
    "    #check for one\n",
    "    if m=='1' or m=='01':\n",
    "        return \"one minute \"\n",
    "    #adjust length if necessary\n",
    "    if len(m) == 1:\n",
    "        m = '0'+m\n",
    "    #check for 20\n",
    "    if m[0] == '2':\n",
    "        return \"twenty \" + one_to_twelve[int(m[1])] + \" minutes \"\n",
    "    #check for teens:\n",
    "    elif m[0] == '1':\n",
    "        #check quarter\n",
    "        if m == '15':\n",
    "            return \"quarter \"\n",
    "        else:\n",
    "            return ten_conversion[int(m[1])] + \" minutes \"\n",
    "    else:\n",
    "        return one_to_twelve[int(m[1])] + \" minutes \"\n",
    "\n",
    "#00 m\n",
    "if m=='00':\n",
    "    print one_to_twelve[h] + \" o' clock\"\n",
    "#30 m\n",
    "elif m=='30':\n",
    "    print \"half past \" + one_to_twelve[h]\n",
    "#<30 m\n",
    "elif int(m)<30:\n",
    "    print get_minutes(m) + \"past \" + one_to_twelve[h]\n",
    "#>30 m\n",
    "else:\n",
    "    if h==12:\n",
    "        print get_minutes(str(60-int(m)))+ \"to one\"\n",
    "    else:\n",
    "        print get_minutes(str(60-int(m)))+ \"to \" + one_to_twelve[h+1]"
   ]
  },
  {
   "cell_type": "markdown",
   "metadata": {},
   "source": [
    "Answer to Chocolate Feast: https://www.hackerrank.com/challenges/chocolate-feast/problem"
   ]
  },
  {
   "cell_type": "code",
   "execution_count": null,
   "metadata": {
    "collapsed": true
   },
   "outputs": [],
   "source": [
    "#!/bin/python\n",
    "\n",
    "import sys\n",
    "\n",
    "\n",
    "t = int(raw_input().strip())\n",
    "for a0 in xrange(t):\n",
    "    n,c,m = raw_input().strip().split(' ')\n",
    "    n,c,m = [int(n),int(c),int(m)]   \n",
    "    #Initial amount of chocolates purchased\n",
    "    bought_chocolates = n/c\n",
    "    total_chocolates = bought_chocolates\n",
    "    #Iterate while Bobby can redeem chocolates\n",
    "    while bought_chocolates >= m:\n",
    "        total_chocolates+=bought_chocolates/m #Add newly traded in chocolate\n",
    "        bought_chocolates = bought_chocolates/m + bought_chocolates%m #Reduce wrappers by m & track left-over wrappers\n",
    "    print total_chocolates"
   ]
  },
  {
   "cell_type": "markdown",
   "metadata": {},
   "source": [
    "Answer to Service Lane: https://www.hackerrank.com/challenges/service-lane/problem"
   ]
  },
  {
   "cell_type": "code",
   "execution_count": null,
   "metadata": {
    "collapsed": true
   },
   "outputs": [],
   "source": [
    "#!/bin/python\n",
    "\n",
    "import sys\n",
    "\n",
    "\n",
    "n,t = raw_input().strip().split(' ')\n",
    "n,t = [int(n),int(t)]\n",
    "width = map(int,raw_input().strip().split(' '))\n",
    "for a0 in xrange(t):\n",
    "    i,j = raw_input().strip().split(' ')\n",
    "    i,j = [int(i),int(j)]\n",
    "    if min(width[i:j+1]) == 1:\n",
    "        print 1\n",
    "    elif min(width[i:j+1]) == 2:\n",
    "        print 2\n",
    "    else:\n",
    "        print 3"
   ]
  },
  {
   "cell_type": "markdown",
   "metadata": {},
   "source": [
    "Answer to Lisa's Workbook: https://www.hackerrank.com/challenges/lisa-workbook/problem"
   ]
  },
  {
   "cell_type": "code",
   "execution_count": null,
   "metadata": {
    "collapsed": true
   },
   "outputs": [],
   "source": [
    "# Enter your code here. Read input from STDIN. Print output to STDOUT\n",
    "import math\n",
    "\n",
    "chapters, problems_per_page = map(int, raw_input().split())\n",
    "problems_per_chapter = map(int, raw_input().split())\n",
    "current_page = 1 #Page counter\n",
    "special_problems = 0 #Special problems counter\n",
    "#Iterate over number of chapters\n",
    "for i in range(chapters):\n",
    "    problem_numbers = [x for x in range(1,problems_per_chapter[i]+1)]\n",
    "    #print 'chapter', i, problem_numbers\n",
    "    #Iterate over problems on each page\n",
    "    for i in range(int(math.ceil(len(problem_numbers)/float(problems_per_page)))):\n",
    "        problems_on_page = problem_numbers[i*problems_per_page:((i+1)*problems_per_page)]\n",
    "        #print current_page, problems_on_page\n",
    "        #Check if page number matches a problem number\n",
    "        if current_page in problems_on_page:          \n",
    "            special_problems += 1\n",
    "            #print 'Special problems %s' % (special_problems)\n",
    "        current_page += 1\n",
    "print special_problems"
   ]
  },
  {
   "cell_type": "markdown",
   "metadata": {},
   "source": [
    "#### Strings challenges:\n",
    "Answer to Two Characters: https://www.hackerrank.com/challenges/two-characters/problem"
   ]
  },
  {
   "cell_type": "code",
   "execution_count": null,
   "metadata": {
    "collapsed": true
   },
   "outputs": [],
   "source": [
    "#!/bin/python\n",
    "\n",
    "import sys\n",
    "import itertools\n",
    "\n",
    "def check_alternating(s):\n",
    "    for i in range(0,len(s)-1):\n",
    "        if s[i]==s[i+1]:\n",
    "            return False\n",
    "    return True\n",
    "\n",
    "\n",
    "s_len = int(raw_input().strip())\n",
    "s = raw_input().strip()\n",
    "char_list = ''.join(list(set(s)))\n",
    "longest_string = 0\n",
    "char_combinations = list(itertools.combinations(char_list,2))\n",
    "for combination in char_combinations:\n",
    "    test_string = ''.join(x for x in s if x in combination)\n",
    "    if check_alternating(test_string):\n",
    "        longest_string = max(longest_string, len(test_string))\n",
    "print longest_string\n"
   ]
  },
  {
   "cell_type": "markdown",
   "metadata": {},
   "source": [
    "Answer to challenge Weighted Uniform Strings: https://www.hackerrank.com/challenges/weighted-uniform-string"
   ]
  },
  {
   "cell_type": "code",
   "execution_count": null,
   "metadata": {
    "collapsed": true
   },
   "outputs": [],
   "source": [
    "#!/bin/python\n",
    "\n",
    "import sys\n",
    "\n",
    "\n",
    "s = raw_input().strip()\n",
    "n = int(raw_input().strip())\n",
    "weight = -ord('a')+1\n",
    "U = set()\n",
    "previous_letter = s[0]\n",
    "previous_weight = ord(previous_letter)+weight\n",
    "U.add(previous_weight)\n",
    "for current_letter in s[1:]:\n",
    "    if current_letter == previous_letter:\n",
    "        substring_weight = ord(current_letter)+weight+previous_weight\n",
    "        previous_weight = substring_weight\n",
    "    else:\n",
    "        previous_weight = ord(current_letter)+weight\n",
    "        previous_letter = current_letter\n",
    "        substring_weight = previous_weight\n",
    "    U.add(substring_weight)\n",
    "    \n",
    "for a0 in xrange(n):\n",
    "    x = int(raw_input().strip())\n",
    "    if x in U:\n",
    "        print \"Yes\"\n",
    "    else:\n",
    "        print \"No\""
   ]
  },
  {
   "cell_type": "markdown",
   "metadata": {},
   "source": [
    "Answer to challenge Funny String: https://www.hackerrank.com/challenges/funny-string"
   ]
  },
  {
   "cell_type": "code",
   "execution_count": null,
   "metadata": {
    "collapsed": true
   },
   "outputs": [],
   "source": [
    "#!/bin/python\n",
    "\n",
    "import sys\n",
    "\n",
    "def funnyString(s):\n",
    "    # Complete this function\n",
    "    back = len(s)-1\n",
    "    for i in range(len(s)/2):  \n",
    "        if abs(ord(s[i+1])-ord(s[i])) != abs(ord(s[back-i-1]) - ord(s[back-i])):\n",
    "            return 'Not Funny'\n",
    "    return 'Funny'\n",
    "     \n",
    "\n",
    "q = int(raw_input().strip())\n",
    "for a0 in xrange(q):\n",
    "    s = raw_input().strip()\n",
    "    result = funnyString(s)\n",
    "    print(result)"
   ]
  },
  {
   "cell_type": "markdown",
   "metadata": {},
   "source": [
    "Answer to challenge Gemstones: https://www.hackerrank.com/challenges/gem-stones"
   ]
  },
  {
   "cell_type": "code",
   "execution_count": null,
   "metadata": {
    "collapsed": true
   },
   "outputs": [],
   "source": [
    "#!/bin/python\n",
    "\n",
    "import sys\n",
    "\n",
    "def gemstones(arr):\n",
    "    # Complete this function\n",
    "    gem_set = set(arr[0])\n",
    "    for stone in arr:\n",
    "            gem_set.intersection_update(set(stone))\n",
    "    return len(gem_set)   \n",
    "\n",
    "n = int(raw_input().strip())\n",
    "arr = []\n",
    "arr_i = 0\n",
    "for arr_i in xrange(n):\n",
    "    arr_t = str(raw_input().strip())\n",
    "    arr.append(arr_t)\n",
    "result = gemstones(arr)\n",
    "print(result)"
   ]
  },
  {
   "cell_type": "markdown",
   "metadata": {},
   "source": [
    "Answer to challenge Alternating Characters: https://www.hackerrank.com/challenges/alternating-characters"
   ]
  },
  {
   "cell_type": "code",
   "execution_count": null,
   "metadata": {
    "collapsed": true
   },
   "outputs": [],
   "source": [
    "#!/bin/python\n",
    "\n",
    "import sys\n",
    "\n",
    "def alternatingCharacters(s):\n",
    "    # Complete this function\n",
    "    outstring = s[0]\n",
    "    for i in range(1,len(s)):\n",
    "        if s[i] != s[i-1]:\n",
    "            outstring = outstring + s[i]\n",
    "    return len(s)-len(outstring)\n",
    "\n",
    "q = int(raw_input().strip())\n",
    "for a0 in xrange(q):\n",
    "    s = raw_input().strip()\n",
    "    result = alternatingCharacters(s)\n",
    "    print(result)"
   ]
  },
  {
   "cell_type": "markdown",
   "metadata": {},
   "source": [
    "Answer to challenge Beautiful Binary String: https://www.hackerrank.com/challenges/beautiful-binary-string"
   ]
  },
  {
   "cell_type": "code",
   "execution_count": null,
   "metadata": {
    "collapsed": true
   },
   "outputs": [],
   "source": [
    "#!/bin/python\n",
    "\n",
    "import sys\n",
    "\n",
    "def minSteps(n, B):\n",
    "    # Complete this function\n",
    "    steps=0\n",
    "    while B.find('010') != -1:\n",
    "        B = B.replace('010', '011', 1)\n",
    "        steps +=1\n",
    "    return steps\n",
    "\n",
    "n = int(raw_input().strip())\n",
    "B = raw_input().strip()\n",
    "result = minSteps(n, B)\n",
    "print(result)"
   ]
  },
  {
   "cell_type": "markdown",
   "metadata": {},
   "source": [
    "Answer to challenge The Love-Letter Mystery: https://www.hackerrank.com/challenges/the-love-letter-mystery"
   ]
  },
  {
   "cell_type": "code",
   "execution_count": null,
   "metadata": {
    "collapsed": true
   },
   "outputs": [],
   "source": [
    "#!/bin/python\n",
    "\n",
    "import sys\n",
    "\n",
    "def theLoveLetterMystery(s):\n",
    "    # Complete this function\n",
    "    steps = 0\n",
    "    R = s[::-1]\n",
    "    for i in range(len(s)/2):\n",
    "        steps += abs(ord(s[i]) - ord(R[i]))\n",
    "    return steps\n",
    "\n",
    "q = int(raw_input().strip())\n",
    "for a0 in xrange(q):\n",
    "    s = raw_input().strip()\n",
    "    result = theLoveLetterMystery(s)\n",
    "    print(result)"
   ]
  },
  {
   "cell_type": "markdown",
   "metadata": {
    "collapsed": true
   },
   "source": [
    "Answer to Anagram: https://www.hackerrank.com/challenges/anagram"
   ]
  },
  {
   "cell_type": "code",
   "execution_count": null,
   "metadata": {
    "collapsed": true
   },
   "outputs": [],
   "source": [
    "#!/bin/python\n",
    "\n",
    "import sys\n",
    "\n",
    "def anagram(s):\n",
    "    # Complete this function\n",
    "    if len(s)%2 != 0:\n",
    "        return -1\n",
    "    s1, s2 = s[:len(s)/2], s[len(s)/2:]\n",
    "    for char in s1:\n",
    "        if char in s2:\n",
    "            s2 = s2.replace(char,'', 1)\n",
    "    return len(s2)\n",
    "\n",
    "q = int(raw_input().strip())\n",
    "for a0 in xrange(q):\n",
    "    s = raw_input().strip()\n",
    "    result = anagram(s)\n",
    "    print(result)"
   ]
  },
  {
   "cell_type": "markdown",
   "metadata": {
    "collapsed": true
   },
   "source": [
    "Answer to Making Anagrams: https://www.hackerrank.com/challenges/making-anagrams"
   ]
  },
  {
   "cell_type": "code",
   "execution_count": null,
   "metadata": {
    "collapsed": true
   },
   "outputs": [],
   "source": [
    "#!/bin/python\n",
    "\n",
    "import sys\n",
    "\n",
    "def makingAnagrams(s1, s2):\n",
    "    # Complete this function\n",
    "    for char in s1:\n",
    "        if char in s2:\n",
    "            s1 = s1.replace(char, '', 1)\n",
    "            s2 = s2.replace(char, '', 1)\n",
    "    return len(s1)+len(s2)\n",
    "\n",
    "s1 = raw_input().strip()\n",
    "s2 = raw_input().strip()\n",
    "result = makingAnagrams(s1, s2)\n",
    "print(result)"
   ]
  },
  {
   "cell_type": "markdown",
   "metadata": {},
   "source": [
    "Answer to Game of Thrones - I: https://www.hackerrank.com/challenges/game-of-thrones"
   ]
  },
  {
   "cell_type": "code",
   "execution_count": null,
   "metadata": {
    "collapsed": true
   },
   "outputs": [],
   "source": [
    "#!/bin/python\n",
    "\n",
    "import sys\n",
    "\n",
    "def gameOfThrones(s):\n",
    "    # Complete this function\n",
    "    char_set = set(s)\n",
    "    num_odd = 0\n",
    "    for char in char_set:\n",
    "        if s.count(char)%2 != 0:\n",
    "            num_odd += 1\n",
    "        if num_odd > 1:\n",
    "            return 'NO'\n",
    "        elif num_odd == 1 and len(s)%2 == 0:\n",
    "            return 'NO'\n",
    "    return 'YES'\n",
    "    \n",
    "\n",
    "s = raw_input().strip()\n",
    "result = gameOfThrones(s)\n",
    "print(result)"
   ]
  },
  {
   "cell_type": "markdown",
   "metadata": {},
   "source": [
    "Answer to Two String: https://www.hackerrank.com/challenges/two-strings"
   ]
  },
  {
   "cell_type": "code",
   "execution_count": null,
   "metadata": {
    "collapsed": true
   },
   "outputs": [],
   "source": [
    "#!/bin/python\n",
    "\n",
    "import sys\n",
    "\n",
    "def twoStrings(s1, s2):\n",
    "    # Complete this function\n",
    "    char_set = set(s1)\n",
    "    for char in char_set:\n",
    "        if char in s2:\n",
    "            return 'YES'\n",
    "    return 'NO'\n",
    "\n",
    "q = int(raw_input().strip())\n",
    "for a0 in xrange(q):\n",
    "    s1 = raw_input().strip()\n",
    "    s2 = raw_input().strip()\n",
    "    result = twoStrings(s1, s2)\n",
    "    print(result)\n"
   ]
  },
  {
   "cell_type": "markdown",
   "metadata": {},
   "source": [
    "Answer to String Construction: https://www.hackerrank.com/challenges/string-construction"
   ]
  },
  {
   "cell_type": "code",
   "execution_count": null,
   "metadata": {
    "collapsed": true
   },
   "outputs": [],
   "source": [
    "#!/bin/python\n",
    "\n",
    "import sys\n",
    "\n",
    "def stringConstruction(s):\n",
    "    # Complete this function\n",
    "    p = ''\n",
    "    p_cost = 0\n",
    "    for char in s:\n",
    "        if char not in p:\n",
    "            p_cost +=1\n",
    "        p += char\n",
    "    return p_cost\n",
    "\n",
    "if __name__ == \"__main__\":\n",
    "    q = int(raw_input().strip())\n",
    "    for a0 in xrange(q):\n",
    "        s = raw_input().strip()\n",
    "        result = stringConstruction(s)\n",
    "        print result"
   ]
  },
  {
   "cell_type": "markdown",
   "metadata": {},
   "source": [
    "Answer to Sherlock and the Valid String: https://www.hackerrank.com/challenges/sherlock-and-valid-string/problem"
   ]
  },
  {
   "cell_type": "code",
   "execution_count": null,
   "metadata": {
    "collapsed": true
   },
   "outputs": [],
   "source": [
    "#!/bin/python\n",
    "\n",
    "import sys\n",
    "\n",
    "def isValid(s):\n",
    "    # Complete this function\n",
    "    char_set = set(s)\n",
    "    char_counts = []\n",
    "    for char in char_set:\n",
    "        char_counts.append(s.count(char))\n",
    "    char_count_counts = set(char_counts)\n",
    "    if len(char_count_counts) == 1: #All characters have same amount of counts\n",
    "        return 'YES'\n",
    "    elif len(char_count_counts) == 2:\n",
    "        if char_counts.count(1) == 1: #One character has a count of 1\n",
    "            return 'YES'\n",
    "        if char_counts.count(max(char_count_counts)) == 1: #One character has a greater than norm count\n",
    "            if max(char_count_counts) - min(char_count_counts) == 1: #Max count is off by only one\n",
    "                return 'YES'\n",
    "    return 'NO'    \n",
    "\n",
    "s = raw_input().strip()\n",
    "result = isValid(s)\n",
    "print(result)"
   ]
  },
  {
   "cell_type": "code",
   "execution_count": 6,
   "metadata": {},
   "outputs": [
    {
     "name": "stdout",
     "output_type": "stream",
     "text": [
      "100000\n"
     ]
    }
   ],
   "source": [
    "print 10**5"
   ]
  },
  {
   "cell_type": "markdown",
   "metadata": {},
   "source": [
    "#### Sorting Challenges\n",
    "Answer to intro to Tutorial Challenges: https://www.hackerrank.com/challenges/tutorial-intro"
   ]
  },
  {
   "cell_type": "code",
   "execution_count": null,
   "metadata": {
    "collapsed": true
   },
   "outputs": [],
   "source": [
    "# Enter your code here. Read input from STDIN. Print output to STDOUT\n",
    "V = input()\n",
    "n = input()\n",
    "ar = map(int, raw_input().split())\n",
    "print ar.index(V)"
   ]
  },
  {
   "cell_type": "markdown",
   "metadata": {},
   "source": [
    "Answer to Quicksort 1 - Partition: https://www.hackerrank.com/challenges/quicksort1/problem <br>\n",
    "Help from Suquant on Stack Overflow: https://stackoverflow.com/users/3702918/suquant"
   ]
  },
  {
   "cell_type": "code",
   "execution_count": null,
   "metadata": {
    "collapsed": true
   },
   "outputs": [],
   "source": [
    "#!/bin/python\n",
    "def partition(ar):    \n",
    "    begin = 0\n",
    "    pivot = begin\n",
    "    for i in range(begin+1, len(ar)):\n",
    "        if ar[i] < ar[begin]:\n",
    "            pivot += 1\n",
    "            ar[pivot], ar[i] = ar[i], ar[pivot]\n",
    "    ar[pivot], ar[begin] = ar[begin], ar[pivot]\n",
    "    return ar\n",
    "\n",
    "m = input()\n",
    "ar = [int(i) for i in raw_input().strip().split()]\n",
    "print \" \".join(map(str, partition(ar)))"
   ]
  },
  {
   "cell_type": "markdown",
   "metadata": {},
   "source": [
    "#### Search Challenges\n",
    "Answer to Hackerland Radio: https://www.hackerrank.com/challenges/hackerland-radio-transmitters"
   ]
  },
  {
   "cell_type": "code",
   "execution_count": null,
   "metadata": {
    "collapsed": true
   },
   "outputs": [],
   "source": [
    "#!/bin/python\n",
    "\n",
    "import sys\n",
    "\n",
    "\n",
    "n,k = raw_input().strip().split(' ')\n",
    "n,k = [int(n),int(k)]\n",
    "transmitter_range = k\n",
    "x = map(int,raw_input().strip().split(' '))\n",
    "sorted_x = sorted(set(x))\n",
    "min_house = min(sorted_x)\n",
    "transmitter_count = 1\n",
    "for house in sorted_x:\n",
    "    if house - min_house <= transmitter_range: #Can move transmitter further from min_house\n",
    "        transmitter_house = house\n",
    "        #print \"Transmitter moved to \", house\n",
    "    elif house - transmitter_house > transmitter_range: #Need another transmitter to cover next area\n",
    "        min_house = house\n",
    "        transmitter_count += 1\n",
    "        #print \"Transmitters increased to \", transmitter_count\n",
    "print transmitter_count"
   ]
  },
  {
   "cell_type": "markdown",
   "metadata": {},
   "source": [
    "Answer to Gridland Metro: https://www.hackerrank.com/challenges/gridland-metro/problem"
   ]
  },
  {
   "cell_type": "code",
   "execution_count": null,
   "metadata": {
    "collapsed": true
   },
   "outputs": [],
   "source": [
    "# Enter your code here. Read input from STDIN. Print output to STDOUT\n",
    "rows, columns, num_tracks = map(int, raw_input().split())\n",
    "\n",
    "gridsize = rows*columns\n",
    "\n",
    "#Create dictionary of tracks\n",
    "track_locations = {}\n",
    "for a0 in range(num_tracks):\n",
    "    row, start, stop = map(int, raw_input().split())\n",
    "    if row not in track_locations:\n",
    "        track_locations[row] = [[start, stop]]\n",
    "    else:\n",
    "        #Check for overlap\n",
    "        add = True\n",
    "        for track in track_locations[row]:\n",
    "            #Do not add if new track inside old track\n",
    "            if start >= track[0] and stop <= track[1]:\n",
    "                add = False\n",
    "                break\n",
    "            #Remove tracks that are inside new track\n",
    "            if start <= track[0] and stop >= track[1]:\n",
    "                track_locations[row].remove(track)\n",
    "            #Start of new track in middle of old track\n",
    "            elif start <= track[1] and start >= track[0]:\n",
    "                start = track[0]\n",
    "                track_locations[row].remove(track)\n",
    "            #Stop of new track in middle of old track\n",
    "            elif stop >= track[0] and stop <= track[1]:\n",
    "                stop = track[1]\n",
    "                track_locations[row].remove(track)\n",
    "        if add:\n",
    "            track_locations[row].append([start,stop])\n",
    "        \n",
    "num_tracks = 0\n",
    "#Add up number of tracks laid\n",
    "for row in track_locations:\n",
    "    for track in track_locations[row]:\n",
    "        num_tracks += track[1]-track[0]+1\n",
    "\n",
    "print gridsize-num_tracks"
   ]
  },
  {
   "cell_type": "markdown",
   "metadata": {},
   "source": [
    "Answer to Ice Cream Parlor: https://www.hackerrank.com/challenges/icecream-parlor"
   ]
  },
  {
   "cell_type": "code",
   "execution_count": null,
   "metadata": {
    "collapsed": true
   },
   "outputs": [],
   "source": [
    "# Enter your code here. Read input from STDIN. Print output to STDOUT\n",
    "def find_Flavors(money, num_flavors, flavor_costs):\n",
    "    for i in range(num_flavors-1):\n",
    "        for j in range(i+1, num_flavors):\n",
    "            if flavor_costs[i] + flavor_costs[j] == money:\n",
    "                return [str(i+1),str(j+1)]\n",
    "\n",
    "trips = input()\n",
    "for a0 in range(trips):\n",
    "    money = input()\n",
    "    num_flavors = input()\n",
    "    flavor_costs = map(int, raw_input().split())\n",
    "    flavors = find_Flavors(money, num_flavors, flavor_costs)\n",
    "    print \" \".join(flavors)"
   ]
  },
  {
   "cell_type": "markdown",
   "metadata": {},
   "source": [
    "Answer to Missing Numbers: https://www.hackerrank.com/challenges/missing-numbers/problem"
   ]
  },
  {
   "cell_type": "code",
   "execution_count": null,
   "metadata": {
    "collapsed": true
   },
   "outputs": [],
   "source": [
    "# Enter your code here. Read input from STDIN. Print output to STDOUT\n",
    "n = input()\n",
    "list1 = raw_input().split()\n",
    "set1 = set(list1)\n",
    "m = input()\n",
    "list2 = raw_input().split()\n",
    "set2 = set(list2)\n",
    "missing_numbers = list(set1.difference(set2))\n",
    "for number in set1.union(set2):\n",
    "    if list1.count(number) != list2.count(number):\n",
    "        missing_numbers.append(number)\n",
    "print ' '.join(sorted(missing_numbers))"
   ]
  },
  {
   "cell_type": "markdown",
   "metadata": {},
   "source": [
    "Answer to Pairs: https://www.hackerrank.com/challenges/pairs/problem"
   ]
  },
  {
   "cell_type": "code",
   "execution_count": null,
   "metadata": {
    "collapsed": true
   },
   "outputs": [],
   "source": [
    "#!/usr/bin/py\n",
    "# Head ends here\n",
    "def pairs(a,k):\n",
    "    #a contains array of numbers and k is the value of difference\n",
    "    answer = 0\n",
    "    #Convert lsit to dictionary for faster lookup\n",
    "    a_dict = {}\n",
    "    for number in a:\n",
    "        a_dict[number] = 1\n",
    "    #Loop through unique numbers in dict\n",
    "    for number in a_dict:\n",
    "        if number+k in a_dict:\n",
    "            answer+=1\n",
    "    return answer\n",
    "# Tail starts here\n",
    "if __name__ == '__main__':\n",
    "    a = map(int, raw_input().strip().split(\" \"))\n",
    "    _a_size=a[0]\n",
    "    _k=a[1]\n",
    "    b = map(int, raw_input().strip().split(\" \"))\n",
    "    print pairs(b,_k)"
   ]
  },
  {
   "cell_type": "markdown",
   "metadata": {},
   "source": [
    "Answer to Sherlock and Array: https://www.hackerrank.com/challenges/sherlock-and-array/problem"
   ]
  },
  {
   "cell_type": "code",
   "execution_count": null,
   "metadata": {
    "collapsed": true
   },
   "outputs": [],
   "source": [
    "#!/bin/python\n",
    "\n",
    "import sys\n",
    "import math\n",
    "\n",
    "def solve(a):\n",
    "    # Complete this function\n",
    "    len_a = len(a)\n",
    "    #Check length of array is greater than 1\n",
    "    if len_a == 1:\n",
    "        return 'YES'\n",
    "    #Start in middle, jump halfway down array, continue until no further jumps\n",
    "    jumps = 1\n",
    "    position = len_a/(jumps*2) #Starting position is in middle of array\n",
    "    while (jumps<math.ceil(math.sqrt(len_a))):\n",
    "        jumps += 1 #Increase counter\n",
    "        sum_left = sum(a[:position])\n",
    "        sum_right = sum(a[position+1:])\n",
    "        if sum_left == sum_right:\n",
    "            return 'YES'\n",
    "        elif sum_left > sum_right:\n",
    "            position += -len_a/(jumps**2) #Move position marker left\n",
    "        else:\n",
    "            position += len_a/(jumps**2) #Move position marker right\n",
    "    \n",
    "    return 'NO' \n",
    "\n",
    "T = int(raw_input().strip())\n",
    "for a0 in xrange(T):\n",
    "    n = int(raw_input().strip())\n",
    "    a = map(int, raw_input().strip().split(' '))\n",
    "    result = solve(a)\n",
    "    print(result)"
   ]
  },
  {
   "cell_type": "markdown",
   "metadata": {},
   "source": [
    "#### Greedy challenges\n",
    "Answer to Minimum Absolute Difference in an Array: https://www.hackerrank.com/challenges/minimum-absolute-difference-in-an-array"
   ]
  },
  {
   "cell_type": "code",
   "execution_count": null,
   "metadata": {
    "collapsed": true
   },
   "outputs": [],
   "source": [
    "#!/bin/python\n",
    "\n",
    "import sys\n",
    "\n",
    "def minimumAbsoluteDifference(n, arr):\n",
    "    # Complete this function\n",
    "    arr.sort()\n",
    "    differences = []\n",
    "    for i in range(n-1):\n",
    "        differences.append(abs(arr[i+1]-arr[i]))\n",
    "    return min(differences)\n",
    "\n",
    "if __name__ == \"__main__\":\n",
    "    n = int(raw_input().strip())\n",
    "    arr = map(int, raw_input().strip().split(' '))\n",
    "    result = minimumAbsoluteDifference(n, arr)\n",
    "    print result"
   ]
  },
  {
   "cell_type": "markdown",
   "metadata": {},
   "source": [
    "Answer to Marc's Cakewalk: https://www.hackerrank.com/challenges/marcs-cakewalk"
   ]
  },
  {
   "cell_type": "code",
   "execution_count": null,
   "metadata": {
    "collapsed": true
   },
   "outputs": [],
   "source": [
    "#!/bin/python\n",
    "\n",
    "import sys\n",
    "\n",
    "n = int(raw_input().strip())\n",
    "calories = map(int, raw_input().strip().split(' '))\n",
    "# your code goes here\n",
    "calories.sort(reverse = True)\n",
    "miles = 0\n",
    "for i in range(len(calories)):\n",
    "    miles += calories[i]*(2**i)\n",
    "print miles"
   ]
  },
  {
   "cell_type": "markdown",
   "metadata": {},
   "source": [
    "Answer to Grid Challenge: https://www.hackerrank.com/challenges/grid-challenge"
   ]
  },
  {
   "cell_type": "code",
   "execution_count": null,
   "metadata": {
    "collapsed": true
   },
   "outputs": [],
   "source": [
    "# Enter your code here. Read input from STDIN. Print output to STDOUT\n",
    "T = input()\n",
    "for a0 in range(T):\n",
    "    N = input()\n",
    "    grid = []\n",
    "    for ae in range(N):\n",
    "        grid.append(sorted(raw_input()))\n",
    "    if [list(a) for a in zip(*grid)] == map(sorted,zip(*grid)):\n",
    "        print 'YES'\n",
    "    else:\n",
    "        print 'NO'"
   ]
  },
  {
   "cell_type": "markdown",
   "metadata": {},
   "source": [
    "Answer to Luck Balance: https://www.hackerrank.com/challenges/luck-balance"
   ]
  },
  {
   "cell_type": "code",
   "execution_count": null,
   "metadata": {
    "collapsed": true
   },
   "outputs": [],
   "source": [
    "# Enter your code here. Read input from STDIN. Print output to STDOUT\n",
    "num_contests, max_loses = map(int, raw_input().split())\n",
    "important, non_important = [], []\n",
    "for a0 in range(num_contests):\n",
    "    luck_value, importance = map(int, raw_input().split())\n",
    "    if importance == 1:\n",
    "        important.append(luck_value)\n",
    "    else:\n",
    "        non_important.append(luck_value)\n",
    "important.sort()\n",
    "loss_position = max(0, len(important)-max_loses)\n",
    "print sum(non_important) + sum(important[loss_position:])-sum(important[:loss_position])"
   ]
  },
  {
   "cell_type": "markdown",
   "metadata": {},
   "source": [
    "Answer to Maximum Perimeter Triangle: https://www.hackerrank.com/challenges/maximum-perimeter-triangle"
   ]
  },
  {
   "cell_type": "code",
   "execution_count": null,
   "metadata": {
    "collapsed": true
   },
   "outputs": [],
   "source": [
    "# Enter your code here. Read input from STDIN. Print output to STDOUT\n",
    "def find_triangle(sorted_sticks):\n",
    "    for i in range(len(sorted_sticks), 2, -1):\n",
    "        stick_triangle=sorted_sticks[i-3:i]\n",
    "        if stick_triangle[2] < sum(stick_triangle[:2]):\n",
    "            return stick_triangle\n",
    "    return [-1]\n",
    "\n",
    "n_sticks = input()\n",
    "sticks = map(int, raw_input().split())\n",
    "sticks.sort()\n",
    "print ' '.join(map(str,find_triangle(sticks)))"
   ]
  },
  {
   "cell_type": "markdown",
   "metadata": {},
   "source": [
    "Answer to Sherlock and The Beast: https://www.hackerrank.com/challenges/sherlock-and-the-beast"
   ]
  },
  {
   "cell_type": "code",
   "execution_count": null,
   "metadata": {
    "collapsed": true
   },
   "outputs": [],
   "source": [
    "#!/bin/python\n",
    "\n",
    "import sys\n",
    "def decent_number(n):\n",
    "    #Check for evenly divisible by 3\n",
    "    if n%3 == 0:\n",
    "        return '5' * n\n",
    "    #Check for removing a multiple of 5 and having remainder divisible by 3\n",
    "    for i in range(1, (n/5)+1):\n",
    "        if (n-(5*i))%3==0:\n",
    "            return '5' * (n-(5*i)) + '3' * (i*5)\n",
    "    #Else return -1\n",
    "    return '-1'\n",
    "    \n",
    "\n",
    "t = int(raw_input().strip())\n",
    "for a0 in xrange(t):\n",
    "    n = int(raw_input().strip())\n",
    "    print decent_number(n)"
   ]
  },
  {
   "cell_type": "markdown",
   "metadata": {},
   "source": [
    "#### Bit Manipulation Challenges\n",
    "Answer to Lonely Integer: https://www.hackerrank.com/challenges/lonely-integer/problem"
   ]
  },
  {
   "cell_type": "code",
   "execution_count": null,
   "metadata": {
    "collapsed": true
   },
   "outputs": [],
   "source": [
    "#!/bin/python\n",
    "\n",
    "import sys\n",
    "\n",
    "def lonelyinteger(a):\n",
    "    # Complete this function\n",
    "    int_set = set(a)\n",
    "    for i in int_set:\n",
    "        if a.count(i) == 1:\n",
    "            return i\n",
    "\n",
    "n = int(raw_input().strip())\n",
    "a = map(int, raw_input().strip().split(' '))\n",
    "result = lonelyinteger(a)\n",
    "print(result)"
   ]
  },
  {
   "cell_type": "markdown",
   "metadata": {},
   "source": [
    "Answer to Maximizing XOR: https://www.hackerrank.com/challenges/maximizing-xor/problem"
   ]
  },
  {
   "cell_type": "code",
   "execution_count": null,
   "metadata": {
    "collapsed": true
   },
   "outputs": [],
   "source": [
    "#!/bin/python\n",
    "\n",
    "# Complete the function below.\n",
    "\n",
    "\n",
    "def  maxXor( l,  r):\n",
    "    max_value = 0\n",
    "    for i in range(l,r+1):\n",
    "        for j in range(l,r+1):\n",
    "            if i^j > max_value:\n",
    "                max_value = i^j\n",
    "    return max_value\n",
    "\n",
    "    \n",
    "\n",
    "_l = int(raw_input());\n",
    "\n",
    "\n",
    "_r = int(raw_input());\n",
    "\n",
    "res = maxXor(_l, _r);\n",
    "print(res)"
   ]
  },
  {
   "cell_type": "markdown",
   "metadata": {},
   "source": [
    "#### Recursion Challenges\n",
    "Answer to The Power Sum: https://www.hackerrank.com/challenges/the-power-sum/problem"
   ]
  },
  {
   "cell_type": "code",
   "execution_count": null,
   "metadata": {
    "collapsed": true
   },
   "outputs": [],
   "source": [
    "# Enter your code here. Read input from STDIN. Print output to STDOUT\n",
    "import math\n",
    "\n",
    "def find_combinations(arr, X):\n",
    "    #print arr, X\n",
    "    if X < 0:\n",
    "        return []\n",
    "    if not arr:\n",
    "        if X == 0:\n",
    "            return [[]]\n",
    "        return []\n",
    "    return find_combinations(arr[1:], X) +[[arr[0]] + tail for tail in find_combinations(arr[1:], X - arr[0]) if X-arr[0] >=0]\n",
    "\n",
    "X = input()\n",
    "N = input()\n",
    "#Create array of possible powers\n",
    "powers = [i**N for i in range(1, int(math.floor(X ** (1./N)))+1)]\n",
    "#Use O(n^2) search to find powers that sum to X\n",
    "print len(find_combinations(powers, X))"
   ]
  },
  {
   "cell_type": "code",
   "execution_count": 8,
   "metadata": {},
   "outputs": [
    {
     "name": "stdout",
     "output_type": "stream",
     "text": [
      "Yes\n",
      "Out of range\n"
     ]
    }
   ],
   "source": [
    "if 5 in range(4,6):\n",
    "    print 'Yes'\n",
    "if 6 in range(3,6):\n",
    "    print 'Yes'\n",
    "else:\n",
    "    print 'Out of range'"
   ]
  },
  {
   "cell_type": "code",
   "execution_count": 2,
   "metadata": {},
   "outputs": [
    {
     "name": "stdout",
     "output_type": "stream",
     "text": [
      "1.0\n"
     ]
    }
   ],
   "source": [
    "import math\n",
    "\n",
    "print math.ceil(4/3)"
   ]
  },
  {
   "cell_type": "code",
   "execution_count": null,
   "metadata": {
    "collapsed": true
   },
   "outputs": [],
   "source": []
  }
 ],
 "metadata": {
  "kernelspec": {
   "display_name": "Python 2",
   "language": "python",
   "name": "python2"
  },
  "language_info": {
   "codemirror_mode": {
    "name": "ipython",
    "version": 2
   },
   "file_extension": ".py",
   "mimetype": "text/x-python",
   "name": "python",
   "nbconvert_exporter": "python",
   "pygments_lexer": "ipython2",
   "version": "2.7.13"
  }
 },
 "nbformat": 4,
 "nbformat_minor": 2
}
