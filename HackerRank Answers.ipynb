{
 "cells": [
  {
   "cell_type": "markdown",
   "metadata": {},
   "source": [
    "Answers to Hackerrank challenges.  Written without editorial or discussion help unless otherwise noted.\n",
    "<br>\n",
    "By: Alfred Lyle"
   ]
  },
  {
   "cell_type": "markdown",
   "metadata": {},
   "source": [
    "Answer to challenge Alphabet Rangoli: https://www.hackerrank.com/challenges/alphabet-rangoli"
   ]
  },
  {
   "cell_type": "code",
   "execution_count": 1,
   "metadata": {
    "collapsed": true
   },
   "outputs": [],
   "source": [
    "def print_rangoli(size):\n",
    "    ord_base = ord('a')-1\n",
    "    row_size = (size-1)*4 + 1\n",
    "    for i in xrange(size, (size*-1)-1, -1):\n",
    "        if i != 0 and i!=-1:\n",
    "            i=abs(i)\n",
    "            centerpiece = chr(ord_base+i)\n",
    "            while i<size:\n",
    "                i+=1\n",
    "                centerpiece = chr(ord_base+i) + '-' + centerpiece + '-' + chr(ord_base+i)\n",
    "            print centerpiece.center(row_size, '-')"
   ]
  },
  {
   "cell_type": "markdown",
   "metadata": {},
   "source": [
    "Answer to challenge Capitalize!: https://www.hackerrank.com/challenges/capitalize"
   ]
  },
  {
   "cell_type": "code",
   "execution_count": 3,
   "metadata": {
    "collapsed": true
   },
   "outputs": [],
   "source": [
    "def capitalize(string):\n",
    "    for i in range(len(string)):\n",
    "        if i==0:\n",
    "            string = string[i].upper() + string[1:]\n",
    "        if string[i-1] == \" \":\n",
    "            string = string[:i] + string[i].upper() + string[i+1:]\n",
    "    return string"
   ]
  },
  {
   "cell_type": "markdown",
   "metadata": {},
   "source": [
    "Answer to challenge The Minion Game: https://www.hackerrank.com/challenges/the-minion-game"
   ]
  },
  {
   "cell_type": "code",
   "execution_count": 4,
   "metadata": {
    "collapsed": true
   },
   "outputs": [],
   "source": [
    "def minion_game(string):\n",
    "    # your code goes here\n",
    "    vowels = ['A','E','I','O','U']\n",
    "    kevin_score, stuart_score = 0,0\n",
    "    #kevin_words = {}\n",
    "    #stuart_words = {}\n",
    "    for i in range(len(string)):\n",
    "        if string[i] in vowels:\n",
    "            #kevin_words = substring_scoring(string[i:],kevin_words)\n",
    "            kevin_score = kevin_score+len(string[i:])\n",
    "        else:\n",
    "            #stuart_words = substring_scoring(string[i:],stuart_words)\n",
    "            stuart_score = stuart_score+len(string[i:])\n",
    "    #print kevin_words\n",
    "    #print stuart_words\n",
    "    #kevin_score = sum(kevin_words.values())\n",
    "    #stuart_score = sum(stuart_words.values())\n",
    "    if kevin_score > stuart_score:\n",
    "        print \"Kevin \" + str(kevin_score)\n",
    "    elif stuart_score > kevin_score:\n",
    "        print \"Stuart \" + str(stuart_score)\n",
    "    else:\n",
    "        print \"Draw\"\n",
    "        \n",
    "#def substring_scoring(substring, player_dict):\n",
    "    #for i in range(len(substring), 0, -1):\n",
    "        #if substring[:i] in player_dict:\n",
    "        #    player_dict[substring[:i]] = player_dict[substring[:i]]+1\n",
    "        #else:\n",
    "        #    player_dict[substring[:i]] = 1\n",
    "    #return player_dict"
   ]
  },
  {
   "cell_type": "code",
   "execution_count": 5,
   "metadata": {
    "collapsed": true
   },
   "outputs": [],
   "source": [
    "#Optimized answer to The Minion Game for processing speed\n",
    "def minion_game(string):\n",
    "    # your code goes here\n",
    "    vowels = ['A','E','I','O','U']\n",
    "    kevin_score, stuart_score = 0,0\n",
    "    string_length = len(string)\n",
    "    for i in range(len(string)):\n",
    "        if string[i] in vowels:\n",
    "            kevin_score = kevin_score+string_length-i\n",
    "        else:\n",
    "            stuart_score = stuart_score+string_length-i\n",
    "\n",
    "\n",
    "    if kevin_score > stuart_score:\n",
    "        print \"Kevin \" + str(kevin_score)\n",
    "    elif stuart_score > kevin_score:\n",
    "        print \"Stuart \" + str(stuart_score)\n",
    "    else:\n",
    "        print \"Draw\""
   ]
  },
  {
   "cell_type": "markdown",
   "metadata": {},
   "source": [
    "Answer to Merge the Tools!: https://www.hackerrank.com/challenges/merge-the-tools"
   ]
  },
  {
   "cell_type": "code",
   "execution_count": 6,
   "metadata": {
    "collapsed": true
   },
   "outputs": [],
   "source": [
    "def merge_the_tools(string, k):\n",
    "    # your code goes here\n",
    "    #Split the line\n",
    "    split_words = [string[i:i+k] for i in range(0,len(string), k)]\n",
    "    #Remove duplicates and print out\n",
    "    for word in split_words:\n",
    "        out=[]\n",
    "        for letter in word:\n",
    "            if letter not in out:\n",
    "                out.append(letter)\n",
    "        print \"\".join(out)"
   ]
  },
  {
   "cell_type": "markdown",
   "metadata": {},
   "source": [
    "Answer to Introduction to Sets: https://www.hackerrank.com/challenges/py-introduction-to-sets"
   ]
  },
  {
   "cell_type": "code",
   "execution_count": null,
   "metadata": {
    "collapsed": true
   },
   "outputs": [],
   "source": [
    "from __future__ import division\n",
    "def average(array):\n",
    "    # your code goes here\n",
    "    heights = set(array)\n",
    "    return sum(heights)/len(heights)"
   ]
  }
 ],
 "metadata": {
  "kernelspec": {
   "display_name": "Python 2",
   "language": "python",
   "name": "python2"
  },
  "language_info": {
   "codemirror_mode": {
    "name": "ipython",
    "version": 2
   },
   "file_extension": ".py",
   "mimetype": "text/x-python",
   "name": "python",
   "nbconvert_exporter": "python",
   "pygments_lexer": "ipython2",
   "version": "2.7.13"
  }
 },
 "nbformat": 4,
 "nbformat_minor": 2
}
