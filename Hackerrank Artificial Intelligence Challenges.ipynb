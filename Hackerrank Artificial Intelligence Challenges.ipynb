{
 "cells": [
  {
   "cell_type": "markdown",
   "metadata": {},
   "source": [
    "#### Answers to Hackerrank Artificial Intelligence challenges. Written without editorial or discussion help unless otherwise noted.  Code written in Python 2.\n",
    "By: Alfred Lyle"
   ]
  },
  {
   "cell_type": "markdown",
   "metadata": {},
   "source": [
    "#### Bot Building Challenges\n",
    "Answer to Bot saves Princess: https://www.hackerrank.com/challenges/saveprincess/problem"
   ]
  },
  {
   "cell_type": "code",
   "execution_count": 2,
   "metadata": {
    "collapsed": false
   },
   "outputs": [
    {
     "name": "stdout",
     "output_type": "stream",
     "text": [
      "5\n",
      "p----\n",
      "-----\n",
      "--m--\n",
      "-----\n",
      "-----\n",
      "UP\n",
      "UP\n",
      "LEFT\n",
      "LEFT\n"
     ]
    }
   ],
   "source": [
    "#!/bin/python\n",
    "def displayPathtoPrincess(n,grid):\n",
    "#print all the moves here\n",
    "    #Find princess\n",
    "    #If princess is in top row\n",
    "    if 'p' in grid[0]:\n",
    "        for i in range(n/2):\n",
    "            print 'UP\\n',\n",
    "    #Else princess is on bottom\n",
    "    else:\n",
    "        for i in range(n/2):\n",
    "            print 'DOWN\\n',\n",
    "    #Check left\n",
    "    if grid[0][0] == 'p' or grid[n-1][0] == 'p':\n",
    "        for i in range(n/2):\n",
    "            print 'LEFT\\n',\n",
    "    #Else she is on the right\n",
    "    else:\n",
    "        for i in range(n/2):\n",
    "            print 'RIGHT\\n',\n",
    "    \n",
    "\n",
    "m = input()\n",
    "\n",
    "grid = []\n",
    "for i in xrange(0, m):        \n",
    "    grid.append(raw_input().strip())\n",
    "\n",
    "displayPathtoPrincess(m,grid)"
   ]
  },
  {
   "cell_type": "markdown",
   "metadata": {},
   "source": [
    "Answer to Bot saves Princess - 2: https://www.hackerrank.com/challenges/saveprincess2/problem"
   ]
  },
  {
   "cell_type": "code",
   "execution_count": null,
   "metadata": {
    "collapsed": true
   },
   "outputs": [],
   "source": [
    "#!/bin/python\n",
    "def nextMove(n,r,c,grid):\n",
    "    #Shift bot c position to match princess \n",
    "    #Find princess y position\n",
    "    #If greater, she is down from bot\n",
    "    if p_y > r:\n",
    "        return 'DOWN'\n",
    "    #If less, she is up from bot\n",
    "    elif p_y < r:\n",
    "        return 'UP'\n",
    "    #Else she is in same column as bot\n",
    "    #Find princess x position\n",
    "    #If greater, she is right of bot\n",
    "    if p_x > c:\n",
    "        return 'RIGHT'\n",
    "    #If less, she is left of bot\n",
    "    elif p_x < c:\n",
    "        return 'LEFT'\n",
    "    #Else she is already in same row as bot\n",
    "    return\n",
    "\n",
    "n = input()\n",
    "r,c = [int(i) for i in raw_input().strip().split()]\n",
    "grid = []\n",
    "for i in xrange(0, n):\n",
    "    grid_line = raw_input()\n",
    "    if 'p' in grid_line:\n",
    "        p_x, p_y = grid_line.find('p'), i \n",
    "    grid.append(grid_line)\n",
    "\n",
    "print nextMove(n,r,c,grid)"
   ]
  }
 ],
 "metadata": {
  "kernelspec": {
   "display_name": "Python 2",
   "language": "python",
   "name": "python2"
  },
  "language_info": {
   "codemirror_mode": {
    "name": "ipython",
    "version": 2
   },
   "file_extension": ".py",
   "mimetype": "text/x-python",
   "name": "python",
   "nbconvert_exporter": "python",
   "pygments_lexer": "ipython2",
   "version": "2.7.13"
  }
 },
 "nbformat": 4,
 "nbformat_minor": 2
}
