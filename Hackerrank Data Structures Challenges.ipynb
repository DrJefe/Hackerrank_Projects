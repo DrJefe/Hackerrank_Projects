{
 "cells": [
  {
   "cell_type": "markdown",
   "metadata": {},
   "source": [
    "# Hackerrank Data Structures Challenges\n",
    "#### Written without editorial or discussion help unless otherwise noted.  Code written in Python 2.\n",
    "By: Alfred Lyle"
   ]
  },
  {
   "cell_type": "markdown",
   "metadata": {},
   "source": [
    "#### Arrays challenges\n",
    "Answer to Arrays - DS: https://www.hackerrank.com/challenges/arrays-ds"
   ]
  },
  {
   "cell_type": "code",
   "execution_count": null,
   "metadata": {
    "collapsed": true
   },
   "outputs": [],
   "source": [
    "#!/bin/python\n",
    "\n",
    "import sys\n",
    "\n",
    "n = int(raw_input().strip())\n",
    "arr = raw_input().strip().split(' ')\n",
    "print ' '.join(reversed(arr))"
   ]
  },
  {
   "cell_type": "markdown",
   "metadata": {},
   "source": [
    "Answer to 2D Array - DS: https://www.hackerrank.com/challenges/2d-array"
   ]
  },
  {
   "cell_type": "code",
   "execution_count": null,
   "metadata": {
    "collapsed": true
   },
   "outputs": [],
   "source": [
    "#!/bin/python\n",
    "\n",
    "import sys\n",
    "\n",
    "arr = []\n",
    "for arr_i in xrange(6):\n",
    "    arr_temp = map(int,raw_input().strip().split(' '))\n",
    "    arr.append(arr_temp)\n",
    "hourglass_sum = (-9)*8\n",
    "for i in range(4):\n",
    "    for j in range(4):\n",
    "        hourglass_sum = max(hourglass_sum, sum(arr[i][j:j+3])+arr[i+1][j+1]+sum(arr[i+2][j:j+3]))\n",
    "print hourglass_sum"
   ]
  },
  {
   "cell_type": "markdown",
   "metadata": {},
   "source": [
    "Answer to Left Rotation: https://www.hackerrank.com/challenges/array-left-rotation"
   ]
  },
  {
   "cell_type": "code",
   "execution_count": null,
   "metadata": {
    "collapsed": true
   },
   "outputs": [],
   "source": [
    "#!/bin/python\n",
    "\n",
    "import sys\n",
    "\n",
    "def leftRotation(a, d):\n",
    "    # Complete this function\n",
    "    rotations = d%n\n",
    "    return a[rotations:] + a[:rotations]\n",
    "    \n",
    "\n",
    "if __name__ == \"__main__\":\n",
    "    n, d = map(int, raw_input().strip().split(' '))\n",
    "    a = raw_input().strip().split(' ')\n",
    "    result = leftRotation(a, d)\n",
    "    print \" \".join(result)"
   ]
  },
  {
   "cell_type": "markdown",
   "metadata": {},
   "source": [
    "Answer to Sparse Arrays: https://www.hackerrank.com/challenges/sparse-arrays"
   ]
  },
  {
   "cell_type": "code",
   "execution_count": null,
   "metadata": {
    "collapsed": true
   },
   "outputs": [],
   "source": [
    "# Enter your code here. Read input from STDIN. Print output to STDOUT\n",
    "N = input()\n",
    "in_strings={}\n",
    "for a0 in range(N):\n",
    "    n_string = raw_input()\n",
    "    if n_string in in_strings:\n",
    "        in_strings[n_string] = in_strings[n_string]+1\n",
    "    else:\n",
    "        in_strings[n_string] = 1\n",
    "Q = input()\n",
    "for ai in range(Q):\n",
    "    q_string = raw_input()\n",
    "    if q_string in in_strings:\n",
    "        print in_strings[q_string]\n",
    "    else:\n",
    "        print 0"
   ]
  },
  {
   "cell_type": "markdown",
   "metadata": {},
   "source": [
    "#### Linked Lists challenges\n",
    "Answer to Print the Elements of a Linked List: https://www.hackerrank.com/challenges/print-the-elements-of-a-linked-list"
   ]
  },
  {
   "cell_type": "code",
   "execution_count": null,
   "metadata": {
    "collapsed": true
   },
   "outputs": [],
   "source": [
    "\"\"\"\n",
    " Print elements of a linked list on console\n",
    " head input could be None as well for empty list\n",
    " Node is defined as\n",
    " \n",
    " class Node(object):\n",
    " \n",
    "   def __init__(self, data=None, next_node=None):\n",
    "       self.data = data\n",
    "       self.next = next_node\n",
    " \n",
    " \n",
    "\"\"\"\n",
    "def print_list(head):\n",
    "    while head is not None:\n",
    "        print head.data\n",
    "        head = head.next"
   ]
  },
  {
   "cell_type": "markdown",
   "metadata": {},
   "source": [
    "#### Trees challenges\n",
    "Answer to Tree Preorder Traversal: https://www.hackerrank.com/challenges/tree-preorder-traversal"
   ]
  },
  {
   "cell_type": "code",
   "execution_count": null,
   "metadata": {
    "collapsed": true
   },
   "outputs": [],
   "source": [
    "\"\"\"\n",
    "Node is defined as\n",
    "self.left (the left child of the node)\n",
    "self.right (the right child of the node)\n",
    "self.data (the value of the node)\n",
    "\"\"\"\n",
    "def preOrder(root):\n",
    "    #Write your code here\n",
    "    if root is None:\n",
    "        return\n",
    "    print root.data,\n",
    "    preOrder(root.left)\n",
    "    preOrder(root.right)"
   ]
  },
  {
   "cell_type": "markdown",
   "metadata": {},
   "source": [
    "Answer to Tree: Postorder Traversal: https://www.hackerrank.com/challenges/tree-postorder-traversal/problem"
   ]
  },
  {
   "cell_type": "code",
   "execution_count": null,
   "metadata": {
    "collapsed": true
   },
   "outputs": [],
   "source": [
    "\"\"\"\n",
    "Node is defined as\n",
    "self.left (the left child of the node)\n",
    "self.right (the right child of the node)\n",
    "self.data (the value of the node)\n",
    "\"\"\"\n",
    "def postOrder(root):\n",
    "    #Write your code here\n",
    "    if root.left != None:\n",
    "        postOrder(root.left)\n",
    "    if root.right != None:\n",
    "        postOrder(root.right)\n",
    "    print root.data,"
   ]
  },
  {
   "cell_type": "markdown",
   "metadata": {},
   "source": [
    "Answer to Tree: Inorder Traversal: https://www.hackerrank.com/challenges/tree-inorder-traversal"
   ]
  },
  {
   "cell_type": "code",
   "execution_count": null,
   "metadata": {
    "collapsed": true
   },
   "outputs": [],
   "source": [
    "\"\"\"\n",
    "Node is defined as\n",
    "self.left (the left child of the node)\n",
    "self.right (the right child of the node)\n",
    "self.data (the value of the node)\n",
    "\"\"\"\n",
    "def inOrder(root):\n",
    "    #Write your code here\n",
    "    if root.left == None:\n",
    "        print root.data,\n",
    "    else:\n",
    "        inOrder(root.left)\n",
    "        print root.data,\n",
    "    if root.right != None:\n",
    "        inOrder(root.right)"
   ]
  },
  {
   "cell_type": "markdown",
   "metadata": {},
   "source": [
    "Answer to Tree: Height of a Binary Tree: https://www.hackerrank.com/challenges/tree-height-of-a-binary-tree/problem\n",
    "Used Discussion to find answer that will work on any tree, not just test cases."
   ]
  },
  {
   "cell_type": "code",
   "execution_count": null,
   "metadata": {
    "collapsed": true
   },
   "outputs": [],
   "source": [
    "# Enter your code here. Read input from STDIN. Print output to STDOUT\n",
    "'''\n",
    "class Node:\n",
    "      def __init__(self,info): \n",
    "          self.info = info  \n",
    "          self.left = None  \n",
    "          self.right = None \n",
    "           \n",
    "\n",
    "       // this is a node of the tree , which contains info as data, left , right\n",
    "'''\n",
    "\n",
    "def height(root):\n",
    "    if not root:\n",
    "        return -1\n",
    "    return max(height(root.left), height(root.right)) + 1"
   ]
  },
  {
   "cell_type": "markdown",
   "metadata": {},
   "source": [
    "Answer to Tree: Top View: https://www.hackerrank.com/challenges/tree-top-view"
   ]
  },
  {
   "cell_type": "code",
   "execution_count": null,
   "metadata": {
    "collapsed": true
   },
   "outputs": [],
   "source": [
    "\"\"\"\n",
    "Node is defined as\n",
    "self.left (the left child of the node)\n",
    "self.right (the right child of the node)\n",
    "self.data (the value of the node)\"\"\"\n",
    "\n",
    "def topView(root):\n",
    "    #Write your code here\n",
    "    #Go down left\n",
    "    left = '.left'\n",
    "    for i in range(1, 500):\n",
    "        if eval('root'+left*i) == None:\n",
    "            for j in range(i-1, 0, -1):\n",
    "                print eval('root'+left*j+'.data'),\n",
    "            break\n",
    "    print root.data,\n",
    "    #Go down right\n",
    "    right = '.right'\n",
    "    for i in range(1, 500):\n",
    "        if eval('root'+right*i) == None:\n",
    "            for j in range(1, i):\n",
    "                print eval('root'+right*j+'.data'),\n",
    "            break"
   ]
  }
 ],
 "metadata": {
  "kernelspec": {
   "display_name": "Python 2",
   "language": "python",
   "name": "python2"
  },
  "language_info": {
   "codemirror_mode": {
    "name": "ipython",
    "version": 2
   },
   "file_extension": ".py",
   "mimetype": "text/x-python",
   "name": "python",
   "nbconvert_exporter": "python",
   "pygments_lexer": "ipython2",
   "version": "2.7.13"
  }
 },
 "nbformat": 4,
 "nbformat_minor": 2
}
