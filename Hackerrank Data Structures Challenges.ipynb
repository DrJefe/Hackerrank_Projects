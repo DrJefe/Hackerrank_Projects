{
 "cells": [
  {
   "cell_type": "markdown",
   "metadata": {},
   "source": [
    "# Hackerrank Data Structures Challenges\n",
    "#### Written without editorial or discussion help unless otherwise noted.  Code written in Python 2.\n",
    "By: Alfred Lyle"
   ]
  },
  {
   "cell_type": "markdown",
   "metadata": {},
   "source": [
    "#### Arrays challenges\n",
    "Answer to Arrays - DS: https://www.hackerrank.com/challenges/arrays-ds"
   ]
  },
  {
   "cell_type": "code",
   "execution_count": null,
   "metadata": {
    "collapsed": true
   },
   "outputs": [],
   "source": [
    "#!/bin/python\n",
    "\n",
    "import sys\n",
    "\n",
    "n = int(raw_input().strip())\n",
    "arr = raw_input().strip().split(' ')\n",
    "print ' '.join(reversed(arr))"
   ]
  },
  {
   "cell_type": "markdown",
   "metadata": {},
   "source": [
    "Answer to 2D Array - DS: https://www.hackerrank.com/challenges/2d-array"
   ]
  },
  {
   "cell_type": "code",
   "execution_count": null,
   "metadata": {
    "collapsed": true
   },
   "outputs": [],
   "source": [
    "#!/bin/python\n",
    "\n",
    "import sys\n",
    "\n",
    "arr = []\n",
    "for arr_i in xrange(6):\n",
    "    arr_temp = map(int,raw_input().strip().split(' '))\n",
    "    arr.append(arr_temp)\n",
    "hourglass_sum = (-9)*8\n",
    "for i in range(4):\n",
    "    for j in range(4):\n",
    "        hourglass_sum = max(hourglass_sum, sum(arr[i][j:j+3])+arr[i+1][j+1]+sum(arr[i+2][j:j+3]))\n",
    "print hourglass_sum"
   ]
  },
  {
   "cell_type": "markdown",
   "metadata": {},
   "source": [
    "Answer to Dynamic Array: https://www.hackerrank.com/challenges/dynamic-array/problem"
   ]
  },
  {
   "cell_type": "code",
   "execution_count": null,
   "metadata": {
    "collapsed": true
   },
   "outputs": [],
   "source": [
    "# Enter your code here. Read input from STDIN. Print output to STDOUT\n",
    "N, Q = map(int, raw_input().split())\n",
    "\n",
    "#Initialize variables\n",
    "seqList = []\n",
    "lastAnswer = 0\n",
    "\n",
    "#Set up sequence list\n",
    "for _ in range(N):\n",
    "    seqList.append([])\n",
    "\n",
    "#Carry out queries\n",
    "for a_ in range(Q):\n",
    "    query, x, y = map(int, raw_input().split())\n",
    "    if query == 1:\n",
    "        seqList[(x^lastAnswer)%N].append(y)\n",
    "    elif query == 2:\n",
    "        lastAnswer = seqList[(x^lastAnswer)%N][y%len(seqList[(x^lastAnswer)%N])]\n",
    "        print lastAnswer"
   ]
  },
  {
   "cell_type": "markdown",
   "metadata": {},
   "source": [
    "Answer to Left Rotation: https://www.hackerrank.com/challenges/array-left-rotation"
   ]
  },
  {
   "cell_type": "code",
   "execution_count": null,
   "metadata": {
    "collapsed": true
   },
   "outputs": [],
   "source": [
    "#!/bin/python\n",
    "\n",
    "import sys\n",
    "\n",
    "def leftRotation(a, d):\n",
    "    # Complete this function\n",
    "    rotations = d%n\n",
    "    return a[rotations:] + a[:rotations]\n",
    "    \n",
    "\n",
    "if __name__ == \"__main__\":\n",
    "    n, d = map(int, raw_input().strip().split(' '))\n",
    "    a = raw_input().strip().split(' ')\n",
    "    result = leftRotation(a, d)\n",
    "    print \" \".join(result)"
   ]
  },
  {
   "cell_type": "markdown",
   "metadata": {},
   "source": [
    "Answer to Sparse Arrays: https://www.hackerrank.com/challenges/sparse-arrays"
   ]
  },
  {
   "cell_type": "code",
   "execution_count": null,
   "metadata": {
    "collapsed": true
   },
   "outputs": [],
   "source": [
    "# Enter your code here. Read input from STDIN. Print output to STDOUT\n",
    "N = input()\n",
    "in_strings={}\n",
    "for a0 in range(N):\n",
    "    n_string = raw_input()\n",
    "    if n_string in in_strings:\n",
    "        in_strings[n_string] = in_strings[n_string]+1\n",
    "    else:\n",
    "        in_strings[n_string] = 1\n",
    "Q = input()\n",
    "for ai in range(Q):\n",
    "    q_string = raw_input()\n",
    "    if q_string in in_strings:\n",
    "        print in_strings[q_string]\n",
    "    else:\n",
    "        print 0"
   ]
  },
  {
   "cell_type": "markdown",
   "metadata": {},
   "source": [
    "#### Linked Lists challenges\n",
    "Answer to Print the Elements of a Linked List: https://www.hackerrank.com/challenges/print-the-elements-of-a-linked-list"
   ]
  },
  {
   "cell_type": "code",
   "execution_count": null,
   "metadata": {
    "collapsed": true
   },
   "outputs": [],
   "source": [
    "\"\"\"\n",
    " Print elements of a linked list on console\n",
    " head input could be None as well for empty list\n",
    " Node is defined as\n",
    " \n",
    " class Node(object):\n",
    " \n",
    "   def __init__(self, data=None, next_node=None):\n",
    "       self.data = data\n",
    "       self.next = next_node\n",
    " \n",
    " \n",
    "\"\"\"\n",
    "def print_list(head):\n",
    "    while head:\n",
    "        print head.data\n",
    "        head = head.next"
   ]
  },
  {
   "cell_type": "markdown",
   "metadata": {},
   "source": [
    "Answer to Insert a Node at the Tail of a Linked List: https://www.hackerrank.com/challenges/insert-a-node-at-the-tail-of-a-linked-list/problem"
   ]
  },
  {
   "cell_type": "code",
   "execution_count": null,
   "metadata": {
    "collapsed": true
   },
   "outputs": [],
   "source": [
    "\"\"\"\n",
    " Insert Node at the end of a linked list \n",
    " head pointer input could be None as well for empty list\n",
    " Node is defined as\n",
    " \n",
    " class Node(object):\n",
    " \n",
    "   def __init__(self, data=None, next_node=None):\n",
    "       self.data = data\n",
    "       self.next = next_node\n",
    " \n",
    " return back the head of the linked list in the below method\n",
    "\"\"\"\n",
    "\n",
    "def Insert(head, data):\n",
    "    if not head:\n",
    "        head = Node(data)\n",
    "        return head\n",
    "    current = head\n",
    "    while current.next:\n",
    "        current = current.next\n",
    "    current.next = Node(data)\n",
    "    return head"
   ]
  },
  {
   "cell_type": "markdown",
   "metadata": {},
   "source": [
    "Answer to Insert a node at the head of a linked list: https://www.hackerrank.com/challenges/insert-a-node-at-the-head-of-a-linked-list/problem"
   ]
  },
  {
   "cell_type": "code",
   "execution_count": null,
   "metadata": {
    "collapsed": true
   },
   "outputs": [],
   "source": [
    "\"\"\"\n",
    " Insert Node at the begining of a linked list\n",
    " head input could be None as well for empty list\n",
    " Node is defined as\n",
    " \n",
    " class Node(object):\n",
    " \n",
    "   def __init__(self, data=None, next_node=None):\n",
    "       self.data = data\n",
    "       self.next = next_node\n",
    "\n",
    " return back the head of the linked list in the below method. \n",
    "\"\"\"\n",
    "\n",
    "def Insert(head, data):\n",
    "    if not head:\n",
    "        head = Node(data)\n",
    "        return head\n",
    "    else:\n",
    "        current = head\n",
    "        head = Node(data)\n",
    "        head.next = current\n",
    "        return head"
   ]
  },
  {
   "cell_type": "markdown",
   "metadata": {},
   "source": [
    "Answer to Insert a node at a specific position in a linked list: https://www.hackerrank.com/challenges/insert-a-node-at-a-specific-position-in-a-linked-list/problem"
   ]
  },
  {
   "cell_type": "code",
   "execution_count": null,
   "metadata": {
    "collapsed": true
   },
   "outputs": [],
   "source": [
    "\"\"\"\n",
    " Insert Node at a specific position in a linked list\n",
    " head input could be None as well for empty list\n",
    " Node is defined as\n",
    " \n",
    " class Node(object):\n",
    " \n",
    "   def __init__(self, data=None, next_node=None):\n",
    "       self.data = data\n",
    "       self.next = next_node\n",
    "\n",
    " return back the head of the linked list in the below method. \n",
    "\"\"\"\n",
    "#This is a \"method-only\" submission.\n",
    "#You only need to complete this method.\n",
    "def InsertNth(head, data, position):\n",
    "    if head:\n",
    "        current = head\n",
    "    if position == 0:\n",
    "        head = Node(data)\n",
    "        head.next = current\n",
    "        return head\n",
    "    else:\n",
    "        for i in range(position-1):\n",
    "            if current.next:\n",
    "                current = current.next\n",
    "        next_node = current.next\n",
    "        current.next = Node(data)\n",
    "        current.next.next = next_node\n",
    "        return head"
   ]
  },
  {
   "cell_type": "markdown",
   "metadata": {},
   "source": [
    "Answer to Delete a Node: https://www.hackerrank.com/challenges/delete-a-node-from-a-linked-list/problem"
   ]
  },
  {
   "cell_type": "code",
   "execution_count": null,
   "metadata": {
    "collapsed": true
   },
   "outputs": [],
   "source": [
    "\"\"\"\n",
    " Delete Node at a given position in a linked list\n",
    " Node is defined as\n",
    " \n",
    " class Node(object):\n",
    " \n",
    "   def __init__(self, data=None, next_node=None):\n",
    "       self.data = data\n",
    "       self.next = next_node\n",
    "\n",
    " return back the head of the linked list in the below method. \n",
    "\"\"\"\n",
    "\n",
    "def Delete(head, position):\n",
    "    if head:\n",
    "        current = head\n",
    "    if position == 0:\n",
    "        head = head.next\n",
    "    else:\n",
    "        for i in range(position):\n",
    "            previous = current\n",
    "            current = current.next\n",
    "        previous.next = current.next\n",
    "    return head"
   ]
  },
  {
   "cell_type": "markdown",
   "metadata": {},
   "source": [
    "Answer to Print in Reverse: https://www.hackerrank.com/challenges/print-the-elements-of-a-linked-list-in-reverse/problem"
   ]
  },
  {
   "cell_type": "code",
   "execution_count": null,
   "metadata": {
    "collapsed": true
   },
   "outputs": [],
   "source": [
    "\"\"\"\n",
    " Print elements of a linked list in reverse order as standard output\n",
    " head could be None as well for empty list\n",
    " Node is defined as\n",
    " \n",
    " class Node(object):\n",
    " \n",
    "   def __init__(self, data=None, next_node=None):\n",
    "       self.data = data\n",
    "       self.next = next_node\n",
    "\n",
    " \n",
    "\"\"\"\n",
    "\n",
    "def ReversePrint(head):\n",
    "    if head:\n",
    "        values = []\n",
    "        values.append(head.data)\n",
    "        while head.next:\n",
    "            head = head.next\n",
    "            values.append(head.data)\n",
    "        values.reverse()\n",
    "        print '\\n'.join(map(str,values))"
   ]
  },
  {
   "cell_type": "markdown",
   "metadata": {},
   "source": [
    "Answer to Reverse a linked list: https://www.hackerrank.com/challenges/reverse-a-linked-list/problem"
   ]
  },
  {
   "cell_type": "code",
   "execution_count": null,
   "metadata": {
    "collapsed": true
   },
   "outputs": [],
   "source": [
    "\"\"\"\n",
    " Reverse a linked list\n",
    " head could be None as well for empty list\n",
    " Node is defined as\n",
    " \n",
    " class Node(object):\n",
    " \n",
    "   def __init__(self, data=None, next_node=None):\n",
    "       self.data = data\n",
    "       self.next = next_node\n",
    "\n",
    " return back the head of the linked list in the below method.\n",
    "\"\"\"\n",
    "\n",
    "def Reverse(head):\n",
    "    if head:\n",
    "        prev_head = None\n",
    "        while head.next:\n",
    "            next_head = head.next\n",
    "            head.next, prev_head = prev_head, head\n",
    "            head = next_head\n",
    "        head.next = prev_head\n",
    "    return head"
   ]
  },
  {
   "cell_type": "markdown",
   "metadata": {},
   "source": [
    "Answer to Compare two linked lists: https://www.hackerrank.com/challenges/compare-two-linked-lists/problem"
   ]
  },
  {
   "cell_type": "code",
   "execution_count": null,
   "metadata": {
    "collapsed": true
   },
   "outputs": [],
   "source": [
    "#Body\n",
    "\"\"\"\n",
    " Compare two linked list\n",
    " head could be None as well for empty list\n",
    " Node is defined as\n",
    " \n",
    " class Node(object):\n",
    " \n",
    "   def __init__(self, data=None, next_node=None):\n",
    "       self.data = data\n",
    "       self.next = next_node\n",
    "\n",
    " return back the head of the linked list in the below method.\n",
    "\"\"\"\n",
    "\n",
    "def CompareLists(headA, headB):\n",
    "    if headA.data == headB.data:\n",
    "        if headA.next and headB.next:\n",
    "            return CompareLists(headA.next, headB.next)\n",
    "        elif not (headA.next or headB.next):\n",
    "            return 1\n",
    "        else:\n",
    "            return 0\n",
    "    else:\n",
    "        return 0"
   ]
  },
  {
   "cell_type": "markdown",
   "metadata": {},
   "source": [
    "Answer to Merge two sorted linked lists: https://www.hackerrank.com/challenges/merge-two-sorted-linked-lists/problem"
   ]
  },
  {
   "cell_type": "code",
   "execution_count": null,
   "metadata": {
    "collapsed": true
   },
   "outputs": [],
   "source": [
    "\"\"\"\n",
    " Merge two linked lists\n",
    " head could be None as well for empty list\n",
    " Node is defined as\n",
    " \n",
    " class Node(object):\n",
    " \n",
    "   def __init__(self, data=None, next_node=None):\n",
    "       self.data = data\n",
    "       self.next = next_node\n",
    "\n",
    " return back the head of the linked list in the below method.\n",
    "\"\"\"\n",
    "def MergeLists(headA, headB):\n",
    "    if headA and headB:\n",
    "        if headA.data <= headB.data:\n",
    "            headA.next = MergeLists(headA.next, headB)\n",
    "            head = headA\n",
    "        else:\n",
    "            headB.next = MergeLists(headA, headB.next)\n",
    "            head = headB\n",
    "    elif headA:\n",
    "        return headA\n",
    "    elif headB:\n",
    "        return headB\n",
    "    else:\n",
    "        return None\n",
    "    return head"
   ]
  },
  {
   "cell_type": "markdown",
   "metadata": {},
   "source": [
    "#### Trees challenges\n",
    "Answer to Tree Preorder Traversal: https://www.hackerrank.com/challenges/tree-preorder-traversal"
   ]
  },
  {
   "cell_type": "code",
   "execution_count": null,
   "metadata": {
    "collapsed": true
   },
   "outputs": [],
   "source": [
    "\"\"\"\n",
    "Node is defined as\n",
    "self.left (the left child of the node)\n",
    "self.right (the right child of the node)\n",
    "self.data (the value of the node)\n",
    "\"\"\"\n",
    "def preOrder(root):\n",
    "    #Write your code here\n",
    "    if root is None:\n",
    "        return\n",
    "    print root.data,\n",
    "    preOrder(root.left)\n",
    "    preOrder(root.right)"
   ]
  },
  {
   "cell_type": "markdown",
   "metadata": {},
   "source": [
    "Answer to Tree: Postorder Traversal: https://www.hackerrank.com/challenges/tree-postorder-traversal/problem"
   ]
  },
  {
   "cell_type": "code",
   "execution_count": null,
   "metadata": {
    "collapsed": true
   },
   "outputs": [],
   "source": [
    "\"\"\"\n",
    "Node is defined as\n",
    "self.left (the left child of the node)\n",
    "self.right (the right child of the node)\n",
    "self.data (the value of the node)\n",
    "\"\"\"\n",
    "def postOrder(root):\n",
    "    #Write your code here\n",
    "    if root.left != None:\n",
    "        postOrder(root.left)\n",
    "    if root.right != None:\n",
    "        postOrder(root.right)\n",
    "    print root.data,"
   ]
  },
  {
   "cell_type": "markdown",
   "metadata": {},
   "source": [
    "Answer to Tree: Inorder Traversal: https://www.hackerrank.com/challenges/tree-inorder-traversal"
   ]
  },
  {
   "cell_type": "code",
   "execution_count": null,
   "metadata": {
    "collapsed": true
   },
   "outputs": [],
   "source": [
    "\"\"\"\n",
    "Node is defined as\n",
    "self.left (the left child of the node)\n",
    "self.right (the right child of the node)\n",
    "self.data (the value of the node)\n",
    "\"\"\"\n",
    "def inOrder(root):\n",
    "    #Write your code here\n",
    "    if root.left == None:\n",
    "        print root.data,\n",
    "    else:\n",
    "        inOrder(root.left)\n",
    "        print root.data,\n",
    "    if root.right != None:\n",
    "        inOrder(root.right)"
   ]
  },
  {
   "cell_type": "markdown",
   "metadata": {},
   "source": [
    "Answer to Tree: Height of a Binary Tree: https://www.hackerrank.com/challenges/tree-height-of-a-binary-tree/problem\n",
    "Used Discussion to find answer that will work on any tree, not just test cases."
   ]
  },
  {
   "cell_type": "code",
   "execution_count": null,
   "metadata": {
    "collapsed": true
   },
   "outputs": [],
   "source": [
    "# Enter your code here. Read input from STDIN. Print output to STDOUT\n",
    "'''\n",
    "class Node:\n",
    "      def __init__(self,info): \n",
    "          self.info = info  \n",
    "          self.left = None  \n",
    "          self.right = None \n",
    "           \n",
    "\n",
    "       // this is a node of the tree , which contains info as data, left , right\n",
    "'''\n",
    "\n",
    "def height(root):\n",
    "    if not root:\n",
    "        return -1\n",
    "    return max(height(root.left), height(root.right)) + 1"
   ]
  },
  {
   "cell_type": "markdown",
   "metadata": {},
   "source": [
    "Answer to Tree: Top View: https://www.hackerrank.com/challenges/tree-top-view"
   ]
  },
  {
   "cell_type": "code",
   "execution_count": null,
   "metadata": {
    "collapsed": true
   },
   "outputs": [],
   "source": [
    "\"\"\"\n",
    "Node is defined as\n",
    "self.left (the left child of the node)\n",
    "self.right (the right child of the node)\n",
    "self.data (the value of the node)\"\"\"\n",
    "\n",
    "def topView(root):\n",
    "    #Write your code here\n",
    "    #Go down left\n",
    "    left = '.left'\n",
    "    for i in range(1, 500):\n",
    "        if eval('root'+left*i) == None:\n",
    "            for j in range(i-1, 0, -1):\n",
    "                print eval('root'+left*j+'.data'),\n",
    "            break\n",
    "    print root.data,\n",
    "    #Go down right\n",
    "    right = '.right'\n",
    "    for i in range(1, 500):\n",
    "        if eval('root'+right*i) == None:\n",
    "            for j in range(1, i):\n",
    "                print eval('root'+right*j+'.data'),\n",
    "            break"
   ]
  },
  {
   "cell_type": "markdown",
   "metadata": {},
   "source": [
    "Answer to Tree: Level Order Traversal: https://www.hackerrank.com/challenges/tree-level-order-traversal/problem"
   ]
  },
  {
   "cell_type": "code",
   "execution_count": null,
   "metadata": {
    "collapsed": true
   },
   "outputs": [],
   "source": [
    "\"\"\"\n",
    "Node is defined as\n",
    "self.left (the left child of the node)\n",
    "self.right (the right child of the node)\n",
    "self.data (the value of the node)\n",
    "\"\"\"\n",
    "def levelOrder(root):\n",
    "    #Write code Here\n",
    "    this_level = [root]\n",
    "    while this_level:\n",
    "        next_level = []\n",
    "        for item in this_level:       \n",
    "            if item.left:\n",
    "                next_level.append(item.left)\n",
    "            if item.right:\n",
    "                next_level.append(item.right)\n",
    "            print item.data,\n",
    "        this_level = next_level"
   ]
  },
  {
   "cell_type": "markdown",
   "metadata": {},
   "source": [
    "Answer to Binary Search Tree : Insertion: https://www.hackerrank.com/challenges/binary-search-tree-insertion/problem"
   ]
  },
  {
   "cell_type": "code",
   "execution_count": null,
   "metadata": {
    "collapsed": true
   },
   "outputs": [],
   "source": [
    "\"\"\"\n",
    "Node is defined as\n",
    "self.left (the left child of the node)\n",
    "self.right (the right child of the node)\n",
    "self.data (the value of the node)\"\"\"\n",
    "\n",
    "def insert(r,val):\n",
    "    #Enter you code here.\n",
    "    if not r:\n",
    "        r = Node(val)\n",
    "        return r\n",
    "    if r.data > val:\n",
    "        if not r.left:\n",
    "            r.left = Node(val)\n",
    "        else:\n",
    "            insert(r.left, val)\n",
    "    else:\n",
    "        if not r.right:\n",
    "            r.right = Node(val)\n",
    "        else:\n",
    "            insert(r.right, val)\n",
    "    return r"
   ]
  },
  {
   "cell_type": "markdown",
   "metadata": {},
   "source": [
    "#### Stack Challenges\n",
    "Answer to Maximum Element: https://www.hackerrank.com/challenges/maximum-element/problem\n",
    "<br>\n",
    "Help from http://www.geeksforgeeks.org/tracking-current-maximum-element-in-a-stack/ for optimizing tracking maximum element"
   ]
  },
  {
   "cell_type": "code",
   "execution_count": null,
   "metadata": {
    "collapsed": true
   },
   "outputs": [],
   "source": [
    "# Enter your code here. Read input from STDIN. Print output to STDOUT\n",
    "stack = []\n",
    "max_stack = []\n",
    "for _ in range(input()):\n",
    "    instruction = map(int, raw_input().split())\n",
    "    if instruction[0] == 1:\n",
    "        if len(max_stack) < 1:\n",
    "            max_stack.append(instruction[1])\n",
    "        else:\n",
    "            if max_stack[len(max_stack)-1] > instruction[1]:\n",
    "                max_stack.append(max_stack[len(max_stack)-1])\n",
    "            else:\n",
    "                max_stack.append(instruction[1])\n",
    "        stack.append(instruction[1])\n",
    "    elif instruction[0] == 2:\n",
    "        stack.pop()\n",
    "        max_stack.pop()\n",
    "    elif instruction[0] == 3:\n",
    "        print max_stack[len(max_stack)-1]"
   ]
  },
  {
   "cell_type": "markdown",
   "metadata": {},
   "source": [
    "Answer to Balanced Brackets: https://www.hackerrank.com/challenges/balanced-brackets/problem"
   ]
  },
  {
   "cell_type": "code",
   "execution_count": null,
   "metadata": {
    "collapsed": true
   },
   "outputs": [],
   "source": [
    "#!/bin/python\n",
    "\n",
    "import sys\n",
    "\n",
    "def isBalanced(s):\n",
    "    # Complete this function\n",
    "    bracket_stack = []\n",
    "    for i in s:\n",
    "        if i in ['{', '[', '(']:\n",
    "            bracket_stack.append(i)\n",
    "        else:\n",
    "            if bracket_stack:\n",
    "                top_bracket = bracket_stack.pop()\n",
    "                if i == '}' and top_bracket != '{':\n",
    "                    return 'NO'\n",
    "                elif i == ']' and top_bracket != '[':\n",
    "                    return 'NO'\n",
    "                elif i == ')' and top_bracket != '(':\n",
    "                    return 'NO'\n",
    "            else:\n",
    "                return 'NO'\n",
    "    if not bracket_stack:\n",
    "        return 'YES'\n",
    "    else:\n",
    "        return 'NO'\n",
    "\n",
    "if __name__ == \"__main__\":\n",
    "    t = int(raw_input().strip())\n",
    "    for a0 in xrange(t):\n",
    "        s = raw_input().strip()\n",
    "        result = isBalanced(s)\n",
    "        print result"
   ]
  },
  {
   "cell_type": "markdown",
   "metadata": {},
   "source": [
    "Answer to Equal Stacks: https://www.hackerrank.com/challenges/equal-stacks/problem"
   ]
  },
  {
   "cell_type": "code",
   "execution_count": null,
   "metadata": {
    "collapsed": true
   },
   "outputs": [],
   "source": [
    "#!/bin/python\n",
    "\n",
    "import sys\n",
    "\n",
    "def remove_cylinder(stack, stack_sum):\n",
    "    return stack_sum - stack.pop(0)\n",
    "\n",
    "n1,n2,n3 = raw_input().strip().split(' ')\n",
    "n1,n2,n3 = [int(n1),int(n2),int(n3)]\n",
    "h1 = map(int,raw_input().strip().split(' '))\n",
    "h2 = map(int,raw_input().strip().split(' '))\n",
    "h3 = map(int,raw_input().strip().split(' '))\n",
    "sum1 = sum(h1)\n",
    "sum2 = sum(h2)\n",
    "sum3 = sum(h3)\n",
    "while sum1 != sum2 or sum2 != sum3:\n",
    "    if sum1 >= sum2:\n",
    "        if sum1 >= sum3:\n",
    "            sum1 = remove_cylinder(h1, sum1)\n",
    "        else:\n",
    "            sum3 = remove_cylinder(h3, sum3)\n",
    "    elif sum2 >= sum3:\n",
    "        sum2 = remove_cylinder(h2, sum2)\n",
    "    else:\n",
    "        sum3 = remove_cylinder(h3, sum3)\n",
    "print sum1"
   ]
  }
 ],
 "metadata": {
  "kernelspec": {
   "display_name": "Python 2",
   "language": "python",
   "name": "python2"
  },
  "language_info": {
   "codemirror_mode": {
    "name": "ipython",
    "version": 2
   },
   "file_extension": ".py",
   "mimetype": "text/x-python",
   "name": "python",
   "nbconvert_exporter": "python",
   "pygments_lexer": "ipython2",
   "version": "2.7.13"
  }
 },
 "nbformat": 4,
 "nbformat_minor": 2
}
