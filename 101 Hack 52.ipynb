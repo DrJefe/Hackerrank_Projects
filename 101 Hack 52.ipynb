{
 "cells": [
  {
   "cell_type": "markdown",
   "metadata": {},
   "source": [
    "#### 101 Hack 52\n",
    "Answer to Number Groups: https://www.hackerrank.com/contests/101hack52/challenges/number-groups"
   ]
  },
  {
   "cell_type": "code",
   "execution_count": null,
   "metadata": {
    "collapsed": true
   },
   "outputs": [],
   "source": [
    "#!/bin/python\n",
    "\n",
    "import sys\n",
    "\n",
    "def sumOfGroup(k):\n",
    "    # Return the sum of the elements of the k'th group.\n",
    "    start=sum([i for i in range(1, k)])\n",
    "    return sum([1+2*(i+start) for i in range(k)])\n",
    "\n",
    "if __name__ == \"__main__\":\n",
    "    k = int(raw_input().strip())\n",
    "    answer = sumOfGroup(k)\n",
    "    print answer"
   ]
  },
  {
   "cell_type": "markdown",
   "metadata": {},
   "source": [
    "Answer to Construct the Array: https://www.hackerrank.com/contests/101hack52/challenges/construct-the-array"
   ]
  },
  {
   "cell_type": "code",
   "execution_count": null,
   "metadata": {
    "collapsed": true
   },
   "outputs": [],
   "source": [
    "#!/bin/python\n",
    "\n",
    "import sys\n",
    "from itertools import product\n",
    "\n",
    "def no_repeats(ar, x):\n",
    "    ar_len = len(ar)\n",
    "    ar = ar+(x,)\n",
    "    #print ar,\n",
    "    for i in range(ar_len):\n",
    "        if ar[i] == ar[i+1]:\n",
    "            return False\n",
    "    return True\n",
    "        \n",
    "\n",
    "def countArrayHard(n, k, x):\n",
    "    # Return the number of ways to fill in the array.\n",
    "    #if k == 2:\n",
    "    #   if n%2 == 1:\n",
    "    #        return 0\n",
    "    #    else:\n",
    "    #        return 1\n",
    "    count=0\n",
    "    for ar in product(range(1,k+1), repeat=n-2):\n",
    "        if ar[0] != 1:\n",
    "            ar = (1,)+ar\n",
    "            if no_repeats(ar,x):\n",
    "                count+=1\n",
    "            #print count\n",
    "    return count%(10**9+7)\n",
    "\n",
    "def countArray(n, k, x):\n",
    "    #if k == 2:\n",
    "    #    if n%2 == 1:\n",
    "    #        return 0\n",
    "    #    else:\n",
    "    #        return 1\n",
    "    start = k-2\n",
    "    for i in range(n-3):\n",
    "        start = start*(k-1)\n",
    "        if i%2==0:\n",
    "            start += 1\n",
    "        else:\n",
    "            start += -1\n",
    "    if x==1:\n",
    "        if n%2 == 1:\n",
    "            start = start+1\n",
    "        else:\n",
    "            start = start-1\n",
    "    return start%(10**9+7)\n",
    "\n",
    "if __name__ == \"__main__\":\n",
    "    n, k, x = raw_input().strip().split(' ')\n",
    "    n, k, x = [int(n), int(k), int(x)]\n",
    "    #answer_hard = countArrayHard(n, k, x)\n",
    "    answer = countArray(n, k, x)\n",
    "    #print answer_hard, answer\n",
    "    print answer"
   ]
  }
 ],
 "metadata": {
  "kernelspec": {
   "display_name": "Python 2",
   "language": "python",
   "name": "python2"
  },
  "language_info": {
   "codemirror_mode": {
    "name": "ipython",
    "version": 2
   },
   "file_extension": ".py",
   "mimetype": "text/x-python",
   "name": "python",
   "nbconvert_exporter": "python",
   "pygments_lexer": "ipython2",
   "version": "2.7.13"
  }
 },
 "nbformat": 4,
 "nbformat_minor": 2
}
