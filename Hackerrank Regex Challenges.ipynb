{
 "cells": [
  {
   "cell_type": "markdown",
   "metadata": {},
   "source": [
    "#### Answers to Hackerrank Regex challenges. Written without editorial or discussion help unless otherwise noted.  Code written in Python 2.\n",
    "By: Alfred Lyle"
   ]
  },
  {
   "cell_type": "markdown",
   "metadata": {},
   "source": [
    "Answer to Detect HTML Tags: https://www.hackerrank.com/challenges/detect-html-tags/problem"
   ]
  },
  {
   "cell_type": "code",
   "execution_count": null,
   "metadata": {
    "collapsed": true
   },
   "outputs": [],
   "source": [
    "# Enter your code here. Read input from STDIN. Print output to STDOUT\n",
    "import re\n",
    "\n",
    "N = input()\n",
    "all_tags = []\n",
    "for a0 in range(N):\n",
    "    fragment = raw_input()\n",
    "    #Find all HTML tags and add them to a list\n",
    "    tags = re.findall('/\\w+>|<\\w+', fragment)\n",
    "    for tag in tags:\n",
    "        all_tags = all_tags + re.findall('\\w+', tag)\n",
    "#Put tags in set to remove duplicates, sort and print\n",
    "print ';'.join(sorted(set(all_tags)))"
   ]
  }
 ],
 "metadata": {
  "kernelspec": {
   "display_name": "Python 2",
   "language": "python",
   "name": "python2"
  },
  "language_info": {
   "codemirror_mode": {
    "name": "ipython",
    "version": 2
   },
   "file_extension": ".py",
   "mimetype": "text/x-python",
   "name": "python",
   "nbconvert_exporter": "python",
   "pygments_lexer": "ipython2",
   "version": "2.7.13"
  }
 },
 "nbformat": 4,
 "nbformat_minor": 2
}
