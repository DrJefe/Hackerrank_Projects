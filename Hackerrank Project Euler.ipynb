{
 "cells": [
  {
   "cell_type": "markdown",
   "metadata": {},
   "source": [
    "# Hackerrank Project Euler Challenges\n",
    "#### Written without editorial or discussion help unless otherwise noted.  Code written in Python 2.\n",
    "By: Alfred Lyle"
   ]
  },
  {
   "cell_type": "markdown",
   "metadata": {},
   "source": [
    "Answer to Project Euler #1 Multiples of 3 and 5: https://www.hackerrank.com/contests/projecteuler/challenges/euler001\n",
    "<br>\n",
    "\n",
    "Used discussion help to realize difficulty in storing large numbers.  Changed from using int datatypes to long datatypes to successfully complete problem."
   ]
  },
  {
   "cell_type": "code",
   "execution_count": null,
   "metadata": {
    "collapsed": true
   },
   "outputs": [],
   "source": [
    "#!/bin/python\n",
    "\n",
    "import sys\n",
    "\n",
    "\n",
    "t = int(raw_input().strip())\n",
    "for a0 in xrange(t):\n",
    "    n = int(raw_input().strip())\n",
    "    a = (n-1)/3\n",
    "    b = (n-1)/5\n",
    "    c = (n-1)/15\n",
    "    sum3 = long((3*a*(a+1))/2)\n",
    "    sum5 = long((5*b*(b+1))/2)\n",
    "    sum15 = long((15*c*(c+1))/2)\n",
    "    print sum3 + sum5 - sum15"
   ]
  },
  {
   "cell_type": "markdown",
   "metadata": {},
   "source": [
    "Answer to Project Euler #2 Even Fibonacci Numbers: https://www.hackerrank.com/contests/projecteuler/challenges/euler002/problem"
   ]
  },
  {
   "cell_type": "code",
   "execution_count": null,
   "metadata": {
    "collapsed": true
   },
   "outputs": [],
   "source": [
    "#!/bin/python\n",
    "\n",
    "import sys\n",
    "\n",
    "\n",
    "t = int(raw_input().strip())\n",
    "for a0 in xrange(t):\n",
    "    n = long(raw_input().strip())\n",
    "    even_fibo_sum = long(0)\n",
    "    num1, num2 = 1,1\n",
    "    while num2 < n:\n",
    "        fibo_sum = num1+num2\n",
    "        if fibo_sum%2 == 0 and fibo_sum < n:\n",
    "            even_fibo_sum += fibo_sum\n",
    "        num2, num1 = fibo_sum, num2\n",
    "    print even_fibo_sum"
   ]
  },
  {
   "cell_type": "code",
   "execution_count": null,
   "metadata": {
    "collapsed": true
   },
   "outputs": [],
   "source": []
  },
  {
   "cell_type": "code",
   "execution_count": null,
   "metadata": {
    "collapsed": true
   },
   "outputs": [],
   "source": []
  },
  {
   "cell_type": "code",
   "execution_count": null,
   "metadata": {
    "collapsed": true
   },
   "outputs": [],
   "source": []
  }
 ],
 "metadata": {
  "kernelspec": {
   "display_name": "Python 2",
   "language": "python",
   "name": "python2"
  },
  "language_info": {
   "codemirror_mode": {
    "name": "ipython",
    "version": 2
   },
   "file_extension": ".py",
   "mimetype": "text/x-python",
   "name": "python",
   "nbconvert_exporter": "python",
   "pygments_lexer": "ipython2",
   "version": "2.7.13"
  }
 },
 "nbformat": 4,
 "nbformat_minor": 2
}
