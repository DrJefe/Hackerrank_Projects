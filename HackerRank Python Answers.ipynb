{
 "cells": [
  {
   "cell_type": "markdown",
   "metadata": {},
   "source": [
    "Answers to Hackerrank Python challenges.  Written without editorial or discussion help unless otherwise noted.\n",
    "<br>\n",
    "By: Alfred Lyle"
   ]
  },
  {
   "cell_type": "markdown",
   "metadata": {},
   "source": [
    "Python Practice: Strings\n",
    "<br>\n",
    "Answer to challenge Alphabet Rangoli: https://www.hackerrank.com/challenges/alphabet-rangoli"
   ]
  },
  {
   "cell_type": "code",
   "execution_count": 1,
   "metadata": {
    "collapsed": true
   },
   "outputs": [],
   "source": [
    "def print_rangoli(size):\n",
    "    ord_base = ord('a')-1\n",
    "    row_size = (size-1)*4 + 1\n",
    "    for i in xrange(size, (size*-1)-1, -1):\n",
    "        if i != 0 and i!=-1:\n",
    "            i=abs(i)\n",
    "            centerpiece = chr(ord_base+i)\n",
    "            while i<size:\n",
    "                i+=1\n",
    "                centerpiece = chr(ord_base+i) + '-' + centerpiece + '-' + chr(ord_base+i)\n",
    "            print centerpiece.center(row_size, '-')"
   ]
  },
  {
   "cell_type": "markdown",
   "metadata": {},
   "source": [
    "Answer to challenge Capitalize!: https://www.hackerrank.com/challenges/capitalize"
   ]
  },
  {
   "cell_type": "code",
   "execution_count": 3,
   "metadata": {
    "collapsed": true
   },
   "outputs": [],
   "source": [
    "def capitalize(string):\n",
    "    for i in range(len(string)):\n",
    "        if i==0:\n",
    "            string = string[i].upper() + string[1:]\n",
    "        if string[i-1] == \" \":\n",
    "            string = string[:i] + string[i].upper() + string[i+1:]\n",
    "    return string"
   ]
  },
  {
   "cell_type": "markdown",
   "metadata": {},
   "source": [
    "Answer to challenge The Minion Game: https://www.hackerrank.com/challenges/the-minion-game"
   ]
  },
  {
   "cell_type": "code",
   "execution_count": 4,
   "metadata": {
    "collapsed": true
   },
   "outputs": [],
   "source": [
    "def minion_game(string):\n",
    "    # your code goes here\n",
    "    vowels = ['A','E','I','O','U']\n",
    "    kevin_score, stuart_score = 0,0\n",
    "    #kevin_words = {}\n",
    "    #stuart_words = {}\n",
    "    for i in range(len(string)):\n",
    "        if string[i] in vowels:\n",
    "            #kevin_words = substring_scoring(string[i:],kevin_words)\n",
    "            kevin_score = kevin_score+len(string[i:])\n",
    "        else:\n",
    "            #stuart_words = substring_scoring(string[i:],stuart_words)\n",
    "            stuart_score = stuart_score+len(string[i:])\n",
    "    #print kevin_words\n",
    "    #print stuart_words\n",
    "    #kevin_score = sum(kevin_words.values())\n",
    "    #stuart_score = sum(stuart_words.values())\n",
    "    if kevin_score > stuart_score:\n",
    "        print \"Kevin \" + str(kevin_score)\n",
    "    elif stuart_score > kevin_score:\n",
    "        print \"Stuart \" + str(stuart_score)\n",
    "    else:\n",
    "        print \"Draw\"\n",
    "        \n",
    "#def substring_scoring(substring, player_dict):\n",
    "    #for i in range(len(substring), 0, -1):\n",
    "        #if substring[:i] in player_dict:\n",
    "        #    player_dict[substring[:i]] = player_dict[substring[:i]]+1\n",
    "        #else:\n",
    "        #    player_dict[substring[:i]] = 1\n",
    "    #return player_dict"
   ]
  },
  {
   "cell_type": "code",
   "execution_count": 5,
   "metadata": {
    "collapsed": true
   },
   "outputs": [],
   "source": [
    "#Optimized answer to The Minion Game for processing speed\n",
    "def minion_game(string):\n",
    "    # your code goes here\n",
    "    vowels = ['A','E','I','O','U']\n",
    "    kevin_score, stuart_score = 0,0\n",
    "    string_length = len(string)\n",
    "    for i in range(len(string)):\n",
    "        if string[i] in vowels:\n",
    "            kevin_score = kevin_score+string_length-i\n",
    "        else:\n",
    "            stuart_score = stuart_score+string_length-i\n",
    "\n",
    "\n",
    "    if kevin_score > stuart_score:\n",
    "        print \"Kevin \" + str(kevin_score)\n",
    "    elif stuart_score > kevin_score:\n",
    "        print \"Stuart \" + str(stuart_score)\n",
    "    else:\n",
    "        print \"Draw\""
   ]
  },
  {
   "cell_type": "markdown",
   "metadata": {},
   "source": [
    "Answer to Merge the Tools!: https://www.hackerrank.com/challenges/merge-the-tools"
   ]
  },
  {
   "cell_type": "code",
   "execution_count": 6,
   "metadata": {
    "collapsed": true
   },
   "outputs": [],
   "source": [
    "def merge_the_tools(string, k):\n",
    "    # your code goes here\n",
    "    #Split the line\n",
    "    split_words = [string[i:i+k] for i in range(0,len(string), k)]\n",
    "    #Remove duplicates and print out\n",
    "    for word in split_words:\n",
    "        out=[]\n",
    "        for letter in word:\n",
    "            if letter not in out:\n",
    "                out.append(letter)\n",
    "        print \"\".join(out)"
   ]
  },
  {
   "cell_type": "markdown",
   "metadata": {},
   "source": [
    "Python Practice: Sets\n",
    "<br>\n",
    "Answer to Introduction to Sets: https://www.hackerrank.com/challenges/py-introduction-to-sets"
   ]
  },
  {
   "cell_type": "code",
   "execution_count": 7,
   "metadata": {
    "collapsed": true
   },
   "outputs": [],
   "source": [
    "from __future__ import division\n",
    "def average(array):\n",
    "    # your code goes here\n",
    "    heights = set(array)\n",
    "    return sum(heights)/len(heights)"
   ]
  },
  {
   "cell_type": "markdown",
   "metadata": {},
   "source": [
    "Answer to Symmetric Difference: https://www.hackerrank.com/challenges/symmetric-difference"
   ]
  },
  {
   "cell_type": "code",
   "execution_count": 8,
   "metadata": {
    "collapsed": false
   },
   "outputs": [
    {
     "name": "stdout",
     "output_type": "stream",
     "text": [
      "\n"
     ]
    },
    {
     "ename": "ValueError",
     "evalue": "invalid literal for int() with base 10: ''",
     "output_type": "error",
     "traceback": [
      "\u001b[0;31m---------------------------------------------------------------------------\u001b[0m",
      "\u001b[0;31mValueError\u001b[0m                                Traceback (most recent call last)",
      "\u001b[0;32m<ipython-input-8-1f0c86e6f640>\u001b[0m in \u001b[0;36m<module>\u001b[0;34m()\u001b[0m\n\u001b[1;32m      1\u001b[0m \u001b[1;31m# Enter your code here. Read input from STDIN. Print output to STDOUT\u001b[0m\u001b[1;33m\u001b[0m\u001b[1;33m\u001b[0m\u001b[0m\n\u001b[0;32m----> 2\u001b[0;31m \u001b[0mm_length\u001b[0m \u001b[1;33m=\u001b[0m \u001b[0mint\u001b[0m\u001b[1;33m(\u001b[0m\u001b[0mraw_input\u001b[0m\u001b[1;33m(\u001b[0m\u001b[1;33m)\u001b[0m\u001b[1;33m)\u001b[0m\u001b[1;33m\u001b[0m\u001b[0m\n\u001b[0m\u001b[1;32m      3\u001b[0m \u001b[0mM\u001b[0m \u001b[1;33m=\u001b[0m \u001b[0mset\u001b[0m\u001b[1;33m(\u001b[0m\u001b[0mmap\u001b[0m\u001b[1;33m(\u001b[0m\u001b[0mint\u001b[0m\u001b[1;33m,\u001b[0m \u001b[0mraw_input\u001b[0m\u001b[1;33m(\u001b[0m\u001b[1;33m)\u001b[0m\u001b[1;33m.\u001b[0m\u001b[0mstrip\u001b[0m\u001b[1;33m(\u001b[0m\u001b[1;33m)\u001b[0m\u001b[1;33m.\u001b[0m\u001b[0msplit\u001b[0m\u001b[1;33m(\u001b[0m\u001b[1;33m)\u001b[0m\u001b[1;33m)\u001b[0m\u001b[1;33m)\u001b[0m\u001b[1;33m\u001b[0m\u001b[0m\n\u001b[1;32m      4\u001b[0m \u001b[0mn_length\u001b[0m \u001b[1;33m=\u001b[0m \u001b[0mint\u001b[0m\u001b[1;33m(\u001b[0m\u001b[0mraw_input\u001b[0m\u001b[1;33m(\u001b[0m\u001b[1;33m)\u001b[0m\u001b[1;33m)\u001b[0m\u001b[1;33m\u001b[0m\u001b[0m\n\u001b[1;32m      5\u001b[0m \u001b[0mN\u001b[0m \u001b[1;33m=\u001b[0m \u001b[0mset\u001b[0m\u001b[1;33m(\u001b[0m\u001b[0mmap\u001b[0m\u001b[1;33m(\u001b[0m\u001b[0mint\u001b[0m\u001b[1;33m,\u001b[0m \u001b[0mraw_input\u001b[0m\u001b[1;33m(\u001b[0m\u001b[1;33m)\u001b[0m\u001b[1;33m.\u001b[0m\u001b[0mstrip\u001b[0m\u001b[1;33m(\u001b[0m\u001b[1;33m)\u001b[0m\u001b[1;33m.\u001b[0m\u001b[0msplit\u001b[0m\u001b[1;33m(\u001b[0m\u001b[1;33m)\u001b[0m\u001b[1;33m)\u001b[0m\u001b[1;33m)\u001b[0m\u001b[1;33m\u001b[0m\u001b[0m\n",
      "\u001b[0;31mValueError\u001b[0m: invalid literal for int() with base 10: ''"
     ]
    }
   ],
   "source": [
    "# Enter your code here. Read input from STDIN. Print output to STDOUT\n",
    "m_length = int(raw_input())\n",
    "M = set(map(int, raw_input().strip().split()))\n",
    "n_length = int(raw_input())\n",
    "N = set(map(int, raw_input().strip().split()))\n",
    "\n",
    "diff_M = M.difference(N)\n",
    "diff_N = N.difference(M)\n",
    "diff_list = [i for i in diff_M] + [j for j in diff_N]\n",
    "diff_list.sort()\n",
    "for i, item in enumerate(diff_list):\n",
    "    print item"
   ]
  },
  {
   "cell_type": "raw",
   "metadata": {},
   "source": [
    "Answer to No Idea!: https://www.hackerrank.com/challenges/no-idea"
   ]
  },
  {
   "cell_type": "code",
   "execution_count": null,
   "metadata": {
    "collapsed": true
   },
   "outputs": [],
   "source": [
    "# Enter your code here. Read input from STDIN. Print output to STDOUT\n",
    "inputs = raw_input()\n",
    "elements = map(int, raw_input().strip().split())\n",
    "a = set(map(int, raw_input().strip().split())); b=set(map(int, raw_input().strip().split()))\n",
    "\n",
    "happy=0\n",
    "for item in elements:\n",
    "    if item in a:\n",
    "        happy+=1\n",
    "    if item in b:\n",
    "        happy+=-1\n",
    "\n",
    "print happy"
   ]
  }
 ],
 "metadata": {
  "kernelspec": {
   "display_name": "Python 2",
   "language": "python",
   "name": "python2"
  },
  "language_info": {
   "codemirror_mode": {
    "name": "ipython",
    "version": 2
   },
   "file_extension": ".py",
   "mimetype": "text/x-python",
   "name": "python",
   "nbconvert_exporter": "python",
   "pygments_lexer": "ipython2",
   "version": "2.7.13"
  }
 },
 "nbformat": 4,
 "nbformat_minor": 2
}
