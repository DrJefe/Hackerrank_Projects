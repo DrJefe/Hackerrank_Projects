{
 "cells": [
  {
   "cell_type": "markdown",
   "metadata": {},
   "source": [
    "### Answers to Hackerrank Python challenges.  Written without editorial or discussion help unless otherwise noted.\n",
    "<br>\n",
    "By: Alfred Lyle"
   ]
  },
  {
   "cell_type": "markdown",
   "metadata": {},
   "source": [
    "#### Python Practice: Strings\n",
    "<br>\n",
    "Answer to challenge Alphabet Rangoli: https://www.hackerrank.com/challenges/alphabet-rangoli"
   ]
  },
  {
   "cell_type": "code",
   "execution_count": 1,
   "metadata": {
    "collapsed": true
   },
   "outputs": [],
   "source": [
    "def print_rangoli(size):\n",
    "    ord_base = ord('a')-1\n",
    "    row_size = (size-1)*4 + 1\n",
    "    for i in xrange(size, (size*-1)-1, -1):\n",
    "        if i != 0 and i!=-1:\n",
    "            i=abs(i)\n",
    "            centerpiece = chr(ord_base+i)\n",
    "            while i<size:\n",
    "                i+=1\n",
    "                centerpiece = chr(ord_base+i) + '-' + centerpiece + '-' + chr(ord_base+i)\n",
    "            print centerpiece.center(row_size, '-')"
   ]
  },
  {
   "cell_type": "markdown",
   "metadata": {},
   "source": [
    "Answer to challenge Capitalize!: https://www.hackerrank.com/challenges/capitalize"
   ]
  },
  {
   "cell_type": "code",
   "execution_count": 3,
   "metadata": {
    "collapsed": true
   },
   "outputs": [],
   "source": [
    "def capitalize(string):\n",
    "    for i in range(len(string)):\n",
    "        if i==0:\n",
    "            string = string[i].upper() + string[1:]\n",
    "        if string[i-1] == \" \":\n",
    "            string = string[:i] + string[i].upper() + string[i+1:]\n",
    "    return string"
   ]
  },
  {
   "cell_type": "markdown",
   "metadata": {},
   "source": [
    "Answer to challenge The Minion Game: https://www.hackerrank.com/challenges/the-minion-game"
   ]
  },
  {
   "cell_type": "code",
   "execution_count": 4,
   "metadata": {
    "collapsed": true
   },
   "outputs": [],
   "source": [
    "def minion_game(string):\n",
    "    # your code goes here\n",
    "    vowels = ['A','E','I','O','U']\n",
    "    kevin_score, stuart_score = 0,0\n",
    "    #kevin_words = {}\n",
    "    #stuart_words = {}\n",
    "    for i in range(len(string)):\n",
    "        if string[i] in vowels:\n",
    "            #kevin_words = substring_scoring(string[i:],kevin_words)\n",
    "            kevin_score = kevin_score+len(string[i:])\n",
    "        else:\n",
    "            #stuart_words = substring_scoring(string[i:],stuart_words)\n",
    "            stuart_score = stuart_score+len(string[i:])\n",
    "    #print kevin_words\n",
    "    #print stuart_words\n",
    "    #kevin_score = sum(kevin_words.values())\n",
    "    #stuart_score = sum(stuart_words.values())\n",
    "    if kevin_score > stuart_score:\n",
    "        print \"Kevin \" + str(kevin_score)\n",
    "    elif stuart_score > kevin_score:\n",
    "        print \"Stuart \" + str(stuart_score)\n",
    "    else:\n",
    "        print \"Draw\"\n",
    "        \n",
    "#def substring_scoring(substring, player_dict):\n",
    "    #for i in range(len(substring), 0, -1):\n",
    "        #if substring[:i] in player_dict:\n",
    "        #    player_dict[substring[:i]] = player_dict[substring[:i]]+1\n",
    "        #else:\n",
    "        #    player_dict[substring[:i]] = 1\n",
    "    #return player_dict"
   ]
  },
  {
   "cell_type": "code",
   "execution_count": 5,
   "metadata": {
    "collapsed": true
   },
   "outputs": [],
   "source": [
    "#Optimized answer to The Minion Game for processing speed\n",
    "def minion_game(string):\n",
    "    # your code goes here\n",
    "    vowels = ['A','E','I','O','U']\n",
    "    kevin_score, stuart_score = 0,0\n",
    "    string_length = len(string)\n",
    "    for i in range(len(string)):\n",
    "        if string[i] in vowels:\n",
    "            kevin_score = kevin_score+string_length-i\n",
    "        else:\n",
    "            stuart_score = stuart_score+string_length-i\n",
    "\n",
    "\n",
    "    if kevin_score > stuart_score:\n",
    "        print \"Kevin \" + str(kevin_score)\n",
    "    elif stuart_score > kevin_score:\n",
    "        print \"Stuart \" + str(stuart_score)\n",
    "    else:\n",
    "        print \"Draw\""
   ]
  },
  {
   "cell_type": "markdown",
   "metadata": {},
   "source": [
    "Answer to Merge the Tools!: https://www.hackerrank.com/challenges/merge-the-tools"
   ]
  },
  {
   "cell_type": "code",
   "execution_count": 6,
   "metadata": {
    "collapsed": true
   },
   "outputs": [],
   "source": [
    "def merge_the_tools(string, k):\n",
    "    # your code goes here\n",
    "    #Split the line\n",
    "    split_words = [string[i:i+k] for i in range(0,len(string), k)]\n",
    "    #Remove duplicates and print out\n",
    "    for word in split_words:\n",
    "        out=[]\n",
    "        for letter in word:\n",
    "            if letter not in out:\n",
    "                out.append(letter)\n",
    "        print \"\".join(out)"
   ]
  },
  {
   "cell_type": "markdown",
   "metadata": {},
   "source": [
    "#### Python Practice: Sets\n",
    "<br>\n",
    "Answer to Introduction to Sets: https://www.hackerrank.com/challenges/py-introduction-to-sets"
   ]
  },
  {
   "cell_type": "code",
   "execution_count": 7,
   "metadata": {
    "collapsed": true
   },
   "outputs": [],
   "source": [
    "from __future__ import division\n",
    "def average(array):\n",
    "    # your code goes here\n",
    "    heights = set(array)\n",
    "    return sum(heights)/len(heights)"
   ]
  },
  {
   "cell_type": "markdown",
   "metadata": {},
   "source": [
    "Answer to Symmetric Difference: https://www.hackerrank.com/challenges/symmetric-difference"
   ]
  },
  {
   "cell_type": "code",
   "execution_count": null,
   "metadata": {
    "collapsed": true
   },
   "outputs": [],
   "source": [
    "# Enter your code here. Read input from STDIN. Print output to STDOUT\n",
    "m_length = int(raw_input())\n",
    "M = set(map(int, raw_input().strip().split()))\n",
    "n_length = int(raw_input())\n",
    "N = set(map(int, raw_input().strip().split()))\n",
    "\n",
    "diff_M = M.difference(N)\n",
    "diff_N = N.difference(M)\n",
    "diff_list = [i for i in diff_M] + [j for j in diff_N]\n",
    "diff_list.sort()\n",
    "for i, item in enumerate(diff_list):\n",
    "    print item"
   ]
  },
  {
   "cell_type": "raw",
   "metadata": {},
   "source": [
    "Answer to No Idea!: https://www.hackerrank.com/challenges/no-idea"
   ]
  },
  {
   "cell_type": "code",
   "execution_count": null,
   "metadata": {
    "collapsed": true
   },
   "outputs": [],
   "source": [
    "# Enter your code here. Read input from STDIN. Print output to STDOUT\n",
    "inputs = raw_input()\n",
    "elements = map(int, raw_input().strip().split())\n",
    "a = set(map(int, raw_input().strip().split())); b=set(map(int, raw_input().strip().split()))\n",
    "\n",
    "happy=0\n",
    "for item in elements:\n",
    "    if item in a:\n",
    "        happy+=1\n",
    "    if item in b:\n",
    "        happy+=-1\n",
    "\n",
    "print happy"
   ]
  },
  {
   "cell_type": "markdown",
   "metadata": {},
   "source": [
    "Answer to Set .add(): https://www.hackerrank.com/challenges/py-set-add"
   ]
  },
  {
   "cell_type": "code",
   "execution_count": null,
   "metadata": {
    "collapsed": true
   },
   "outputs": [],
   "source": [
    "# Enter your code here. Read input from STDIN. Print output to STDOUT\n",
    "num_countries = int(raw_input().strip())\n",
    "country_set = set()\n",
    "for a0 in range(num_countries):\n",
    "    country_set.add(str(raw_input().strip()))\n",
    "print len(country_set)"
   ]
  },
  {
   "cell_type": "markdown",
   "metadata": {},
   "source": [
    "Answer to Set .discard(), .remove() & .pop(): https://www.hackerrank.com/challenges/py-set-discard-remove-pop"
   ]
  },
  {
   "cell_type": "code",
   "execution_count": null,
   "metadata": {
    "collapsed": true
   },
   "outputs": [],
   "source": [
    "n = input()\n",
    "s = set(map(int, raw_input().split())) \n",
    "num_commands = input()\n",
    "for a0 in range(num_commands):\n",
    "    commands = map(str, raw_input().split())\n",
    "    if len(commands)==1:\n",
    "        s.pop()\n",
    "    else:\n",
    "        eval('s.' + commands[0]+'(' + commands[1] + ')')\n",
    "print sum(s)"
   ]
  },
  {
   "cell_type": "markdown",
   "metadata": {},
   "source": [
    "Answer to Set .union() Operation: https://www.hackerrank.com/challenges/py-set-union"
   ]
  },
  {
   "cell_type": "code",
   "execution_count": null,
   "metadata": {
    "collapsed": true
   },
   "outputs": [],
   "source": [
    "# Enter your code here. Read input from STDIN. Print output to STDOUT\n",
    "num_english = input()\n",
    "english_subs = set(map(int, raw_input().split()))\n",
    "num_french = input()\n",
    "french_subs = set(map(int, raw_input().split()))\n",
    "print len(english_subs|french_subs)"
   ]
  },
  {
   "cell_type": "markdown",
   "metadata": {},
   "source": [
    "Answer to Set .intersection() Operation: https://www.hackerrank.com/challenges/py-set-intersection-operation"
   ]
  },
  {
   "cell_type": "code",
   "execution_count": null,
   "metadata": {
    "collapsed": true
   },
   "outputs": [],
   "source": [
    "# Enter your code here. Read input from STDIN. Print output to STDOUT\n",
    "num_english = input()\n",
    "english_subs = set(map(int, raw_input().split()))\n",
    "num_french = input()\n",
    "french_subs = set(map(int, raw_input().split()))\n",
    "print len(english_subs&french_subs)"
   ]
  },
  {
   "cell_type": "markdown",
   "metadata": {},
   "source": [
    "Answer to Set .difference() Operation: https://www.hackerrank.com/challenges/py-set-difference-operation"
   ]
  },
  {
   "cell_type": "code",
   "execution_count": null,
   "metadata": {
    "collapsed": true
   },
   "outputs": [],
   "source": [
    "# Enter your code here. Read input from STDIN. Print output to STDOUT\n",
    "num_english = input()\n",
    "english_subs = set(map(int, raw_input().split()))\n",
    "num_french = input()\n",
    "french_subs = set(map(int, raw_input().split()))\n",
    "print len(english_subs-french_subs)"
   ]
  },
  {
   "cell_type": "markdown",
   "metadata": {},
   "source": [
    "Answer to Set .symmetric_difference(): https://www.hackerrank.com/challenges/py-set-symmetric-difference-operation"
   ]
  },
  {
   "cell_type": "code",
   "execution_count": null,
   "metadata": {
    "collapsed": true
   },
   "outputs": [],
   "source": [
    "# Enter your code here. Read input from STDIN. Print output to STDOUT\n",
    "num_english = input()\n",
    "english_subs = set(map(int, raw_input().split()))\n",
    "num_french = input()\n",
    "french_subs = set(map(int, raw_input().split()))\n",
    "print len(english_subs^french_subs)"
   ]
  },
  {
   "cell_type": "markdown",
   "metadata": {},
   "source": [
    "Answer to Set Mutations: https://www.hackerrank.com/challenges/py-set-mutations"
   ]
  },
  {
   "cell_type": "code",
   "execution_count": null,
   "metadata": {
    "collapsed": true
   },
   "outputs": [],
   "source": [
    "# Enter your code here. Read input from STDIN. Print output to STDOUT\n",
    "num_elements = input()\n",
    "set_A = set(map(int, raw_input().split()))\n",
    "num_sets = input()\n",
    "for a0 in range(num_sets):\n",
    "    commands = map(str, raw_input().split())\n",
    "    set_N = set(map(int, raw_input().split()))\n",
    "    eval('set_A.' + commands[0] + '(set_N)')\n",
    "print sum(set_A)"
   ]
  },
  {
   "cell_type": "markdown",
   "metadata": {},
   "source": [
    "Answer to The Captain's Room: https://www.hackerrank.com/challenges/py-the-captains-room"
   ]
  },
  {
   "cell_type": "code",
   "execution_count": null,
   "metadata": {
    "collapsed": true
   },
   "outputs": [],
   "source": [
    "# Enter your code here. Read input from STDIN. Print output to STDOUT\n",
    "group_size = input()\n",
    "group_min_one = group_size-1\n",
    "room_numbers = map(int, raw_input().split())\n",
    "room_choices = set(room_numbers)\n",
    "numbers_seen = set(room_numbers[:group_size-2])\n",
    "for i in range(1, len(room_numbers)/(group_min_one)):\n",
    "    room_slice = set(room_numbers[group_min_one*i:group_min_one*(i+1)])\n",
    "    union_set = numbers_seen&room_slice\n",
    "    for j in union_set:\n",
    "        room_choices.discard(j)\n",
    "    numbers_seen |= room_slice\n",
    "#Check for remaining rooms\n",
    "if len(room_numbers)%(group_min_one) != 0:\n",
    "    room_slice = set(room_numbers[len(room_numbers)-(group_min_one):])\n",
    "    union_set = numbers_seen&room_slice\n",
    "    for j in union_set:\n",
    "        room_choices.discard(j)\n",
    "print sum(room_choices)"
   ]
  },
  {
   "cell_type": "markdown",
   "metadata": {},
   "source": [
    "Answer to Check Subset: https://www.hackerrank.com/challenges/py-check-subset"
   ]
  },
  {
   "cell_type": "code",
   "execution_count": null,
   "metadata": {
    "collapsed": true
   },
   "outputs": [],
   "source": [
    "for i in range(int(raw_input())): #More than 4 lines will result in 0 score. Blank lines won't be counted.  \n",
    "    a = int(raw_input()); A = set(raw_input().split())\n",
    "    b = int(raw_input()); B = set(raw_input().split())\n",
    "    print A&B == A"
   ]
  },
  {
   "cell_type": "markdown",
   "metadata": {},
   "source": [
    "Answer to Check Strict Superset: https://www.hackerrank.com/challenges/py-check-strict-superset"
   ]
  },
  {
   "cell_type": "code",
   "execution_count": null,
   "metadata": {
    "collapsed": true
   },
   "outputs": [],
   "source": [
    "set_A = set(map(int, raw_input().split()))\n",
    "n_sets = input()\n",
    "is_superset = True\n",
    "for a0 in range(n_sets):\n",
    "    set_N = set(map(int, raw_input().split()))\n",
    "    is_superset = is_superset and (set_N&set_A == set_N and set_A-set_N>0)\n",
    "print is_superset"
   ]
  },
  {
   "cell_type": "markdown",
   "metadata": {},
   "source": [
    "#### Math Challenges:\n",
    "<br>\n",
    "Answer to Polar Coordinates: https://www.hackerrank.com/challenges/polar-coordinates"
   ]
  },
  {
   "cell_type": "code",
   "execution_count": null,
   "metadata": {
    "collapsed": true
   },
   "outputs": [],
   "source": [
    "# Enter your code here. Read input from STDIN. Print output to STDOUT\n",
    "import cmath\n",
    "\n",
    "number = complex(input())\n",
    "print abs(number)\n",
    "print cmath.phase(number)"
   ]
  },
  {
   "cell_type": "markdown",
   "metadata": {},
   "source": [
    "Answer to Find Angle MBC: https://www.hackerrank.com/challenges/find-angle/problem"
   ]
  },
  {
   "cell_type": "code",
   "execution_count": null,
   "metadata": {
    "collapsed": true
   },
   "outputs": [],
   "source": [
    "# Enter your code here. Read input from STDIN. Print output to STDOUT\n",
    "import math\n",
    "\n",
    "AB = input()\n",
    "BC = input()\n",
    "AC = math.sqrt(AB**2 + BC**2) #Pythagorean Theorem\n",
    "MC = AC/2. #MC is at midpoint\n",
    "BM = MC #In a right triangle, the midpoint of the hypotenuse is equidistant from the three polygon vertices\n",
    "#Use Cosine rule to find angle\n",
    "print str(int(round(math.degrees(math.acos((BC**2+BM**2-MC**2)/(2*BM*BC))))))+'°'"
   ]
  },
  {
   "cell_type": "markdown",
   "metadata": {},
   "source": [
    "Answer to Triangle Quest 2: https://www.hackerrank.com/challenges/triangle-quest-2/problem"
   ]
  },
  {
   "cell_type": "code",
   "execution_count": null,
   "metadata": {
    "collapsed": true
   },
   "outputs": [],
   "source": [
    "for i in range(1,int(raw_input())+1): #More than 2 lines will result in 0 score. Do not leave a blank line also\n",
    "    print ((10**i - 1)/9)**2"
   ]
  },
  {
   "cell_type": "markdown",
   "metadata": {},
   "source": [
    "Answer to Mod Divmod: https://www.hackerrank.com/challenges/python-mod-divmod/problem"
   ]
  },
  {
   "cell_type": "code",
   "execution_count": null,
   "metadata": {
    "collapsed": true
   },
   "outputs": [],
   "source": [
    "# Enter your code here. Read input from STDIN. Print output to STDOUT\n",
    "a = input()\n",
    "b = input()\n",
    "print a/b\n",
    "print a%b\n",
    "print divmod(a,b)"
   ]
  },
  {
   "cell_type": "markdown",
   "metadata": {},
   "source": [
    "Answer to Power - Mod Power: https://www.hackerrank.com/challenges/python-power-mod-power/problem"
   ]
  },
  {
   "cell_type": "code",
   "execution_count": null,
   "metadata": {
    "collapsed": true
   },
   "outputs": [],
   "source": [
    "# Enter your code here. Read input from STDIN. Print output to STDOUT\n",
    "a = input()\n",
    "b = input()\n",
    "m = input()\n",
    "print pow(a,b)\n",
    "print pow(a,b,m)"
   ]
  },
  {
   "cell_type": "markdown",
   "metadata": {},
   "source": [
    "Answer to Integers Come In All Sizes: https://www.hackerrank.com/challenges/python-integers-come-in-all-sizes/problem"
   ]
  },
  {
   "cell_type": "code",
   "execution_count": null,
   "metadata": {
    "collapsed": true
   },
   "outputs": [],
   "source": [
    "# Enter your code here. Read input from STDIN. Print output to STDOUT\n",
    "a = input()\n",
    "b = input()\n",
    "c = input()\n",
    "d = input()\n",
    "print a**b + c**d"
   ]
  },
  {
   "cell_type": "markdown",
   "metadata": {},
   "source": [
    "Answer to Triangle Quest: https://www.hackerrank.com/challenges/python-quest-1/problem\n",
    "Formula from https://stackoverflow.com/questions/37113781/equation-of-1-22-333-4444-55555-sequence"
   ]
  },
  {
   "cell_type": "code",
   "execution_count": null,
   "metadata": {
    "collapsed": true
   },
   "outputs": [],
   "source": [
    "for i in range(1,input()): #More than 2 lines will result in 0 score. Do not leave a blank line also\n",
    "    print i*(10**i - 1)/9"
   ]
  },
  {
   "cell_type": "markdown",
   "metadata": {},
   "source": [
    "#### Itertools Challenges:\n",
    "\n",
    "Answer to itertools.product(): https://www.hackerrank.com/challenges/itertools-product"
   ]
  },
  {
   "cell_type": "code",
   "execution_count": null,
   "metadata": {
    "collapsed": true
   },
   "outputs": [],
   "source": [
    "# Enter your code here. Read input from STDIN. Print output to STDOUT\n",
    "from itertools import product\n",
    "\n",
    "list_a = map(int, raw_input().split())\n",
    "list_b = map(int, raw_input().split())\n",
    "for i in list(product(list_a, list_b)):\n",
    "    print i,"
   ]
  },
  {
   "cell_type": "markdown",
   "metadata": {},
   "source": [
    "Answer to itertools.permutations(): https://www.hackerrank.com/challenges/itertools-permutations"
   ]
  },
  {
   "cell_type": "code",
   "execution_count": null,
   "metadata": {
    "collapsed": true
   },
   "outputs": [],
   "source": [
    "# Enter your code here. Read input from STDIN. Print output to STDOUT\n",
    "from itertools import permutations\n",
    "\n",
    "s, k = raw_input().split()\n",
    "for i in sorted(list(permutations(s,int(k)))):\n",
    "    print ''.join(i)"
   ]
  },
  {
   "cell_type": "markdown",
   "metadata": {},
   "source": [
    "Answer to itertools.combinations(): https://www.hackerrank.com/challenges/itertools-combinations"
   ]
  },
  {
   "cell_type": "code",
   "execution_count": null,
   "metadata": {
    "collapsed": true
   },
   "outputs": [],
   "source": [
    "# Enter your code here. Read input from STDIN. Print output to STDOUT\n",
    "from itertools import combinations\n",
    "\n",
    "s, k = raw_input().split()\n",
    "for i in range(1, int(k)+1):\n",
    "    for j in combinations(sorted(s),i):\n",
    "        print ''.join(j)"
   ]
  },
  {
   "cell_type": "markdown",
   "metadata": {},
   "source": [
    "Answer to itertools.combinations_with_replacement(): https://www.hackerrank.com/challenges/itertools-combinations-with-replacement"
   ]
  },
  {
   "cell_type": "code",
   "execution_count": null,
   "metadata": {
    "collapsed": true
   },
   "outputs": [],
   "source": [
    "# Enter your code here. Read input from STDIN. Print output to STDOUT\n",
    "from itertools import combinations_with_replacement\n",
    "\n",
    "s, k = raw_input().split()\n",
    "for i in combinations_with_replacement(sorted(s),int(k)):\n",
    "    print ''.join(i)"
   ]
  },
  {
   "cell_type": "markdown",
   "metadata": {},
   "source": [
    "Answer to Compress the String!: https://www.hackerrank.com/challenges/compress-the-string"
   ]
  },
  {
   "cell_type": "code",
   "execution_count": null,
   "metadata": {
    "collapsed": true
   },
   "outputs": [],
   "source": [
    "# Enter your code here. Read input from STDIN. Print output to STDOUT\n",
    "from itertools import *\n",
    "\n",
    "groups = []\n",
    "uniquekeys=[]\n",
    "S = raw_input()\n",
    "for k, g in groupby(S):\n",
    "    groups.append(list(g))\n",
    "    uniquekeys.append(int(k))\n",
    "\n",
    "groups_length = [len(x) for x in groups]\n",
    "for i in zip(groups_length, uniquekeys):\n",
    "    print i,"
   ]
  },
  {
   "cell_type": "markdown",
   "metadata": {},
   "source": [
    "Answer to Iterables and Iterators: https://www.hackerrank.com/challenges/iterables-and-iterators/problem"
   ]
  },
  {
   "cell_type": "code",
   "execution_count": null,
   "metadata": {
    "collapsed": true
   },
   "outputs": [],
   "source": [
    "# Enter your code here. Read input from STDIN. Print output to STDOUT\n",
    "from itertools import combinations\n",
    "\n",
    "N = input()\n",
    "letters = raw_input().split()\n",
    "K = input()\n",
    "letter_combinations = list(combinations(letters, K))\n",
    "count = 0.\n",
    "for combination in letter_combinations:\n",
    "    if 'a' in combination:\n",
    "        count+=1\n",
    "print count/len(letter_combinations)"
   ]
  },
  {
   "cell_type": "markdown",
   "metadata": {},
   "source": [
    "Answer to Maximize It!: https://www.hackerrank.com/challenges/maximize-it/problem"
   ]
  },
  {
   "cell_type": "code",
   "execution_count": null,
   "metadata": {
    "collapsed": true
   },
   "outputs": [],
   "source": [
    "# Enter your code here. Read input from STDIN. Print output to STDOUT\n",
    "from itertools import *\n",
    "\n",
    "def maximize_it(combination, M):\n",
    "    return sum([x**2 for x in combination])%M   \n",
    "\n",
    "K, M = map(int,raw_input().split())\n",
    "input_array = []\n",
    "for array in range(K):\n",
    "    input_array.append(map(int,raw_input().split())[1:])\n",
    "max_combo = 0\n",
    "for combination in list(product(*input_array)):\n",
    "    max_combo = max(max_combo, maximize_it(combination, M))\n",
    "print max_combo"
   ]
  },
  {
   "cell_type": "markdown",
   "metadata": {},
   "source": [
    "#### Collections challenges\n",
    "Answer to collections.Counter(): https://www.hackerrank.com/challenges/collections-counter"
   ]
  },
  {
   "cell_type": "code",
   "execution_count": null,
   "metadata": {
    "collapsed": true
   },
   "outputs": [],
   "source": [
    "# Enter your code here. Read input from STDIN. Print output to STDOUT\n",
    "from collections import Counter\n",
    "\n",
    "x_shoes = input()\n",
    "shoe_list = map(int, raw_input().split())\n",
    "shoe_count = Counter(shoe_list)\n",
    "n_customers = input()\n",
    "money_earned = 0\n",
    "for a0 in range(n_customers):\n",
    "    size, price = map(int, raw_input().split())\n",
    "    #Check if customer size is stocked\n",
    "    if size in shoe_count:\n",
    "        #If in stock, check if there are still shoes, then sell and reduce count by 1\n",
    "        if shoe_count[size] != 0:\n",
    "            money_earned += price\n",
    "            shoe_count[size] = shoe_count[size]-1\n",
    "print money_earned"
   ]
  },
  {
   "cell_type": "markdown",
   "metadata": {},
   "source": [
    "Answer to DefaultDict Tutorial: https://www.hackerrank.com/challenges/defaultdict-tutorial"
   ]
  },
  {
   "cell_type": "code",
   "execution_count": null,
   "metadata": {
    "collapsed": true
   },
   "outputs": [],
   "source": [
    "# Enter your code here. Read input from STDIN. Print output to STDOUT\n",
    "from collections import defaultdict\n",
    "\n",
    "a = defaultdict(list)\n",
    "num_A, num_B = map(int, raw_input().split())\n",
    "for i in range(num_A):\n",
    "    word = raw_input()\n",
    "    a[word].append(str(i+1))\n",
    "for j in range(num_B):\n",
    "    word_b = raw_input()\n",
    "    if word_b in a:\n",
    "        print \" \".join(a[word_b])\n",
    "    else:\n",
    "        print '-1'"
   ]
  },
  {
   "cell_type": "markdown",
   "metadata": {},
   "source": [
    "Answer to Collections.namedtuple(): https://www.hackerrank.com/challenges/py-collections-namedtuple/problem"
   ]
  },
  {
   "cell_type": "code",
   "execution_count": null,
   "metadata": {
    "collapsed": true
   },
   "outputs": [],
   "source": [
    "# Enter your code here. Read input from STDIN. Print output to STDOUT\n",
    "from collections import namedtuple\n",
    "N = input()\n",
    "Student = namedtuple('Student', raw_input().split())\n",
    "student_list = []\n",
    "for i in range(N):\n",
    "    student_list.append(Student(*(raw_input().split())))\n",
    "print \"{:.2f}\".format(sum([float(student.MARKS) for student in student_list])/len(student_list))"
   ]
  },
  {
   "cell_type": "markdown",
   "metadata": {},
   "source": [
    "Answer to Collections.OrderedDict(): https://www.hackerrank.com/challenges/py-collections-ordereddict/problem"
   ]
  },
  {
   "cell_type": "code",
   "execution_count": null,
   "metadata": {
    "collapsed": true
   },
   "outputs": [],
   "source": [
    "# Enter your code here. Read input from STDIN. Print output to STDOUT\n",
    "from collections import OrderedDict\n",
    "supermarket_dict = OrderedDict()\n",
    "for _ in range(input()):\n",
    "    k = raw_input().split()\n",
    "    item_name, price = \" \".join(k[:-1]), int(k[-1])\n",
    "    if item_name in supermarket_dict:\n",
    "        supermarket_dict[item_name] += price\n",
    "    else:\n",
    "        supermarket_dict[item_name] = price\n",
    "for name, price in supermarket_dict.iteritems():\n",
    "    print name, price"
   ]
  },
  {
   "cell_type": "markdown",
   "metadata": {},
   "source": [
    "Answer to Word Order: https://www.hackerrank.com/challenges/word-order/problem"
   ]
  },
  {
   "cell_type": "code",
   "execution_count": null,
   "metadata": {
    "collapsed": true
   },
   "outputs": [],
   "source": [
    "# Enter your code here. Read input from STDIN. Print output to STDOUT\n",
    "from collections import OrderedDict\n",
    "word_dict = OrderedDict()\n",
    "for _ in range(input()):\n",
    "    word = raw_input()\n",
    "    word_dict[word] = word_dict.get(word, 0) + 1\n",
    "print len(word_dict) \n",
    "print \" \".join(map(str,word_dict.values()))"
   ]
  },
  {
   "cell_type": "markdown",
   "metadata": {},
   "source": [
    "Answer to Collections.deque(): https://www.hackerrank.com/challenges/py-collections-deque/problem"
   ]
  },
  {
   "cell_type": "code",
   "execution_count": null,
   "metadata": {
    "collapsed": true
   },
   "outputs": [],
   "source": [
    "# Enter your code here. Read input from STDIN. Print output to STDOUT\n",
    "from collections import deque\n",
    "d = deque()\n",
    "for _ in range(input()):\n",
    "    action = raw_input().split()\n",
    "    if len(action)>1: #Action with a number input\n",
    "        eval('d.'+action[0]+'('+action[1]+')')\n",
    "    else: #Action word only\n",
    "        eval('d.'+action[0]+'()')\n",
    "print ' '.join(map(str,d))"
   ]
  },
  {
   "cell_type": "markdown",
   "metadata": {},
   "source": [
    "Answer to Piling Up!: https://www.hackerrank.com/challenges/piling-up/problem"
   ]
  },
  {
   "cell_type": "code",
   "execution_count": null,
   "metadata": {
    "collapsed": true
   },
   "outputs": [],
   "source": [
    "# Enter your code here. Read input from STDIN. Print output to STDOUT\n",
    "from collections import deque\n",
    "\n",
    "def stack_cubes(cube_deque):\n",
    "    #Iterate over entire stack of cubes\n",
    "    biggest_cube = 2**31 #Create floor for cubes\n",
    "    while len(cube_deque)>=1:\n",
    "        if cube_deque[0] >= cube_deque[-1]:\n",
    "            if cube_deque[0] > biggest_cube:\n",
    "                return 'No'\n",
    "            biggest_cube = cube_deque.popleft()\n",
    "        else:\n",
    "            if cube_deque[-1] > biggest_cube:\n",
    "                return 'No'\n",
    "            biggest_cube = cube_deque.pop()\n",
    "    return 'Yes'         \n",
    "\n",
    "d = deque()\n",
    "for _ in range(input()):\n",
    "    n_cubes = input()\n",
    "    d.extend(map(int, raw_input().split()))\n",
    "    print stack_cubes(d)\n",
    "    d.clear()"
   ]
  },
  {
   "cell_type": "markdown",
   "metadata": {},
   "source": [
    "Answer to Most Common: https://www.hackerrank.com/challenges/most-commons/problem"
   ]
  },
  {
   "cell_type": "code",
   "execution_count": null,
   "metadata": {
    "collapsed": true
   },
   "outputs": [],
   "source": [
    "#!/bin/python\n",
    "\n",
    "import sys\n",
    "from collections import Counter\n",
    "\n",
    "if __name__ == \"__main__\":\n",
    "    s = raw_input().strip()\n",
    "    for common_char in sorted(Counter(s).most_common(3), key=lambda char: (-char[1],char[0])):\n",
    "        print common_char[0], common_char[1]\n"
   ]
  },
  {
   "cell_type": "markdown",
   "metadata": {},
   "source": [
    "#### Calendar challenges\n",
    "Answer to Calendar Module: https://www.hackerrank.com/challenges/calendar-module"
   ]
  },
  {
   "cell_type": "code",
   "execution_count": null,
   "metadata": {
    "collapsed": true
   },
   "outputs": [],
   "source": [
    "# Enter your code here. Read input from STDIN. Print output to STDOUT\n",
    "import calendar\n",
    "month, day, year = map(int, raw_input().split())\n",
    "days_of_week = ['MONDAY', 'TUESDAY', 'WEDNESDAY', 'THURSDAY', 'FRIDAY', 'SATURDAY', 'SUNDAY']\n",
    "print days_of_week[calendar.weekday(year, month, day)]"
   ]
  },
  {
   "cell_type": "markdown",
   "metadata": {},
   "source": [
    "Answer to Time Delta: https://www.hackerrank.com/challenges/python-time-delta/problem\n",
    "Note: This code is written in Python 3 format.  The strptime() function no longer has the %z feature working correctly in Python 2."
   ]
  },
  {
   "cell_type": "code",
   "execution_count": null,
   "metadata": {
    "collapsed": true
   },
   "outputs": [],
   "source": [
    "# Enter your code here. Read input from STDIN. Print output to STDOUT\n",
    "from datetime import datetime\n",
    "\n",
    "n = input()\n",
    "for a0 in range(int(n)):\n",
    "    timestamp1 = datetime.strptime(input().strip(), '%a %d %b %Y %H:%M:%S %z')\n",
    "    timestamp2 = datetime.strptime(input().strip(), '%a %d %b %Y %H:%M:%S %z')\n",
    "    time_difference = timestamp1 - timestamp2\n",
    "    print (abs(int(time_difference.total_seconds())))"
   ]
  },
  {
   "cell_type": "markdown",
   "metadata": {},
   "source": [
    "#### Errors and Exceptions challenges\n",
    "Answer to Exceptions: https://www.hackerrank.com/challenges/exceptions"
   ]
  },
  {
   "cell_type": "code",
   "execution_count": null,
   "metadata": {
    "collapsed": true
   },
   "outputs": [],
   "source": [
    "# Enter your code here. Read input from STDIN. Print output to STDOUT\n",
    "n = input()\n",
    "for a0 in range(n):\n",
    "    try:\n",
    "        num1, num2 = map(int, raw_input().split())\n",
    "        try:\n",
    "            print num1/num2\n",
    "        except ZeroDivisionError as e:\n",
    "            print 'Error Code:', e \n",
    "    except ValueError as e:\n",
    "        print 'Error Code:', e"
   ]
  },
  {
   "cell_type": "markdown",
   "metadata": {},
   "source": [
    "Answer to Incorrect Regex: https://www.hackerrank.com/challenges/incorrect-regex"
   ]
  },
  {
   "cell_type": "code",
   "execution_count": null,
   "metadata": {
    "collapsed": true
   },
   "outputs": [],
   "source": [
    "# Enter your code here. Read input from STDIN. Print output to STDOUT\n",
    "import re\n",
    "\n",
    "for i in range(input()):\n",
    "    try:\n",
    "        re.compile(raw_input())\n",
    "        print True\n",
    "    except re.error:\n",
    "        print False "
   ]
  },
  {
   "cell_type": "markdown",
   "metadata": {},
   "source": [
    "#### Classes challenges\n",
    "Answer to Classes: Dealing with Complex Numbers: https://www.hackerrank.com/challenges/class-1-dealing-with-complex-numbers/problem"
   ]
  },
  {
   "cell_type": "code",
   "execution_count": null,
   "metadata": {
    "collapsed": true
   },
   "outputs": [],
   "source": [
    "class Complex(object):\n",
    "    def __init__(self, real, imaginary):\n",
    "        self.real = real\n",
    "        self.imaginary = imaginary\n",
    "        \n",
    "    def __add__(self, no):\n",
    "        add_real = self.real + no.real \n",
    "        add_imaginary = self.imaginary+no.imaginary\n",
    "        return Complex(add_real,add_imaginary)\n",
    "    \n",
    "    def __sub__(self, no):\n",
    "        sub_real = self.real-no.real\n",
    "        sub_imaginary = self.imaginary-no.imaginary\n",
    "        return Complex(sub_real,sub_imaginary)\n",
    "        \n",
    "    def __mul__(self, no):\n",
    "        mul_real = self.real*no.real - self.imaginary*no.imaginary\n",
    "        mul_imaginary = self.real*no.imaginary + no.real*self.imaginary\n",
    "        return Complex(mul_real,mul_imaginary)\n",
    "\n",
    "    def __div__(self, no):\n",
    "        #Multiply top and bottom by conjugate of the denominator\n",
    "        no_conjugate = Complex(no.real, -no.imaginary)\n",
    "        div_top = self.__mul__(no_conjugate)\n",
    "        div_bottom = no.__mul__(no_conjugate)\n",
    "        #Can divide by 'real' part of div_bottom as 'imgarinary' part = 0\n",
    "        div_real = div_top.real/div_bottom.real\n",
    "        div_imaginary = div_top.imaginary/div_bottom.real\n",
    "        return Complex(div_real,div_imaginary)\n",
    "        \n",
    "    def mod(self):\n",
    "        mod_real = (self.real**2+self.imaginary**2)**0.5\n",
    "        mod_imaginary = 0.0\n",
    "        return Complex(mod_real, mod_imaginary)\n",
    "\n",
    "    def __str__(self):\n",
    "        if self.imaginary == 0:\n",
    "            result = \"%.2f+0.00i\" % (self.real)\n",
    "        elif self.real == 0:\n",
    "            if self.imaginary >= 0:\n",
    "                result = \"0.00+%.2fi\" % (self.imaginary)\n",
    "            else:\n",
    "                result = \"0.00-%.2fi\" % (abs(self.imaginary))\n",
    "        elif self.imaginary > 0:\n",
    "            result = \"%.2f+%.2fi\" % (self.real, self.imaginary)\n",
    "        else:\n",
    "            result = \"%.2f-%.2fi\" % (self.real, abs(self.imaginary))\n",
    "        return result\n"
   ]
  },
  {
   "cell_type": "markdown",
   "metadata": {},
   "source": [
    "Answer to Class 2 - Find the Torsional Angle: https://www.hackerrank.com/challenges/class-2-find-the-torsional-angle/problem"
   ]
  },
  {
   "cell_type": "code",
   "execution_count": null,
   "metadata": {
    "collapsed": true
   },
   "outputs": [],
   "source": [
    "class Points(object):\n",
    "    def __init__(self, x, y, z):\n",
    "        self.x = x\n",
    "        self.y = y\n",
    "        self.z = z\n",
    "\n",
    "    def __sub__(self, no):\n",
    "        return Points(self.x-no.x, self.y-no.y, self.z-no.z)\n",
    "\n",
    "    def dot(self, no):\n",
    "        return self.x*no.x + self.y*no.y + self.z*no.z\n",
    "\n",
    "    def cross(self, no):\n",
    "        return Points(self.y*no.z-self.z*no.y, self.z*no.x-self.x*no.z,self.x*no.y-self.y*no.x)\n",
    "        \n",
    "    def absolute(self):\n",
    "        return pow((self.x ** 2 + self.y ** 2 + self.z ** 2), 0.5)"
   ]
  },
  {
   "cell_type": "markdown",
   "metadata": {},
   "source": [
    "#### Built-In challenges\n",
    "Answer to Zipped!: https://www.hackerrank.com/challenges/zipped/problem"
   ]
  },
  {
   "cell_type": "code",
   "execution_count": null,
   "metadata": {
    "collapsed": true
   },
   "outputs": [],
   "source": [
    "# Enter your code here. Read input from STDIN. Print output to STDOUT\n",
    "students, tests = map(int, raw_input().split())\n",
    "X=[]\n",
    "for a0 in range(tests):\n",
    "    scores = map(float, raw_input().split())\n",
    "    X.append(scores)\n",
    "total_scores = map(sum, zip(*X))\n",
    "for total in total_scores:\n",
    "    print total/tests"
   ]
  },
  {
   "cell_type": "markdown",
   "metadata": {},
   "source": [
    "Answer to Input(): https://www.hackerrank.com/challenges/input"
   ]
  },
  {
   "cell_type": "code",
   "execution_count": null,
   "metadata": {
    "collapsed": true
   },
   "outputs": [],
   "source": [
    "# Enter your code here. Read input from STDIN. Print output to STDOUT\n",
    "x, k = map(int, raw_input().split())\n",
    "print input() == k"
   ]
  },
  {
   "cell_type": "markdown",
   "metadata": {},
   "source": [
    "Answer to Python Evaluation: https://www.hackerrank.com/challenges/python-eval/problem"
   ]
  },
  {
   "cell_type": "code",
   "execution_count": null,
   "metadata": {
    "collapsed": true
   },
   "outputs": [],
   "source": [
    "# Enter your code here. Read input from STDIN. Print output to STDOUT\n",
    "from __future__ import print_function\n",
    "eval(raw_input())"
   ]
  },
  {
   "cell_type": "markdown",
   "metadata": {},
   "source": [
    "Answer to Sort Data: https://www.hackerrank.com/challenges/python-sort-sort"
   ]
  },
  {
   "cell_type": "code",
   "execution_count": null,
   "metadata": {
    "collapsed": true
   },
   "outputs": [],
   "source": [
    "#!/bin/python\n",
    "\n",
    "import sys\n",
    "\n",
    "if __name__ == \"__main__\":\n",
    "    n, m = raw_input().strip().split(' ')\n",
    "    n, m = [int(n), int(m)]\n",
    "    arr = []\n",
    "    for arr_i in xrange(n):\n",
    "        arr_temp = map(int,raw_input().strip().split(' '))\n",
    "        arr.append(arr_temp)\n",
    "    k = int(raw_input().strip())\n",
    "arr.sort(key = lambda line: line[k])\n",
    "for line in arr:\n",
    "    print ' '.join(str(p) for p in line)"
   ]
  },
  {
   "cell_type": "markdown",
   "metadata": {},
   "source": [
    "Answer to Any or All: https://www.hackerrank.com/challenges/any-or-all"
   ]
  },
  {
   "cell_type": "code",
   "execution_count": null,
   "metadata": {
    "collapsed": true
   },
   "outputs": [],
   "source": [
    "# Enter your code here. Read input from STDIN. Print output to STDOUT\n",
    "N = input()\n",
    "numbers = map(int, raw_input().split())\n",
    "print all([all([num>0 for num in numbers]), any([str(num)==str(num)[::-1] for num in numbers])])"
   ]
  },
  {
   "cell_type": "markdown",
   "metadata": {},
   "source": [
    "Answer to ginortS: https://www.hackerrank.com/challenges/ginorts/problem"
   ]
  },
  {
   "cell_type": "code",
   "execution_count": null,
   "metadata": {
    "collapsed": true
   },
   "outputs": [],
   "source": [
    "# Enter your code here. Read input from STDIN. Print output to STDOUT\n",
    "from __future__ import print_function\n",
    "def sort_rules(s):\n",
    "    if ord(s) <= 122 and ord(s) >= 97:\n",
    "        return ord(s)%97\n",
    "    if ord(s) <= 90 and ord(s) >= 65:\n",
    "        return ord(s)%65 + 27\n",
    "    if int(s) % 2 == 1:\n",
    "        return int(s) + 54\n",
    "    return int(s) + 65\n",
    "\n",
    "S = raw_input()\n",
    "print (*sorted(S, key=lambda x: sort_rules(x)), sep = '')"
   ]
  },
  {
   "cell_type": "markdown",
   "metadata": {
    "collapsed": true
   },
   "source": [
    "#### Python Functionals challenges:\n",
    "Answer to Map and Lambda Function: https://www.hackerrank.com/challenges/map-and-lambda-expression/problem\n",
    "Used discussion to make shorter fibonacci function."
   ]
  },
  {
   "cell_type": "code",
   "execution_count": null,
   "metadata": {
    "collapsed": true
   },
   "outputs": [],
   "source": [
    "cube = lambda x: x**3 # complete the lambda function \n",
    "\n",
    "def fibonacci(n):\n",
    "    lis = [0,1]\n",
    "    for i in range(2,n):\n",
    "        lis.append(lis[i-2] + lis[i-1])\n",
    "    return(lis[0:n])"
   ]
  },
  {
   "cell_type": "markdown",
   "metadata": {},
   "source": [
    "Answer to Validating Email Addresses With a Filter: https://www.hackerrank.com/challenges/validate-list-of-email-address-with-filter/problem"
   ]
  },
  {
   "cell_type": "code",
   "execution_count": null,
   "metadata": {
    "collapsed": true
   },
   "outputs": [],
   "source": [
    "import re\n",
    "\n",
    "def fun(s):\n",
    "    # return True if s is a valid email, else return False\n",
    "    email = re.split('\\@|\\.', s)\n",
    "    for part in email:\n",
    "        if len(part) == 0:\n",
    "            return False\n",
    "    if len(email) != 3:\n",
    "        return False\n",
    "    for char in email[0]:\n",
    "        if not (char.isalnum() or char=='-' or char=='_'):\n",
    "            return False\n",
    "    if not email[1].isalnum():\n",
    "        return False\n",
    "    if not len(email[2]) <= 3:\n",
    "        return False\n",
    "    return True"
   ]
  },
  {
   "cell_type": "markdown",
   "metadata": {},
   "source": [
    "Answer to Reduce Function: https://www.hackerrank.com/challenges/reduce-function/problem"
   ]
  },
  {
   "cell_type": "code",
   "execution_count": null,
   "metadata": {
    "collapsed": true
   },
   "outputs": [],
   "source": [
    "def product(fracs):\n",
    "    t = reduce(lambda x,y: x*y, fracs)# complete this line with a reduce statement\n",
    "    return t.numerator, t.denominator"
   ]
  },
  {
   "cell_type": "markdown",
   "metadata": {},
   "source": [
    "#### Regex and Parsing Challenges\n",
    "Answer to Re.split(): https://www.hackerrank.com/challenges/re-split/problem"
   ]
  },
  {
   "cell_type": "code",
   "execution_count": null,
   "metadata": {
    "collapsed": true
   },
   "outputs": [],
   "source": [
    "# Enter your code here. Read input from STDIN. Print output to STDOUT\n",
    "import re\n",
    "print '\\n'.join([x for x in re.split(r'[,\\.]+', raw_input()) if x is not None])"
   ]
  },
  {
   "cell_type": "markdown",
   "metadata": {},
   "source": [
    "Answer to Group(), Groups() & Groupdict(): https://www.hackerrank.com/challenges/re-group-groups/problem"
   ]
  },
  {
   "cell_type": "code",
   "execution_count": null,
   "metadata": {
    "collapsed": true
   },
   "outputs": [],
   "source": [
    "# Enter your code here. Read input from STDIN. Print output to STDOUT\n",
    "import re\n",
    "m = re.search(r'([a-zA-Z0-9])\\1', raw_input())\n",
    "if m:\n",
    "    print m.group(1)\n",
    "else:\n",
    "    print -1"
   ]
  },
  {
   "cell_type": "markdown",
   "metadata": {},
   "source": [
    "Answer to Re.findall() & Re.finditer(): https://www.hackerrank.com/challenges/re-findall-re-finditer/problem"
   ]
  },
  {
   "cell_type": "code",
   "execution_count": null,
   "metadata": {
    "collapsed": true
   },
   "outputs": [],
   "source": [
    "# Enter your code here. Read input from STDIN. Print output to STDOUT\n",
    "import re\n",
    "\n",
    "vowels = re.findall(r'(?<=[^AEIOUaeiou])[AEIOUaeiou]{2,}(?=[^AEIOUaeiou])', raw_input())\n",
    "if vowels:\n",
    "    print '\\n'.join(vowels)\n",
    "else:\n",
    "    print -1"
   ]
  },
  {
   "cell_type": "markdown",
   "metadata": {},
   "source": [
    "Answer to Re.start() & Re.end(): https://www.hackerrank.com/challenges/re-start-re-end/problem"
   ]
  },
  {
   "cell_type": "code",
   "execution_count": null,
   "metadata": {
    "collapsed": true
   },
   "outputs": [],
   "source": [
    "# Enter your code here. Read input from STDIN. Print output to STDOUT\n",
    "import re\n",
    "S,k = raw_input(), re.compile(raw_input())\n",
    "m = k.search(S)\n",
    "if m:\n",
    "    while m:\n",
    "        print (m.start(), m.end()-1)\n",
    "        m = k.search(S,m.start()+1)\n",
    "else:\n",
    "    print (-1, -1)"
   ]
  },
  {
   "cell_type": "markdown",
   "metadata": {},
   "source": [
    "Answer to Regex Substitution: https://www.hackerrank.com/challenges/re-sub-regex-substitution/problem"
   ]
  },
  {
   "cell_type": "code",
   "execution_count": null,
   "metadata": {
    "collapsed": true
   },
   "outputs": [],
   "source": [
    "# Enter your code here. Read input from STDIN. Print output to STDOUT\n",
    "import re\n",
    "\n",
    "def andor_text(matchobject):\n",
    "    if matchobject.group(0) == '&&':\n",
    "        return 'and'\n",
    "    return 'or'\n",
    "\n",
    "for _ in range(input()):\n",
    "    print re.sub(r'(?<=\\s)(&&|\\|\\|)(?=\\s)', andor_text,raw_input())"
   ]
  },
  {
   "cell_type": "markdown",
   "metadata": {},
   "source": [
    "Answer to Validating phone numbers: https://www.hackerrank.com/challenges/validating-the-phone-number/problem"
   ]
  },
  {
   "cell_type": "code",
   "execution_count": null,
   "metadata": {
    "collapsed": true
   },
   "outputs": [],
   "source": [
    "# Enter your code here. Read input from STDIN. Print output to STDOUT\n",
    "import re\n",
    "for _ in range(input()):\n",
    "    if bool(re.match(r'[7-9]\\d{9}$', raw_input())):\n",
    "        print 'YES'\n",
    "    else:\n",
    "        print 'NO'"
   ]
  },
  {
   "cell_type": "markdown",
   "metadata": {},
   "source": [
    "Answer to Validating and Parsing Email Addresses: https://www.hackerrank.com/challenges/validating-named-email-addresses/problem"
   ]
  },
  {
   "cell_type": "code",
   "execution_count": null,
   "metadata": {
    "collapsed": true
   },
   "outputs": [],
   "source": [
    "# Enter your code here. Read input from STDIN. Print output to STDOUT\n",
    "import re\n",
    "import email.utils\n",
    "\n",
    "for _ in range(input()):\n",
    "    name, emailaddress = email.utils.parseaddr(raw_input())\n",
    "    if bool(re.match(r'[a-zA-Z][\\w\\.\\-]*@[a-zA-Z]+\\.[a-zA-Z]{1,3}$', emailaddress)):\n",
    "        print email.utils.formataddr((name, emailaddress))"
   ]
  },
  {
   "cell_type": "markdown",
   "metadata": {},
   "source": [
    "Answer to Hex Color Code: https://www.hackerrank.com/challenges/hex-color-code/problem"
   ]
  },
  {
   "cell_type": "code",
   "execution_count": null,
   "metadata": {
    "collapsed": true
   },
   "outputs": [],
   "source": [
    "# Enter your code here. Read input from STDIN. Print output to STDOUT\n",
    "import re\n",
    "\n",
    "for _ in range(input()):\n",
    "    m = re.findall(r'(?<=[\\s:])(#[0-9a-fA-F]{6}|#[0-9a-fA-F]{3})', raw_input())\n",
    "    if m:\n",
    "        print '\\n'.join(m)"
   ]
  },
  {
   "cell_type": "markdown",
   "metadata": {},
   "source": [
    "Answer to HTML Parser - Part 1: https://www.hackerrank.com/challenges/html-parser-part-1/problem"
   ]
  },
  {
   "cell_type": "code",
   "execution_count": null,
   "metadata": {
    "collapsed": true
   },
   "outputs": [],
   "source": [
    "# Enter your code here. Read input from STDIN. Print output to STDOUT\n",
    "from HTMLParser import HTMLParser\n",
    "\n",
    "class MyHTMLParser(HTMLParser):\n",
    "    def handle_starttag(self, tag, attrs):\n",
    "        print \"Start :\", tag\n",
    "        for attr in attrs:\n",
    "            print \"->\", attr[0], \">\", attr[1]\n",
    "    def handle_endtag(self, tag):\n",
    "        print \"End   :\", tag\n",
    "    def handle_startendtag(self, tag, attrs):\n",
    "        print \"Empty :\", tag\n",
    "        for attr in attrs:\n",
    "            print \"->\", attr[0], \">\", attr[1]\n",
    "\n",
    "parser = MyHTMLParser()\n",
    "for _ in range(input()):\n",
    "    parser.feed(raw_input())"
   ]
  },
  {
   "cell_type": "markdown",
   "metadata": {},
   "source": [
    "Answer to HTML Parser - Part 2: https://www.hackerrank.com/challenges/html-parser-part-2/problem"
   ]
  },
  {
   "cell_type": "code",
   "execution_count": null,
   "metadata": {
    "collapsed": true
   },
   "outputs": [],
   "source": [
    "from HTMLParser import HTMLParser\n",
    "import re\n",
    "\n",
    "class MyHTMLParser(HTMLParser):\n",
    "    def handle_comment(self, data):\n",
    "        if re.search(r'\\n', data):\n",
    "            print \">>> Multi-line Comment\"           \n",
    "        else:\n",
    "            print \">>> Single-line Comment\"\n",
    "        print data  \n",
    "    def handle_data(self, data):\n",
    "        if data!='\\n':\n",
    "            print \">>> Data\"\n",
    "            print data\n",
    " \n",
    "  \n",
    "html = \"\"       \n",
    "for i in range(int(raw_input())):\n",
    "    html += raw_input().rstrip()\n",
    "    html += '\\n'\n",
    "    \n",
    "parser = MyHTMLParser()\n",
    "parser.feed(html)\n",
    "parser.close()"
   ]
  },
  {
   "cell_type": "markdown",
   "metadata": {},
   "source": [
    "Answer to Detect HTML Tags, Attributes and Attribute Values: https://www.hackerrank.com/challenges/detect-html-tags-attributes-and-attribute-values/problem"
   ]
  },
  {
   "cell_type": "code",
   "execution_count": null,
   "metadata": {
    "collapsed": true
   },
   "outputs": [],
   "source": [
    "# Enter your code here. Read input from STDIN. Print output to STDOUT\n",
    "from HTMLParser import HTMLParser\n",
    "\n",
    "class MyHTMLParser(HTMLParser):\n",
    "    def handle_starttag(self, tag, attrs):\n",
    "        print tag\n",
    "        for attr in attrs:\n",
    "            print \"->\", attr[0], \">\", attr[1]\n",
    "    def handle_startendtag(self, tag, attrs):\n",
    "        print tag\n",
    "        for attr in attrs:\n",
    "            print \"->\", attr[0], \">\", attr[1]\n",
    "\n",
    "parser = MyHTMLParser()\n",
    "for _ in range(input()):\n",
    "    parser.feed(raw_input())"
   ]
  },
  {
   "cell_type": "markdown",
   "metadata": {},
   "source": [
    "Answer to Validating UID: https://www.hackerrank.com/challenges/validating-uid/problem"
   ]
  },
  {
   "cell_type": "code",
   "execution_count": null,
   "metadata": {
    "collapsed": true
   },
   "outputs": [],
   "source": [
    "# Enter your code here. Read input from STDIN. Print output to STDOUT\n",
    "import re\n",
    "\n",
    "def validUID(UID):\n",
    "    #Check no repeats\n",
    "    if len(set(UID)) == len(UID):\n",
    "        #Check at least 2 upper case\n",
    "        if len(list(re.findall(r'[A-Z]', UID))) >= 2:\n",
    "            #Check at least 3 numbers\n",
    "            if len(list(re.findall(r'[0-9]', UID))) >= 3:\n",
    "                #Check for exactly 10 alphanumeric\n",
    "                if re.search(r'^[a-zA-Z0-9]{10}$', UID):\n",
    "                    return 'Valid'\n",
    "    return 'Invalid'\n",
    "\n",
    "for _ in range(input()):\n",
    "    print validUID(raw_input())"
   ]
  },
  {
   "cell_type": "markdown",
   "metadata": {},
   "source": [
    "Answer to Validating Credit Card Numbers: https://www.hackerrank.com/challenges/validating-credit-card-number/problem"
   ]
  },
  {
   "cell_type": "code",
   "execution_count": null,
   "metadata": {
    "collapsed": true
   },
   "outputs": [],
   "source": [
    "# Enter your code here. Read input from STDIN. Print output to STDOUT\n",
    "import re\n",
    "\n",
    "for _ in range(input()):\n",
    "    ccnumber = raw_input()\n",
    "    if re.match(r'^[456]\\d{3}(-?)\\d{4}\\1\\d{4}\\1\\d{4}$', ccnumber) and not re.search(r'(\\d)-?\\1-?\\1-?\\1', ccnumber):\n",
    "        print \"Valid\"\n",
    "    else:\n",
    "        print \"Invalid\""
   ]
  },
  {
   "cell_type": "markdown",
   "metadata": {},
   "source": [
    "Answer to Validating Postal Codes: https://www.hackerrank.com/challenges/validating-postalcode/problem"
   ]
  },
  {
   "cell_type": "code",
   "execution_count": null,
   "metadata": {
    "collapsed": true
   },
   "outputs": [],
   "source": [
    "# Enter your code here. Read input from STDIN. Print output to STDOUT\n",
    "import re\n",
    "\n",
    "def valid_postal_code(code):\n",
    "    try:\n",
    "        #A postal code must be a number in the range of (100000 - 999999)\n",
    "        #Check for less than 2 alternating digits\n",
    "        return int(code) > 100000 and int(code) < 999999 and len(re.findall(r'(\\d)(?=\\d\\1)', code)) < 2\n",
    "    except ValueError:\n",
    "        return False    \n",
    "\n",
    "print valid_postal_code(raw_input())"
   ]
  },
  {
   "cell_type": "markdown",
   "metadata": {},
   "source": [
    "Answer to Matrix Script: https://www.hackerrank.com/challenges/matrix-script/problem"
   ]
  },
  {
   "cell_type": "code",
   "execution_count": null,
   "metadata": {
    "collapsed": true
   },
   "outputs": [],
   "source": [
    "#!/bin/python\n",
    "\n",
    "import sys \n",
    "import re\n",
    "\n",
    "\n",
    "n, m = raw_input().strip().split(' ')\n",
    "n, m = [int(n), int(m)]\n",
    "matrix = []\n",
    "matrix_i = 0\n",
    "for matrix_i in xrange(n):\n",
    "    matrix_t = raw_input()\n",
    "    matrix.append(matrix_t)\n",
    "decoded = ''.join([x[y] for y in range(m) for x in matrix])\n",
    "print re.sub(r'(?<=\\w)[!@#\\$%&\\s]+(?=\\w)', ' ', decoded)"
   ]
  },
  {
   "cell_type": "markdown",
   "metadata": {},
   "source": [
    "#### Closures and Decorators Challenges\n",
    "Answer to Standardize Mobile Number Using Decorators: https://www.hackerrank.com/challenges/standardize-mobile-number-using-decorators/problem"
   ]
  },
  {
   "cell_type": "code",
   "execution_count": null,
   "metadata": {
    "collapsed": true
   },
   "outputs": [],
   "source": [
    "def wrapper(f):\n",
    "    def fun(l):\n",
    "        # complete the function\n",
    "        newl = []       \n",
    "        for number in l:\n",
    "            #0 in front\n",
    "            if len(number) == 11:\n",
    "                number = number[1:]\n",
    "            #91 in front\n",
    "            elif len(number) == 12:\n",
    "                number = number[2:]\n",
    "            #+91 in front\n",
    "            elif len(number) == 13:\n",
    "                number = number[3:]\n",
    "            newl.append('+91 '+str(number)[:5]+' '+str(number)[5:])\n",
    "        return f(newl)\n",
    "    return fun"
   ]
  },
  {
   "cell_type": "markdown",
   "metadata": {},
   "source": [
    "Answer to Decorators 2 - Name Directory: https://www.hackerrank.com/challenges/decorators-2-name-directory/problem"
   ]
  },
  {
   "cell_type": "code",
   "execution_count": null,
   "metadata": {
    "collapsed": true
   },
   "outputs": [],
   "source": [
    "def person_lister(f):\n",
    "    def inner(people):\n",
    "        # complete the function\n",
    "        int_people = [person[0:2]+[int(person[2])]+person[3:] for person in people]\n",
    "        int_people.sort(key=operator.itemgetter(2))\n",
    "        return [f(person) for person in int_people]\n",
    "    return inner"
   ]
  },
  {
   "cell_type": "markdown",
   "metadata": {},
   "source": [
    "#### Numpy Challenges\n",
    "Answer to Arrays: https://www.hackerrank.com/challenges/np-arrays/problem"
   ]
  },
  {
   "cell_type": "code",
   "execution_count": null,
   "metadata": {
    "collapsed": true
   },
   "outputs": [],
   "source": [
    "def arrays(arr):\n",
    "    # complete this function\n",
    "    # use numpy.array\n",
    "    arr_float = numpy.array(arr,float)\n",
    "    return numpy.flip(arr_float, 0)"
   ]
  },
  {
   "cell_type": "markdown",
   "metadata": {},
   "source": [
    "Answer to Shape and Reshape: https://www.hackerrank.com/challenges/np-shape-reshape/problem"
   ]
  },
  {
   "cell_type": "code",
   "execution_count": null,
   "metadata": {
    "collapsed": true
   },
   "outputs": [],
   "source": [
    "import numpy\n",
    "arr = map(int, raw_input().split())\n",
    "print numpy.reshape(numpy.array(arr), (3,3))"
   ]
  },
  {
   "cell_type": "markdown",
   "metadata": {},
   "source": [
    "Answer to Transpose and Flatten: https://www.hackerrank.com/challenges/np-transpose-and-flatten/problem"
   ]
  },
  {
   "cell_type": "code",
   "execution_count": null,
   "metadata": {
    "collapsed": true
   },
   "outputs": [],
   "source": [
    "import numpy\n",
    "n, m = map(int, raw_input().split())\n",
    "arr=[]\n",
    "for a0 in range(n):\n",
    "    arr.append(map(int, raw_input().split()))\n",
    "my_array = numpy.array(arr)\n",
    "print numpy.transpose(my_array)\n",
    "print my_array.flatten()"
   ]
  },
  {
   "cell_type": "markdown",
   "metadata": {},
   "source": [
    "Answer to Concatenate: https://www.hackerrank.com/challenges/np-concatenate/problem"
   ]
  },
  {
   "cell_type": "code",
   "execution_count": null,
   "metadata": {
    "collapsed": true
   },
   "outputs": [],
   "source": [
    "import numpy\n",
    "n,m,p = map(int, raw_input().split())\n",
    "arr1  = numpy.array([map(int, raw_input().split()) for i in range(n)])\n",
    "arr2 =  numpy.array([map(int, raw_input().split()) for i in range(m)])\n",
    "\n",
    "print numpy.concatenate((arr1,arr2))"
   ]
  },
  {
   "cell_type": "markdown",
   "metadata": {},
   "source": [
    "Answer to Zeros and Ones: https://www.hackerrank.com/challenges/np-zeros-and-ones/problem"
   ]
  },
  {
   "cell_type": "code",
   "execution_count": null,
   "metadata": {
    "collapsed": true
   },
   "outputs": [],
   "source": [
    "import numpy\n",
    "shape = map(int, raw_input().split())\n",
    "print numpy.zeros(tuple(shape), dtype = numpy.int)\n",
    "print numpy.ones(tuple(shape), dtype = numpy.int)"
   ]
  },
  {
   "cell_type": "markdown",
   "metadata": {},
   "source": [
    "Answer to Floor, Ceil and Rint: https://www.hackerrank.com/challenges/floor-ceil-and-rint/problem"
   ]
  },
  {
   "cell_type": "code",
   "execution_count": null,
   "metadata": {
    "collapsed": true
   },
   "outputs": [],
   "source": [
    "import numpy\n",
    "\n",
    "myarray = numpy.array(map(float, raw_input().split()))\n",
    "print numpy.floor(myarray)\n",
    "print numpy.ceil(myarray)\n",
    "print numpy.rint(myarray)"
   ]
  },
  {
   "cell_type": "markdown",
   "metadata": {},
   "source": [
    "Answer to Sum and Prod: https://www.hackerrank.com/challenges/np-sum-and-prod/problem"
   ]
  },
  {
   "cell_type": "code",
   "execution_count": null,
   "metadata": {
    "collapsed": true
   },
   "outputs": [],
   "source": [
    "import numpy\n",
    "n, m = map(int, raw_input().split())\n",
    "nmarray = []\n",
    "for _ in range(n):\n",
    "    nmarray.append(map(int, raw_input().split()))\n",
    "myarray = numpy.array(nmarray)\n",
    "print numpy.product(numpy.sum(myarray, axis=0))"
   ]
  },
  {
   "cell_type": "markdown",
   "metadata": {},
   "source": [
    "Answer to Min and Max: https://www.hackerrank.com/challenges/np-min-and-max/problem"
   ]
  },
  {
   "cell_type": "code",
   "execution_count": null,
   "metadata": {
    "collapsed": true
   },
   "outputs": [],
   "source": [
    "import numpy\n",
    "n, m = map(int, raw_input().split())\n",
    "nmarray = []\n",
    "for _ in range(n):\n",
    "    nmarray.append(map(int, raw_input().split()))\n",
    "myarray = numpy.array(nmarray)\n",
    "print numpy.max(numpy.min(myarray, axis=1))"
   ]
  },
  {
   "cell_type": "markdown",
   "metadata": {},
   "source": [
    "Answer to Mean, Var, and Std: https://www.hackerrank.com/challenges/np-mean-var-and-std/problem"
   ]
  },
  {
   "cell_type": "code",
   "execution_count": null,
   "metadata": {
    "collapsed": true
   },
   "outputs": [],
   "source": [
    "import numpy\n",
    "n, m = map(int, raw_input().split())\n",
    "nmarray = []\n",
    "for _ in range(n):\n",
    "    nmarray.append(map(int, raw_input().split()))\n",
    "myarray = numpy.array(nmarray)\n",
    "print numpy.mean(myarray, axis=1)\n",
    "print numpy.var(myarray, axis=0)\n",
    "print numpy.std(myarray)"
   ]
  },
  {
   "cell_type": "markdown",
   "metadata": {},
   "source": [
    "Answer to Dot and Cross: https://www.hackerrank.com/challenges/np-dot-and-cross/problem"
   ]
  },
  {
   "cell_type": "code",
   "execution_count": null,
   "metadata": {
    "collapsed": true
   },
   "outputs": [],
   "source": [
    "import numpy\n",
    "n = input()\n",
    "matrixA = []\n",
    "for _ in range(n):\n",
    "    matrixA.append(map(int, raw_input().split()))\n",
    "arrayA = numpy.array(matrixA)\n",
    "matrixB = []\n",
    "for _ in range(n):\n",
    "    matrixB.append(map(int, raw_input().split()))\n",
    "arrayB = numpy.array(matrixB)\n",
    "print numpy.dot(matrixA, matrixB)"
   ]
  },
  {
   "cell_type": "markdown",
   "metadata": {},
   "source": [
    "Answer to Inner and Outer: https://www.hackerrank.com/challenges/np-inner-and-outer/problem"
   ]
  },
  {
   "cell_type": "code",
   "execution_count": null,
   "metadata": {
    "collapsed": true
   },
   "outputs": [],
   "source": [
    "import numpy\n",
    "arrayA = numpy.array(map(int,raw_input().split()))\n",
    "arrayB = numpy.array(map(int,raw_input().split()))\n",
    "print numpy.inner(arrayA, arrayB)\n",
    "print numpy.outer(arrayA, arrayB)"
   ]
  },
  {
   "cell_type": "markdown",
   "metadata": {},
   "source": [
    "Answer to Polynomials: https://www.hackerrank.com/challenges/np-polynomials/problem"
   ]
  },
  {
   "cell_type": "code",
   "execution_count": null,
   "metadata": {
    "collapsed": true
   },
   "outputs": [],
   "source": [
    "import numpy\n",
    "P = map(float, raw_input().split())\n",
    "print numpy.polyval(P, input())"
   ]
  },
  {
   "cell_type": "markdown",
   "metadata": {},
   "source": [
    "Answer to Linear Algebra: https://www.hackerrank.com/challenges/np-linear-algebra/problem"
   ]
  },
  {
   "cell_type": "code",
   "execution_count": null,
   "metadata": {
    "collapsed": true
   },
   "outputs": [],
   "source": [
    "import numpy\n",
    "n = input()\n",
    "n_array = []\n",
    "for _ in range(n):\n",
    "    n_array.append(map(float, raw_input().split()))\n",
    "myarray = numpy.array(n_array)\n",
    "print numpy.linalg.det(myarray)"
   ]
  }
 ],
 "metadata": {
  "kernelspec": {
   "display_name": "Python 2",
   "language": "python",
   "name": "python2"
  },
  "language_info": {
   "codemirror_mode": {
    "name": "ipython",
    "version": 2
   },
   "file_extension": ".py",
   "mimetype": "text/x-python",
   "name": "python",
   "nbconvert_exporter": "python",
   "pygments_lexer": "ipython2",
   "version": "2.7.13"
  }
 },
 "nbformat": 4,
 "nbformat_minor": 2
}
